{
 "cells": [
  {
   "cell_type": "code",
   "execution_count": 1,
   "id": "c99ae64c",
   "metadata": {},
   "outputs": [],
   "source": [
    "import os\n",
    "import numpy as np\n",
    "import pandas as pd\n",
    "\n",
    "import matplotlib.pyplot as plt\n",
    "import seaborn as sns\n",
    "\n",
    "from sklearn.model_selection import LeaveOneOut\n",
    "from sklearn.linear_model import LogisticRegression\n",
    "from sklearn.metrics import roc_auc_score\n",
    "from sklearn.metrics import classification_report\n",
    "\n",
    "pd.set_option('display.max_columns', None)\n",
    "pd.set_option('display.max_rows', None)"
   ]
  },
  {
   "cell_type": "code",
   "execution_count": 2,
   "id": "9fc5be15",
   "metadata": {},
   "outputs": [],
   "source": [
    "train = pd.read_csv(\"../data/train.csv\").sample(frac=1.0)\n",
    "test = pd.read_csv(\"../data/test.csv\")\n",
    "submission = pd.read_csv(\"../data/sample_submission.csv\")\n",
    "\n",
    "f_cols = [col for col in train.columns if col not in [\"id\", \"target\"]]"
   ]
  },
  {
   "cell_type": "code",
   "execution_count": 3,
   "id": "31dcac9f",
   "metadata": {},
   "outputs": [],
   "source": [
    "def get_predictions(x):\n",
    "    return [1 if xi >= 0.5 else 0 for xi in x]"
   ]
  },
  {
   "cell_type": "code",
   "execution_count": 4,
   "id": "4af50d39",
   "metadata": {},
   "outputs": [],
   "source": [
    "X, y = train[f_cols].values, train[\"target\"].values"
   ]
  },
  {
   "cell_type": "code",
   "execution_count": 5,
   "id": "7c055f7f",
   "metadata": {},
   "outputs": [
    {
     "data": {
      "text/plain": [
       "(250, 300)"
      ]
     },
     "execution_count": 5,
     "metadata": {},
     "output_type": "execute_result"
    }
   ],
   "source": [
    "X.shape"
   ]
  },
  {
   "cell_type": "code",
   "execution_count": 6,
   "id": "7afc1003",
   "metadata": {},
   "outputs": [
    {
     "name": "stdout",
     "output_type": "stream",
     "text": [
      "Models AUC score: 0.7685416666666666\n",
      "              precision    recall  f1-score   support\n",
      "\n",
      "         0.0       0.63      0.52      0.57        90\n",
      "         1.0       0.75      0.82      0.79       160\n",
      "\n",
      "    accuracy                           0.72       250\n",
      "   macro avg       0.69      0.67      0.68       250\n",
      "weighted avg       0.71      0.72      0.71       250\n",
      "\n"
     ]
    }
   ],
   "source": [
    "loo = LeaveOneOut()\n",
    "preds = np.zeros(len(y))\n",
    "for i, (train_index, test_index) in enumerate(loo.split(X)):\n",
    "    X_train, X_test = X[train_index], X[test_index]\n",
    "    y_train = y[train_index]\n",
    "    clf = LogisticRegression(random_state=0, C=1.).fit(X_train, y_train)\n",
    "    preds[test_index] = clf.predict_proba(X_test)[:,1]\n",
    "\n",
    "print(f\"Models AUC score: {roc_auc_score(y, preds)}\")\n",
    "print(classification_report(y, get_predictions(preds)))"
   ]
  },
  {
   "cell_type": "code",
   "execution_count": 7,
   "id": "71699c20",
   "metadata": {},
   "outputs": [],
   "source": [
    "# Logreg MLE\n",
    "log_reg = LogisticRegression(random_state=0, C=1.0).fit(X, y)"
   ]
  },
  {
   "cell_type": "code",
   "execution_count": 8,
   "id": "c2688ea0",
   "metadata": {},
   "outputs": [],
   "source": [
    "X_test = test[f_cols].values\n",
    "y_pred = log_reg.predict_proba(X_test)[:,1]\n",
    "submission[\"target\"] = y_pred"
   ]
  },
  {
   "cell_type": "code",
   "execution_count": 9,
   "id": "484030b8",
   "metadata": {},
   "outputs": [],
   "source": [
    "# LB result 0.74\n",
    "submission.to_csv(\"../submissions/09_logreg_MLE.csv\", index=False)"
   ]
  },
  {
   "cell_type": "code",
   "execution_count": 10,
   "id": "3156e5fa",
   "metadata": {},
   "outputs": [
    {
     "data": {
      "text/html": [
       "<div>\n",
       "<style scoped>\n",
       "    .dataframe tbody tr th:only-of-type {\n",
       "        vertical-align: middle;\n",
       "    }\n",
       "\n",
       "    .dataframe tbody tr th {\n",
       "        vertical-align: top;\n",
       "    }\n",
       "\n",
       "    .dataframe thead th {\n",
       "        text-align: right;\n",
       "    }\n",
       "</style>\n",
       "<table border=\"1\" class=\"dataframe\">\n",
       "  <thead>\n",
       "    <tr style=\"text-align: right;\">\n",
       "      <th></th>\n",
       "      <th>id</th>\n",
       "      <th>target</th>\n",
       "    </tr>\n",
       "  </thead>\n",
       "  <tbody>\n",
       "    <tr>\n",
       "      <th>0</th>\n",
       "      <td>250</td>\n",
       "      <td>0.247957</td>\n",
       "    </tr>\n",
       "    <tr>\n",
       "      <th>1</th>\n",
       "      <td>251</td>\n",
       "      <td>0.065619</td>\n",
       "    </tr>\n",
       "    <tr>\n",
       "      <th>2</th>\n",
       "      <td>252</td>\n",
       "      <td>0.758937</td>\n",
       "    </tr>\n",
       "    <tr>\n",
       "      <th>3</th>\n",
       "      <td>253</td>\n",
       "      <td>0.999923</td>\n",
       "    </tr>\n",
       "    <tr>\n",
       "      <th>4</th>\n",
       "      <td>254</td>\n",
       "      <td>0.278511</td>\n",
       "    </tr>\n",
       "  </tbody>\n",
       "</table>\n",
       "</div>"
      ],
      "text/plain": [
       "    id    target\n",
       "0  250  0.247957\n",
       "1  251  0.065619\n",
       "2  252  0.758937\n",
       "3  253  0.999923\n",
       "4  254  0.278511"
      ]
     },
     "execution_count": 10,
     "metadata": {},
     "output_type": "execute_result"
    }
   ],
   "source": [
    "# Score 0.740\n",
    "submission.head()"
   ]
  },
  {
   "cell_type": "markdown",
   "id": "bb07809e",
   "metadata": {},
   "source": [
    "# Gaussian logreg"
   ]
  },
  {
   "cell_type": "markdown",
   "id": "e2a1e245",
   "metadata": {},
   "source": [
    "## MAP l2 estimate C=0.3"
   ]
  },
  {
   "cell_type": "code",
   "execution_count": 11,
   "id": "0da8ca34",
   "metadata": {},
   "outputs": [
    {
     "name": "stdout",
     "output_type": "stream",
     "text": [
      "Models AUC score: 0.7697916666666667\n",
      "              precision    recall  f1-score   support\n",
      "\n",
      "         0.0       0.58      0.62      0.60        90\n",
      "         1.0       0.78      0.74      0.76       160\n",
      "\n",
      "    accuracy                           0.70       250\n",
      "   macro avg       0.68      0.68      0.68       250\n",
      "weighted avg       0.71      0.70      0.70       250\n",
      "\n"
     ]
    }
   ],
   "source": [
    "loo = LeaveOneOut()\n",
    "preds = np.zeros(len(y))\n",
    "for i, (train_index, test_index) in enumerate(loo.split(X)):\n",
    "    X_train, X_test = X[train_index], X[test_index]\n",
    "    y_train = y[train_index]\n",
    "    clf = LogisticRegression(random_state=0, C=.3, penalty=\"l2\", solver='liblinear').fit(X_train, y_train)\n",
    "    preds[test_index] = clf.predict_proba(X_test)[:,1]\n",
    "\n",
    "print(f\"Models AUC score: {roc_auc_score(y, preds)}\")\n",
    "print(classification_report(y, get_predictions(preds)))"
   ]
  },
  {
   "cell_type": "code",
   "execution_count": 12,
   "id": "02b80267",
   "metadata": {},
   "outputs": [],
   "source": [
    "log_reg = LogisticRegression(random_state=0, C=.3, penalty=\"l2\").fit(X_train, y_train)"
   ]
  },
  {
   "cell_type": "code",
   "execution_count": 13,
   "id": "442df90d",
   "metadata": {},
   "outputs": [
    {
     "data": {
      "text/html": [
       "<div>\n",
       "<style scoped>\n",
       "    .dataframe tbody tr th:only-of-type {\n",
       "        vertical-align: middle;\n",
       "    }\n",
       "\n",
       "    .dataframe tbody tr th {\n",
       "        vertical-align: top;\n",
       "    }\n",
       "\n",
       "    .dataframe thead th {\n",
       "        text-align: right;\n",
       "    }\n",
       "</style>\n",
       "<table border=\"1\" class=\"dataframe\">\n",
       "  <thead>\n",
       "    <tr style=\"text-align: right;\">\n",
       "      <th></th>\n",
       "      <th>id</th>\n",
       "      <th>target</th>\n",
       "    </tr>\n",
       "  </thead>\n",
       "  <tbody>\n",
       "    <tr>\n",
       "      <th>0</th>\n",
       "      <td>250</td>\n",
       "      <td>0.422276</td>\n",
       "    </tr>\n",
       "    <tr>\n",
       "      <th>1</th>\n",
       "      <td>251</td>\n",
       "      <td>0.147829</td>\n",
       "    </tr>\n",
       "    <tr>\n",
       "      <th>2</th>\n",
       "      <td>252</td>\n",
       "      <td>0.687185</td>\n",
       "    </tr>\n",
       "    <tr>\n",
       "      <th>3</th>\n",
       "      <td>253</td>\n",
       "      <td>0.999194</td>\n",
       "    </tr>\n",
       "    <tr>\n",
       "      <th>4</th>\n",
       "      <td>254</td>\n",
       "      <td>0.343320</td>\n",
       "    </tr>\n",
       "  </tbody>\n",
       "</table>\n",
       "</div>"
      ],
      "text/plain": [
       "    id    target\n",
       "0  250  0.422276\n",
       "1  251  0.147829\n",
       "2  252  0.687185\n",
       "3  253  0.999194\n",
       "4  254  0.343320"
      ]
     },
     "execution_count": 13,
     "metadata": {},
     "output_type": "execute_result"
    }
   ],
   "source": [
    "# 0.741\n",
    "X_test = test[f_cols].values\n",
    "y_pred = log_reg.predict_proba(X_test)[:,1]\n",
    "submission[\"target\"] = y_pred\n",
    "submission.to_csv(\"../submissions/12_logreg_MAP_l2_c_05.csv\", index=False)\n",
    "submission.head()"
   ]
  },
  {
   "cell_type": "markdown",
   "id": "380662a5",
   "metadata": {},
   "source": [
    "# Slap-and-spike prior"
   ]
  },
  {
   "cell_type": "code",
   "execution_count": 16,
   "id": "ccc224ef",
   "metadata": {},
   "outputs": [],
   "source": [
    "import pymc3 as pm\n",
    "import theano as tt\n",
    "from scipy.special import expit\n",
    "from scipy.stats import norm, bernoulli"
   ]
  },
  {
   "cell_type": "code",
   "execution_count": 18,
   "id": "5df2eada",
   "metadata": {},
   "outputs": [],
   "source": [
    "X, y = train[f_cols].values, train[\"target\"].values"
   ]
  },
  {
   "cell_type": "markdown",
   "id": "249c6e3b",
   "metadata": {},
   "source": [
    "This is our slab and spike model\n",
    "\n",
    "$$a \\sim \\mathcal{N}(0, 3)$$\n",
    "$$\\gamma_i \\sim Bernoulli(p=0.1)$$\n",
    "$$\\alpha_i|\\sigma_\\beta \\sim \\mathcal{N}(0, \\sigma_\\beta)$$\n",
    "$$e \\sim \\mathcal{N}(0, \\sigma^2_eI_n)$$\n",
    "$$y \\sim \\frac{1}{1+exp(-(a + \\sum_{i=1}^N \\gamma_i \\alpha_i x_i + e))}$$\n",
    "\n",
    "The model parameters are $\\theta = \\{\\gamma_i, \\alpha_i\\}_i^N $. The $\\gamma_i$ and $\\alpha_i$ are modelled IID."
   ]
  },
  {
   "cell_type": "code",
   "execution_count": 73,
   "id": "2f57cbe8",
   "metadata": {},
   "outputs": [],
   "source": [
    "prob = 0.1\n",
    "a_mu = 0\n",
    "a_var = 3\n",
    "gamma_var = 1\n",
    "with pm.Model() as model:\n",
    "    # priors inclusion probability\n",
    "    gamma_i = pm.Bernoulli(\"gamma_i\", prob, shape=X.shape[1])\n",
    "    # a is the interception\n",
    "    a = pm.Normal(\"a\", mu=a_mu, sd=a_var)\n",
    "    # The prior for the features varibles which are included\n",
    "    alpha = pm.Normal(\"alpha\", mu=0, sd=gamma_var, shape=X.shape[1])\n",
    "    # Deterministic function\n",
    "    p = pm.math.dot(X,gamma_i * alpha) \n",
    "    # Likelihood\n",
    "    y_obs = pm.Bernoulli(\"y_obs\", pm.invlogit(p + a),  observed=y)\n",
    " "
   ]
  },
  {
   "cell_type": "code",
   "execution_count": 50,
   "id": "4502b38d",
   "metadata": {},
   "outputs": [
    {
     "name": "stderr",
     "output_type": "stream",
     "text": [
      "/var/folders/bx/2b_70g054qg3qt5jhnw30xv40000gn/T/ipykernel_46993/1538975003.py:2: FutureWarning: In v4.0, pm.sample will return an `arviz.InferenceData` object instead of a `MultiTrace` by default. You can pass return_inferencedata=True or return_inferencedata=False to be safe and silence this warning.\n",
      "  trace = pm.sample(4000, random_seed = 4816, cores = 1, progressbar = True, chains = 1)\n",
      "Sequential sampling (1 chains in 1 job)\n",
      "CompoundStep\n",
      ">BinaryGibbsMetropolis: [gamma_i]\n",
      ">NUTS: [alpha, a]\n"
     ]
    },
    {
     "data": {
      "text/html": [
       "\n",
       "    <div>\n",
       "        <style>\n",
       "            /* Turns off some styling */\n",
       "            progress {\n",
       "                /* gets rid of default border in Firefox and Opera. */\n",
       "                border: none;\n",
       "                /* Needs to be in here for Safari polyfill so background images work as expected. */\n",
       "                background-size: auto;\n",
       "            }\n",
       "            .progress-bar-interrupted, .progress-bar-interrupted::-webkit-progress-bar {\n",
       "                background: #F44336;\n",
       "            }\n",
       "        </style>\n",
       "      <progress value='5000' class='' max='5000' style='width:300px; height:20px; vertical-align: middle;'></progress>\n",
       "      100.00% [5000/5000 02:24<00:00 Sampling chain 0, 0 divergences]\n",
       "    </div>\n",
       "    "
      ],
      "text/plain": [
       "<IPython.core.display.HTML object>"
      ]
     },
     "metadata": {},
     "output_type": "display_data"
    },
    {
     "name": "stderr",
     "output_type": "stream",
     "text": [
      "Sampling 1 chain for 1_000 tune and 4_000 draw iterations (1_000 + 4_000 draws total) took 144 seconds.\n",
      "Only one chain was sampled, this makes it impossible to run some convergence checks\n"
     ]
    }
   ],
   "source": [
    "with model:\n",
    "    trace = pm.sample(4000, random_seed = 4816, cores = 1, progressbar = True, chains = 1)"
   ]
  },
  {
   "cell_type": "markdown",
   "id": "cd63abae",
   "metadata": {},
   "source": [
    "# Map estimate"
   ]
  },
  {
   "cell_type": "markdown",
   "id": "cee44642",
   "metadata": {},
   "source": [
    "The log loss for the spike and slap prior\n",
    "$$p(\\theta) = p(\\{\\gamma_i, \\alpha_i\\}_i^N) = \\prod_{i=1}^N p(\\gamma_i) p(\\alpha_i)$$\n",
    "\n",
    "$$\\log p(\\theta) = \\sum_{i=1}^N \\log Bernoulli(\\gamma_i | p=0.1) + \\log \\mathcal{N}(\\alpha_i | \\mu=0, \\sigma_\\beta=3)$$"
   ]
  },
  {
   "cell_type": "code",
   "execution_count": 58,
   "id": "01eae860",
   "metadata": {},
   "outputs": [],
   "source": [
    "def spike_slab_log_prior(gamma: np.array, alpha: np.array, p, gamma_mu=0, sigma_beta=3):\n",
    "    return (bernoulli.logpmf(gamma, p=p) + norm.logpdf(alpha, loc=gamma_mu, scale=sigma_beta)).sum()"
   ]
  },
  {
   "cell_type": "markdown",
   "id": "e8209175",
   "metadata": {},
   "source": [
    "The negative log likelihood function, i.e. cross entropy"
   ]
  },
  {
   "cell_type": "markdown",
   "id": "70f6825f",
   "metadata": {},
   "source": [
    "$$E(\\mathbf{w}) = -log(p(\\pmb{\\mathbf{t}}|\\pmb{\\mathbf{x}},\\mathbf{w})) \\nonumber$$\n",
    "\n",
    "$$= - \\sum_{n=1}^N \\left( t_n \\ln y(\\mathbf{x}_n) + (1-t_n) \\ln (1-y(\\mathbf{x}_n)) \\right)$$\n",
    "  "
   ]
  },
  {
   "cell_type": "code",
   "execution_count": 59,
   "id": "3b197103",
   "metadata": {},
   "outputs": [],
   "source": [
    "def log_likelihood(a, gamma, alpha, X, T):\n",
    "    y_x = expit(a + np.dot(X, np.transpose(gamma*alpha)))\n",
    "    return (T*np.log(y_x) + ((1-T)*np.log(1-y_x))).sum()"
   ]
  },
  {
   "cell_type": "code",
   "execution_count": 60,
   "id": "15c5b143",
   "metadata": {},
   "outputs": [],
   "source": [
    "prob = 0.1\n",
    "gamma_mu = 0\n",
    "sigma_beta = 3\n",
    "\n",
    "def find_spike_slab_MAP(trace, X, y, prob, gamma_mu, sigma_beta):\n",
    "    min_loss = np.inf\n",
    "    cur_min = -1\n",
    "    for i in range(len(trace)):\n",
    "        tmp_trace = trace[i]\n",
    "        tmp_spike_slab_log_prior = spike_slab_log_prior(tmp_trace[\"gamma_i\"], tmp_trace[\"alpha\"], p=prob, gamma_mu=gamma_mu, sigma_beta=sigma_beta)\n",
    "        tmp_log_likelihood = log_likelihood(tmp_trace[\"a\"], tmp_trace[\"gamma_i\"], tmp_trace[\"alpha\"], X, y)\n",
    "        neq_loss = -(tmp_log_likelihood + tmp_spike_slab_log_prior)\n",
    "        if neq_loss <= min_loss:\n",
    "            min_loss = neq_loss\n",
    "            cur_min = i\n",
    "    return trace[cur_min]\n",
    "    "
   ]
  },
  {
   "cell_type": "code",
   "execution_count": 61,
   "id": "17bedd40",
   "metadata": {},
   "outputs": [],
   "source": [
    "map_trace = find_spike_slab_MAP(trace, X, y, prob, gamma_mu, sigma_beta)"
   ]
  },
  {
   "cell_type": "code",
   "execution_count": 62,
   "id": "3985c96d",
   "metadata": {},
   "outputs": [],
   "source": [
    "map_estimate = map_trace[\"gamma_i\"] * map_trace[\"alpha\"]\n",
    "\n",
    "X_test = test[f_cols].values\n",
    "map_preds = expit(map_trace[\"a\"] + np.dot(X_test, np.transpose(map_estimate)))"
   ]
  },
  {
   "cell_type": "code",
   "execution_count": 63,
   "id": "b1ecc415",
   "metadata": {},
   "outputs": [
    {
     "data": {
      "text/plain": [
       "array([0.99354538, 0.96931246, 0.92504746, ..., 0.01800972, 0.97470334,\n",
       "       0.60972093])"
      ]
     },
     "execution_count": 63,
     "metadata": {},
     "output_type": "execute_result"
    }
   ],
   "source": [
    "map_preds"
   ]
  },
  {
   "cell_type": "code",
   "execution_count": 64,
   "id": "14b24245",
   "metadata": {},
   "outputs": [
    {
     "data": {
      "text/html": [
       "<div>\n",
       "<style scoped>\n",
       "    .dataframe tbody tr th:only-of-type {\n",
       "        vertical-align: middle;\n",
       "    }\n",
       "\n",
       "    .dataframe tbody tr th {\n",
       "        vertical-align: top;\n",
       "    }\n",
       "\n",
       "    .dataframe thead th {\n",
       "        text-align: right;\n",
       "    }\n",
       "</style>\n",
       "<table border=\"1\" class=\"dataframe\">\n",
       "  <thead>\n",
       "    <tr style=\"text-align: right;\">\n",
       "      <th></th>\n",
       "      <th>id</th>\n",
       "      <th>target</th>\n",
       "    </tr>\n",
       "  </thead>\n",
       "  <tbody>\n",
       "    <tr>\n",
       "      <th>0</th>\n",
       "      <td>250</td>\n",
       "      <td>0.993545</td>\n",
       "    </tr>\n",
       "    <tr>\n",
       "      <th>1</th>\n",
       "      <td>251</td>\n",
       "      <td>0.969312</td>\n",
       "    </tr>\n",
       "    <tr>\n",
       "      <th>2</th>\n",
       "      <td>252</td>\n",
       "      <td>0.925047</td>\n",
       "    </tr>\n",
       "    <tr>\n",
       "      <th>3</th>\n",
       "      <td>253</td>\n",
       "      <td>0.997561</td>\n",
       "    </tr>\n",
       "    <tr>\n",
       "      <th>4</th>\n",
       "      <td>254</td>\n",
       "      <td>0.092070</td>\n",
       "    </tr>\n",
       "  </tbody>\n",
       "</table>\n",
       "</div>"
      ],
      "text/plain": [
       "    id    target\n",
       "0  250  0.993545\n",
       "1  251  0.969312\n",
       "2  252  0.925047\n",
       "3  253  0.997561\n",
       "4  254  0.092070"
      ]
     },
     "execution_count": 64,
     "metadata": {},
     "output_type": "execute_result"
    }
   ],
   "source": [
    "# 0.803\n",
    "submission[\"target\"] = map_preds\n",
    "submission.to_csv(\"../submissions/14_sas_MAP_logreg.csv\", index=False)\n",
    "submission.head()"
   ]
  },
  {
   "cell_type": "markdown",
   "id": "8485eb27",
   "metadata": {},
   "source": [
    "# Full Bayesian\n",
    "\n"
   ]
  },
  {
   "cell_type": "code",
   "execution_count": 65,
   "id": "4e10a74c",
   "metadata": {},
   "outputs": [],
   "source": [
    "results = pd.DataFrame({'var': np.arange(300), \n",
    "                        'inclusion_probability':np.apply_along_axis(np.mean, 0, trace['gamma_i']),\n",
    "                       'alpha':np.apply_along_axis(np.mean, 0, trace['alpha']),\n",
    "                       'alpha_given_inclusion': np.apply_along_axis(np.sum, 0, trace['gamma_i']*trace['alpha'])\n",
    "                            /np.apply_along_axis(np.sum, 0, trace['gamma_i'])\n",
    "                       })"
   ]
  },
  {
   "cell_type": "code",
   "execution_count": 66,
   "id": "59c1535d",
   "metadata": {},
   "outputs": [
    {
     "data": {
      "text/html": [
       "<div>\n",
       "<style scoped>\n",
       "    .dataframe tbody tr th:only-of-type {\n",
       "        vertical-align: middle;\n",
       "    }\n",
       "\n",
       "    .dataframe tbody tr th {\n",
       "        vertical-align: top;\n",
       "    }\n",
       "\n",
       "    .dataframe thead th {\n",
       "        text-align: right;\n",
       "    }\n",
       "</style>\n",
       "<table border=\"1\" class=\"dataframe\">\n",
       "  <thead>\n",
       "    <tr style=\"text-align: right;\">\n",
       "      <th></th>\n",
       "      <th>var</th>\n",
       "      <th>inclusion_probability</th>\n",
       "      <th>alpha</th>\n",
       "      <th>alpha_given_inclusion</th>\n",
       "    </tr>\n",
       "  </thead>\n",
       "  <tbody>\n",
       "    <tr>\n",
       "      <th>33</th>\n",
       "      <td>33</td>\n",
       "      <td>1.00000</td>\n",
       "      <td>2.199171</td>\n",
       "      <td>2.199171</td>\n",
       "    </tr>\n",
       "    <tr>\n",
       "      <th>65</th>\n",
       "      <td>65</td>\n",
       "      <td>1.00000</td>\n",
       "      <td>1.872293</td>\n",
       "      <td>1.872293</td>\n",
       "    </tr>\n",
       "    <tr>\n",
       "      <th>217</th>\n",
       "      <td>217</td>\n",
       "      <td>0.99900</td>\n",
       "      <td>-1.325332</td>\n",
       "      <td>-1.326757</td>\n",
       "    </tr>\n",
       "    <tr>\n",
       "      <th>91</th>\n",
       "      <td>91</td>\n",
       "      <td>0.99800</td>\n",
       "      <td>-1.381903</td>\n",
       "      <td>-1.385135</td>\n",
       "    </tr>\n",
       "    <tr>\n",
       "      <th>199</th>\n",
       "      <td>199</td>\n",
       "      <td>0.97700</td>\n",
       "      <td>1.221466</td>\n",
       "      <td>1.249742</td>\n",
       "    </tr>\n",
       "    <tr>\n",
       "      <th>73</th>\n",
       "      <td>73</td>\n",
       "      <td>0.96650</td>\n",
       "      <td>-1.100357</td>\n",
       "      <td>-1.136644</td>\n",
       "    </tr>\n",
       "    <tr>\n",
       "      <th>108</th>\n",
       "      <td>108</td>\n",
       "      <td>0.80075</td>\n",
       "      <td>-0.772218</td>\n",
       "      <td>-0.968407</td>\n",
       "    </tr>\n",
       "    <tr>\n",
       "      <th>295</th>\n",
       "      <td>295</td>\n",
       "      <td>0.78525</td>\n",
       "      <td>-0.753310</td>\n",
       "      <td>-0.956966</td>\n",
       "    </tr>\n",
       "    <tr>\n",
       "      <th>117</th>\n",
       "      <td>117</td>\n",
       "      <td>0.69400</td>\n",
       "      <td>-0.660401</td>\n",
       "      <td>-0.940196</td>\n",
       "    </tr>\n",
       "    <tr>\n",
       "      <th>189</th>\n",
       "      <td>189</td>\n",
       "      <td>0.69125</td>\n",
       "      <td>-0.623186</td>\n",
       "      <td>-0.931997</td>\n",
       "    </tr>\n",
       "  </tbody>\n",
       "</table>\n",
       "</div>"
      ],
      "text/plain": [
       "     var  inclusion_probability     alpha  alpha_given_inclusion\n",
       "33    33                1.00000  2.199171               2.199171\n",
       "65    65                1.00000  1.872293               1.872293\n",
       "217  217                0.99900 -1.325332              -1.326757\n",
       "91    91                0.99800 -1.381903              -1.385135\n",
       "199  199                0.97700  1.221466               1.249742\n",
       "73    73                0.96650 -1.100357              -1.136644\n",
       "108  108                0.80075 -0.772218              -0.968407\n",
       "295  295                0.78525 -0.753310              -0.956966\n",
       "117  117                0.69400 -0.660401              -0.940196\n",
       "189  189                0.69125 -0.623186              -0.931997"
      ]
     },
     "execution_count": 66,
     "metadata": {},
     "output_type": "execute_result"
    }
   ],
   "source": [
    "results.sort_values('inclusion_probability', ascending = False).head(10)\n"
   ]
  },
  {
   "cell_type": "markdown",
   "id": "65b97b4e",
   "metadata": {},
   "source": [
    "## Bayesian inference"
   ]
  },
  {
   "cell_type": "code",
   "execution_count": 67,
   "id": "55400807",
   "metadata": {},
   "outputs": [],
   "source": [
    "estimate = trace['alpha'] * trace['gamma_i'] \n",
    "X_test = test[f_cols].values\n",
    "preds = np.apply_along_axis(np.mean, 1, expit(trace['a'] + np.dot(X_test, np.transpose(estimate) )) )\n"
   ]
  },
  {
   "cell_type": "code",
   "execution_count": 68,
   "id": "831a63af",
   "metadata": {},
   "outputs": [
    {
     "data": {
      "text/html": [
       "<div>\n",
       "<style scoped>\n",
       "    .dataframe tbody tr th:only-of-type {\n",
       "        vertical-align: middle;\n",
       "    }\n",
       "\n",
       "    .dataframe tbody tr th {\n",
       "        vertical-align: top;\n",
       "    }\n",
       "\n",
       "    .dataframe thead th {\n",
       "        text-align: right;\n",
       "    }\n",
       "</style>\n",
       "<table border=\"1\" class=\"dataframe\">\n",
       "  <thead>\n",
       "    <tr style=\"text-align: right;\">\n",
       "      <th></th>\n",
       "      <th>id</th>\n",
       "      <th>target</th>\n",
       "    </tr>\n",
       "  </thead>\n",
       "  <tbody>\n",
       "    <tr>\n",
       "      <th>0</th>\n",
       "      <td>250</td>\n",
       "      <td>0.857138</td>\n",
       "    </tr>\n",
       "    <tr>\n",
       "      <th>1</th>\n",
       "      <td>251</td>\n",
       "      <td>0.740193</td>\n",
       "    </tr>\n",
       "    <tr>\n",
       "      <th>2</th>\n",
       "      <td>252</td>\n",
       "      <td>0.861291</td>\n",
       "    </tr>\n",
       "    <tr>\n",
       "      <th>3</th>\n",
       "      <td>253</td>\n",
       "      <td>0.989098</td>\n",
       "    </tr>\n",
       "    <tr>\n",
       "      <th>4</th>\n",
       "      <td>254</td>\n",
       "      <td>0.488646</td>\n",
       "    </tr>\n",
       "  </tbody>\n",
       "</table>\n",
       "</div>"
      ],
      "text/plain": [
       "    id    target\n",
       "0  250  0.857138\n",
       "1  251  0.740193\n",
       "2  252  0.861291\n",
       "3  253  0.989098\n",
       "4  254  0.488646"
      ]
     },
     "execution_count": 68,
     "metadata": {},
     "output_type": "execute_result"
    }
   ],
   "source": [
    "# 0.854\n",
    "submission[\"target\"] = preds\n",
    "submission.to_csv(\"../submissions/15_sas_Bayesian_logreg.csv\", index=False)\n",
    "submission.head()"
   ]
  },
  {
   "cell_type": "code",
   "execution_count": 69,
   "id": "51496128",
   "metadata": {
    "scrolled": true
   },
   "outputs": [
    {
     "data": {
      "text/plain": [
       "array([0.85713836, 0.74019269, 0.86129088, 0.98909845, 0.48864633,\n",
       "       0.37146803, 0.41335168, 0.22870848, 0.93852218, 0.25608885])"
      ]
     },
     "execution_count": 69,
     "metadata": {},
     "output_type": "execute_result"
    }
   ],
   "source": [
    "preds[:10]"
   ]
  },
  {
   "cell_type": "code",
   "execution_count": 70,
   "id": "dcd1c0cc",
   "metadata": {},
   "outputs": [
    {
     "data": {
      "text/plain": [
       "array([0.99354538, 0.96931246, 0.92504746, 0.99756073, 0.0920696 ,\n",
       "       0.61137463, 0.02696762, 0.24671615, 0.77067657, 0.02368206])"
      ]
     },
     "execution_count": 70,
     "metadata": {},
     "output_type": "execute_result"
    }
   ],
   "source": [
    "map_preds[:10]"
   ]
  },
  {
   "cell_type": "code",
   "execution_count": 71,
   "id": "dc8f16e6",
   "metadata": {},
   "outputs": [
    {
     "data": {
      "text/plain": [
       "(0.9286543358915618, 0.1197995855721606)"
      ]
     },
     "execution_count": 71,
     "metadata": {},
     "output_type": "execute_result"
    }
   ],
   "source": [
    "(map_preds[map_preds > 0.5]).mean(), (map_preds[map_preds <= 0.5]).mean()"
   ]
  },
  {
   "cell_type": "code",
   "execution_count": 72,
   "id": "4148ebab",
   "metadata": {},
   "outputs": [
    {
     "data": {
      "text/plain": [
       "(0.8285610321005993, 0.2558121580687975)"
      ]
     },
     "execution_count": 72,
     "metadata": {},
     "output_type": "execute_result"
    }
   ],
   "source": [
    "(preds[preds > 0.5]).mean(), (preds[preds <= 0.5]).mean()"
   ]
  },
  {
   "cell_type": "code",
   "execution_count": null,
   "id": "e122d979",
   "metadata": {},
   "outputs": [],
   "source": []
  }
 ],
 "metadata": {
  "kernelspec": {
   "display_name": "Python 3 (ipykernel)",
   "language": "python",
   "name": "python3"
  },
  "language_info": {
   "codemirror_mode": {
    "name": "ipython",
    "version": 3
   },
   "file_extension": ".py",
   "mimetype": "text/x-python",
   "name": "python",
   "nbconvert_exporter": "python",
   "pygments_lexer": "ipython3",
   "version": "3.9.7"
  },
  "latex_envs": {
   "LaTeX_envs_menu_present": true,
   "autoclose": false,
   "autocomplete": true,
   "bibliofile": "biblio.bib",
   "cite_by": "apalike",
   "current_citInitial": 1,
   "eqLabelWithNumbers": true,
   "eqNumInitial": 1,
   "hotkeys": {
    "equation": "Ctrl-E",
    "itemize": "Ctrl-I"
   },
   "labels_anchors": false,
   "latex_user_defs": false,
   "report_style_numbering": false,
   "user_envs_cfg": false
  }
 },
 "nbformat": 4,
 "nbformat_minor": 5
}
