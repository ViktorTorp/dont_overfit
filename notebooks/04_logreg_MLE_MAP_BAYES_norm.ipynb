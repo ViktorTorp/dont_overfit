{
 "cells": [
  {
   "cell_type": "code",
   "execution_count": 1,
   "id": "c99ae64c",
   "metadata": {},
   "outputs": [],
   "source": [
    "import os\n",
    "import numpy as np\n",
    "import pandas as pd\n",
    "\n",
    "import matplotlib.pyplot as plt\n",
    "import seaborn as sns\n",
    "\n",
    "from sklearn.model_selection import LeaveOneOut\n",
    "from sklearn.linear_model import LogisticRegression\n",
    "from sklearn.metrics import roc_auc_score\n",
    "from sklearn.metrics import classification_report\n",
    "\n",
    "pd.set_option('display.max_columns', None)\n",
    "pd.set_option('display.max_rows', None)"
   ]
  },
  {
   "cell_type": "code",
   "execution_count": 2,
   "id": "9fc5be15",
   "metadata": {},
   "outputs": [],
   "source": [
    "train = pd.read_csv(\"../data/train.csv\").sample(frac=1.0)\n",
    "test = pd.read_csv(\"../data/test.csv\")\n",
    "submission = pd.read_csv(\"../data/sample_submission.csv\")\n",
    "\n",
    "f_cols = [col for col in train.columns if col not in [\"id\", \"target\"]]"
   ]
  },
  {
   "cell_type": "code",
   "execution_count": 3,
   "id": "31dcac9f",
   "metadata": {},
   "outputs": [],
   "source": [
    "def get_predictions(x):\n",
    "    return [1 if xi >= 0.5 else 0 for xi in x]"
   ]
  },
  {
   "cell_type": "code",
   "execution_count": 4,
   "id": "4af50d39",
   "metadata": {},
   "outputs": [],
   "source": [
    "X, y = train[f_cols].values, train[\"target\"].values"
   ]
  },
  {
   "cell_type": "code",
   "execution_count": 5,
   "id": "7c055f7f",
   "metadata": {},
   "outputs": [
    {
     "data": {
      "text/plain": [
       "(250, 300)"
      ]
     },
     "execution_count": 5,
     "metadata": {},
     "output_type": "execute_result"
    }
   ],
   "source": [
    "X.shape"
   ]
  },
  {
   "cell_type": "code",
   "execution_count": 6,
   "id": "7afc1003",
   "metadata": {},
   "outputs": [
    {
     "name": "stdout",
     "output_type": "stream",
     "text": [
      "Models AUC score: 0.7685416666666666\n",
      "              precision    recall  f1-score   support\n",
      "\n",
      "         0.0       0.63      0.52      0.57        90\n",
      "         1.0       0.75      0.82      0.79       160\n",
      "\n",
      "    accuracy                           0.72       250\n",
      "   macro avg       0.69      0.67      0.68       250\n",
      "weighted avg       0.71      0.72      0.71       250\n",
      "\n"
     ]
    }
   ],
   "source": [
    "loo = LeaveOneOut()\n",
    "preds = np.zeros(len(y))\n",
    "for i, (train_index, test_index) in enumerate(loo.split(X)):\n",
    "    X_train, X_test = X[train_index], X[test_index]\n",
    "    y_train = y[train_index]\n",
    "    clf = LogisticRegression(random_state=0, C=1.).fit(X_train, y_train)\n",
    "    preds[test_index] = clf.predict_proba(X_test)[:,1]\n",
    "\n",
    "print(f\"Models AUC score: {roc_auc_score(y, preds)}\")\n",
    "print(classification_report(y, get_predictions(preds)))"
   ]
  },
  {
   "cell_type": "code",
   "execution_count": 7,
   "id": "71699c20",
   "metadata": {},
   "outputs": [],
   "source": [
    "# Logreg MLE\n",
    "log_reg = LogisticRegression(random_state=0, C=1.0).fit(X, y)"
   ]
  },
  {
   "cell_type": "code",
   "execution_count": 8,
   "id": "c2688ea0",
   "metadata": {},
   "outputs": [],
   "source": [
    "X_test = test[f_cols].values\n",
    "y_pred = log_reg.predict_proba(X_test)[:,1]\n",
    "submission[\"target\"] = y_pred"
   ]
  },
  {
   "cell_type": "code",
   "execution_count": 9,
   "id": "484030b8",
   "metadata": {},
   "outputs": [],
   "source": [
    "# LB result 0.74\n",
    "submission.to_csv(\"../submissions/09_logreg_MLE.csv\", index=False)"
   ]
  },
  {
   "cell_type": "code",
   "execution_count": 10,
   "id": "3156e5fa",
   "metadata": {},
   "outputs": [
    {
     "data": {
      "text/html": [
       "<div>\n",
       "<style scoped>\n",
       "    .dataframe tbody tr th:only-of-type {\n",
       "        vertical-align: middle;\n",
       "    }\n",
       "\n",
       "    .dataframe tbody tr th {\n",
       "        vertical-align: top;\n",
       "    }\n",
       "\n",
       "    .dataframe thead th {\n",
       "        text-align: right;\n",
       "    }\n",
       "</style>\n",
       "<table border=\"1\" class=\"dataframe\">\n",
       "  <thead>\n",
       "    <tr style=\"text-align: right;\">\n",
       "      <th></th>\n",
       "      <th>id</th>\n",
       "      <th>target</th>\n",
       "    </tr>\n",
       "  </thead>\n",
       "  <tbody>\n",
       "    <tr>\n",
       "      <th>0</th>\n",
       "      <td>250</td>\n",
       "      <td>0.247957</td>\n",
       "    </tr>\n",
       "    <tr>\n",
       "      <th>1</th>\n",
       "      <td>251</td>\n",
       "      <td>0.065619</td>\n",
       "    </tr>\n",
       "    <tr>\n",
       "      <th>2</th>\n",
       "      <td>252</td>\n",
       "      <td>0.758937</td>\n",
       "    </tr>\n",
       "    <tr>\n",
       "      <th>3</th>\n",
       "      <td>253</td>\n",
       "      <td>0.999923</td>\n",
       "    </tr>\n",
       "    <tr>\n",
       "      <th>4</th>\n",
       "      <td>254</td>\n",
       "      <td>0.278511</td>\n",
       "    </tr>\n",
       "  </tbody>\n",
       "</table>\n",
       "</div>"
      ],
      "text/plain": [
       "    id    target\n",
       "0  250  0.247957\n",
       "1  251  0.065619\n",
       "2  252  0.758937\n",
       "3  253  0.999923\n",
       "4  254  0.278511"
      ]
     },
     "execution_count": 10,
     "metadata": {},
     "output_type": "execute_result"
    }
   ],
   "source": [
    "# Score 0.740\n",
    "submission.head()"
   ]
  },
  {
   "cell_type": "markdown",
   "id": "bb07809e",
   "metadata": {},
   "source": [
    "# Gaussian logreg"
   ]
  },
  {
   "cell_type": "markdown",
   "id": "e2a1e245",
   "metadata": {},
   "source": [
    "## MAP l2 estimate C=0.3"
   ]
  },
  {
   "cell_type": "code",
   "execution_count": 9,
   "id": "0da8ca34",
   "metadata": {},
   "outputs": [
    {
     "name": "stdout",
     "output_type": "stream",
     "text": [
      "Models AUC score: 0.7697916666666667\n",
      "              precision    recall  f1-score   support\n",
      "\n",
      "         0.0       0.58      0.62      0.60        90\n",
      "         1.0       0.78      0.74      0.76       160\n",
      "\n",
      "    accuracy                           0.70       250\n",
      "   macro avg       0.68      0.68      0.68       250\n",
      "weighted avg       0.71      0.70      0.70       250\n",
      "\n"
     ]
    }
   ],
   "source": [
    "loo = LeaveOneOut()\n",
    "preds = np.zeros(len(y))\n",
    "for i, (train_index, test_index) in enumerate(loo.split(X)):\n",
    "    X_train, X_test = X[train_index], X[test_index]\n",
    "    y_train = y[train_index]\n",
    "    clf = LogisticRegression(random_state=0, C=.3, penalty=\"l2\", solver='liblinear').fit(X_train, y_train)\n",
    "    preds[test_index] = clf.predict_proba(X_test)[:,1]\n",
    "\n",
    "print(f\"Models AUC score: {roc_auc_score(y, preds)}\")\n",
    "print(classification_report(y, get_predictions(preds)))"
   ]
  },
  {
   "cell_type": "code",
   "execution_count": 12,
   "id": "02b80267",
   "metadata": {},
   "outputs": [],
   "source": [
    "log_reg = LogisticRegression(random_state=0, C=.3, penalty=\"l2\").fit(X_train, y_train)"
   ]
  },
  {
   "cell_type": "code",
   "execution_count": 13,
   "id": "442df90d",
   "metadata": {},
   "outputs": [
    {
     "data": {
      "text/html": [
       "<div>\n",
       "<style scoped>\n",
       "    .dataframe tbody tr th:only-of-type {\n",
       "        vertical-align: middle;\n",
       "    }\n",
       "\n",
       "    .dataframe tbody tr th {\n",
       "        vertical-align: top;\n",
       "    }\n",
       "\n",
       "    .dataframe thead th {\n",
       "        text-align: right;\n",
       "    }\n",
       "</style>\n",
       "<table border=\"1\" class=\"dataframe\">\n",
       "  <thead>\n",
       "    <tr style=\"text-align: right;\">\n",
       "      <th></th>\n",
       "      <th>id</th>\n",
       "      <th>target</th>\n",
       "    </tr>\n",
       "  </thead>\n",
       "  <tbody>\n",
       "    <tr>\n",
       "      <th>0</th>\n",
       "      <td>250</td>\n",
       "      <td>0.373342</td>\n",
       "    </tr>\n",
       "    <tr>\n",
       "      <th>1</th>\n",
       "      <td>251</td>\n",
       "      <td>0.159244</td>\n",
       "    </tr>\n",
       "    <tr>\n",
       "      <th>2</th>\n",
       "      <td>252</td>\n",
       "      <td>0.685791</td>\n",
       "    </tr>\n",
       "    <tr>\n",
       "      <th>3</th>\n",
       "      <td>253</td>\n",
       "      <td>0.999216</td>\n",
       "    </tr>\n",
       "    <tr>\n",
       "      <th>4</th>\n",
       "      <td>254</td>\n",
       "      <td>0.380589</td>\n",
       "    </tr>\n",
       "  </tbody>\n",
       "</table>\n",
       "</div>"
      ],
      "text/plain": [
       "    id    target\n",
       "0  250  0.373342\n",
       "1  251  0.159244\n",
       "2  252  0.685791\n",
       "3  253  0.999216\n",
       "4  254  0.380589"
      ]
     },
     "execution_count": 13,
     "metadata": {},
     "output_type": "execute_result"
    }
   ],
   "source": [
    "# 0.741\n",
    "X_test = test[f_cols].values\n",
    "y_pred = log_reg.predict_proba(X_test)[:,1]\n",
    "submission[\"target\"] = y_pred\n",
    "submission.to_csv(\"../submissions/12_logreg_MAP_l2_c_05.csv\", index=False)\n",
    "submission.head()"
   ]
  },
  {
   "cell_type": "markdown",
   "id": "b8e2e075",
   "metadata": {},
   "source": [
    "## Bayesian gaussian"
   ]
  },
  {
   "cell_type": "code",
   "execution_count": 14,
   "id": "8ee94c52",
   "metadata": {},
   "outputs": [],
   "source": [
    "import pymc3 as pm\n",
    "import theano as tt\n",
    "from scipy.special import expit"
   ]
  },
  {
   "cell_type": "code",
   "execution_count": 49,
   "id": "a500592e",
   "metadata": {},
   "outputs": [],
   "source": [
    "with pm.Model() as model:\n",
    "    # Alpha is the interception\n",
    "    alpha = pm.Normal(\"alpha\", mu=0, sd=3)\n",
    "    # The prior for the features varibles which are included\n",
    "    beta = pm.Normal(\"beta\", mu=0, sd=3, shape=X.shape[1])\n",
    "    # Deterministic function\n",
    "    p = pm.math.dot(X,beta)\n",
    "    # Likelihood\n",
    "    y_obs = pm.Bernoulli(\"y_obs\", pm.invlogit(p + alpha),  observed=y)\n",
    "    "
   ]
  },
  {
   "cell_type": "code",
   "execution_count": 16,
   "id": "ea5740dc",
   "metadata": {},
   "outputs": [
    {
     "name": "stderr",
     "output_type": "stream",
     "text": [
      "/var/folders/bx/2b_70g054qg3qt5jhnw30xv40000gn/T/ipykernel_70896/2151053290.py:2: FutureWarning: In v4.0, pm.sample will return an `arviz.InferenceData` object instead of a `MultiTrace` by default. You can pass return_inferencedata=True or return_inferencedata=False to be safe and silence this warning.\n",
      "  trace = pm.sample(2000, random_seed = 4816, cores = 1, progressbar = True, chains = 1)\n",
      "Auto-assigning NUTS sampler...\n",
      "Initializing NUTS using jitter+adapt_diag...\n",
      "Sequential sampling (1 chains in 1 job)\n",
      "NUTS: [beta, alpha]\n"
     ]
    },
    {
     "data": {
      "text/html": [
       "\n",
       "    <div>\n",
       "        <style>\n",
       "            /* Turns off some styling */\n",
       "            progress {\n",
       "                /* gets rid of default border in Firefox and Opera. */\n",
       "                border: none;\n",
       "                /* Needs to be in here for Safari polyfill so background images work as expected. */\n",
       "                background-size: auto;\n",
       "            }\n",
       "            .progress-bar-interrupted, .progress-bar-interrupted::-webkit-progress-bar {\n",
       "                background: #F44336;\n",
       "            }\n",
       "        </style>\n",
       "      <progress value='3000' class='' max='3000' style='width:300px; height:20px; vertical-align: middle;'></progress>\n",
       "      100.00% [3000/3000 00:58<00:00 Sampling chain 0, 0 divergences]\n",
       "    </div>\n",
       "    "
      ],
      "text/plain": [
       "<IPython.core.display.HTML object>"
      ]
     },
     "metadata": {},
     "output_type": "display_data"
    },
    {
     "name": "stderr",
     "output_type": "stream",
     "text": [
      "Sampling 1 chain for 1_000 tune and 2_000 draw iterations (1_000 + 2_000 draws total) took 58 seconds.\n",
      "Only one chain was sampled, this makes it impossible to run some convergence checks\n"
     ]
    }
   ],
   "source": [
    "with model:\n",
    "    trace = pm.sample(2000, random_seed = 4816, cores = 1, progressbar = True, chains = 1)"
   ]
  },
  {
   "cell_type": "code",
   "execution_count": 17,
   "id": "18c27d2b",
   "metadata": {},
   "outputs": [],
   "source": [
    "results = pd.DataFrame({'var': np.arange(300), \n",
    "                       'beta':np.apply_along_axis(np.mean, 0, trace['beta']),\n",
    "                        'alpha':np.apply_along_axis(np.mean, 0, trace['alpha'])\n",
    "                       })"
   ]
  },
  {
   "cell_type": "code",
   "execution_count": 18,
   "id": "8f6fd080",
   "metadata": {},
   "outputs": [
    {
     "data": {
      "text/html": [
       "<div>\n",
       "<style scoped>\n",
       "    .dataframe tbody tr th:only-of-type {\n",
       "        vertical-align: middle;\n",
       "    }\n",
       "\n",
       "    .dataframe tbody tr th {\n",
       "        vertical-align: top;\n",
       "    }\n",
       "\n",
       "    .dataframe thead th {\n",
       "        text-align: right;\n",
       "    }\n",
       "</style>\n",
       "<table border=\"1\" class=\"dataframe\">\n",
       "  <thead>\n",
       "    <tr style=\"text-align: right;\">\n",
       "      <th></th>\n",
       "      <th>0</th>\n",
       "      <th>1</th>\n",
       "      <th>2</th>\n",
       "      <th>3</th>\n",
       "      <th>4</th>\n",
       "      <th>5</th>\n",
       "      <th>6</th>\n",
       "      <th>7</th>\n",
       "      <th>8</th>\n",
       "      <th>9</th>\n",
       "    </tr>\n",
       "  </thead>\n",
       "  <tbody>\n",
       "    <tr>\n",
       "      <th>var</th>\n",
       "      <td>0.000000</td>\n",
       "      <td>1.000000</td>\n",
       "      <td>2.000000</td>\n",
       "      <td>3.000000</td>\n",
       "      <td>4.000000</td>\n",
       "      <td>5.000000</td>\n",
       "      <td>6.000000</td>\n",
       "      <td>7.000000</td>\n",
       "      <td>8.000000</td>\n",
       "      <td>9.000000</td>\n",
       "    </tr>\n",
       "    <tr>\n",
       "      <th>beta</th>\n",
       "      <td>1.796780</td>\n",
       "      <td>-3.162023</td>\n",
       "      <td>0.491135</td>\n",
       "      <td>0.457325</td>\n",
       "      <td>-2.651044</td>\n",
       "      <td>-1.854760</td>\n",
       "      <td>-0.082372</td>\n",
       "      <td>0.521617</td>\n",
       "      <td>-1.780452</td>\n",
       "      <td>-3.042158</td>\n",
       "    </tr>\n",
       "    <tr>\n",
       "      <th>alpha</th>\n",
       "      <td>7.904928</td>\n",
       "      <td>7.904928</td>\n",
       "      <td>7.904928</td>\n",
       "      <td>7.904928</td>\n",
       "      <td>7.904928</td>\n",
       "      <td>7.904928</td>\n",
       "      <td>7.904928</td>\n",
       "      <td>7.904928</td>\n",
       "      <td>7.904928</td>\n",
       "      <td>7.904928</td>\n",
       "    </tr>\n",
       "  </tbody>\n",
       "</table>\n",
       "</div>"
      ],
      "text/plain": [
       "              0         1         2         3         4         5         6  \\\n",
       "var    0.000000  1.000000  2.000000  3.000000  4.000000  5.000000  6.000000   \n",
       "beta   1.796780 -3.162023  0.491135  0.457325 -2.651044 -1.854760 -0.082372   \n",
       "alpha  7.904928  7.904928  7.904928  7.904928  7.904928  7.904928  7.904928   \n",
       "\n",
       "              7         8         9  \n",
       "var    7.000000  8.000000  9.000000  \n",
       "beta   0.521617 -1.780452 -3.042158  \n",
       "alpha  7.904928  7.904928  7.904928  "
      ]
     },
     "execution_count": 18,
     "metadata": {},
     "output_type": "execute_result"
    }
   ],
   "source": [
    "results.head(10).T"
   ]
  },
  {
   "cell_type": "code",
   "execution_count": 19,
   "id": "9971ad62",
   "metadata": {},
   "outputs": [],
   "source": [
    "estimate = trace['beta']\n",
    "preds = np.apply_along_axis(np.mean, 1, expit(trace['alpha'] + np.dot(X, np.transpose(estimate) )) )"
   ]
  },
  {
   "cell_type": "code",
   "execution_count": 20,
   "id": "d6bd4cfe",
   "metadata": {},
   "outputs": [],
   "source": [
    "estimate = trace['beta']\n",
    "preds = np.apply_along_axis(np.mean, 1, expit(trace['alpha'] + np.dot(X, np.transpose(estimate) )) )"
   ]
  },
  {
   "cell_type": "code",
   "execution_count": 21,
   "id": "01c7c6a7",
   "metadata": {},
   "outputs": [
    {
     "data": {
      "text/html": [
       "<div>\n",
       "<style scoped>\n",
       "    .dataframe tbody tr th:only-of-type {\n",
       "        vertical-align: middle;\n",
       "    }\n",
       "\n",
       "    .dataframe tbody tr th {\n",
       "        vertical-align: top;\n",
       "    }\n",
       "\n",
       "    .dataframe thead th {\n",
       "        text-align: right;\n",
       "    }\n",
       "</style>\n",
       "<table border=\"1\" class=\"dataframe\">\n",
       "  <thead>\n",
       "    <tr style=\"text-align: right;\">\n",
       "      <th></th>\n",
       "      <th>id</th>\n",
       "      <th>target</th>\n",
       "    </tr>\n",
       "  </thead>\n",
       "  <tbody>\n",
       "    <tr>\n",
       "      <th>0</th>\n",
       "      <td>250</td>\n",
       "      <td>0.376991</td>\n",
       "    </tr>\n",
       "    <tr>\n",
       "      <th>1</th>\n",
       "      <td>251</td>\n",
       "      <td>0.217868</td>\n",
       "    </tr>\n",
       "    <tr>\n",
       "      <th>2</th>\n",
       "      <td>252</td>\n",
       "      <td>0.426083</td>\n",
       "    </tr>\n",
       "    <tr>\n",
       "      <th>3</th>\n",
       "      <td>253</td>\n",
       "      <td>0.955587</td>\n",
       "    </tr>\n",
       "    <tr>\n",
       "      <th>4</th>\n",
       "      <td>254</td>\n",
       "      <td>0.438808</td>\n",
       "    </tr>\n",
       "  </tbody>\n",
       "</table>\n",
       "</div>"
      ],
      "text/plain": [
       "    id    target\n",
       "0  250  0.376991\n",
       "1  251  0.217868\n",
       "2  252  0.426083\n",
       "3  253  0.955587\n",
       "4  254  0.438808"
      ]
     },
     "execution_count": 21,
     "metadata": {},
     "output_type": "execute_result"
    }
   ],
   "source": [
    "0.729\n",
    "X= test[f_cols].values\n",
    "preds = np.apply_along_axis(np.mean, 1, expit(trace['alpha'] + np.dot(X, np.transpose(estimate) )) )\n",
    "submission[\"target\"] = preds\n",
    "#submission.to_csv(\"../submissions/11_bayesian_logreg.csv\", index=False)\n",
    "submission.head()"
   ]
  },
  {
   "cell_type": "markdown",
   "id": "380662a5",
   "metadata": {},
   "source": [
    "# Slap-and-spike prior"
   ]
  },
  {
   "cell_type": "code",
   "execution_count": 88,
   "id": "5df2eada",
   "metadata": {},
   "outputs": [],
   "source": [
    "X, y = train[f_cols].values, train[\"target\"].values"
   ]
  },
  {
   "cell_type": "code",
   "execution_count": 89,
   "id": "2f57cbe8",
   "metadata": {},
   "outputs": [],
   "source": [
    "with pm.Model() as model:\n",
    "    # priors inclusion probability\n",
    "    xi = pm.Bernoulli(\"xi\", .1, shape=X.shape[1])\n",
    "    # Alpha is the interception\n",
    "    alpha = pm.Normal(\"alpha\", mu=0, sd=3)\n",
    "    # The prior for the features varibles which are included\n",
    "    beta = pm.Normal(\"beta\", mu=0, sd=1, shape=X.shape[1])\n",
    "    # Deterministic function\n",
    "    p = pm.math.dot(X,xi * beta) \n",
    "    # Likelihood\n",
    "    y_obs = pm.Bernoulli(\"y_obs\", pm.invlogit(p + alpha),  observed=y)\n",
    " "
   ]
  },
  {
   "cell_type": "code",
   "execution_count": 90,
   "id": "4502b38d",
   "metadata": {},
   "outputs": [
    {
     "name": "stderr",
     "output_type": "stream",
     "text": [
      "/var/folders/bx/2b_70g054qg3qt5jhnw30xv40000gn/T/ipykernel_70896/1538975003.py:2: FutureWarning: In v4.0, pm.sample will return an `arviz.InferenceData` object instead of a `MultiTrace` by default. You can pass return_inferencedata=True or return_inferencedata=False to be safe and silence this warning.\n",
      "  trace = pm.sample(4000, random_seed = 4816, cores = 1, progressbar = True, chains = 1)\n",
      "Sequential sampling (1 chains in 1 job)\n",
      "CompoundStep\n",
      ">BinaryGibbsMetropolis: [xi]\n",
      ">NUTS: [beta, alpha]\n"
     ]
    },
    {
     "data": {
      "text/html": [
       "\n",
       "    <div>\n",
       "        <style>\n",
       "            /* Turns off some styling */\n",
       "            progress {\n",
       "                /* gets rid of default border in Firefox and Opera. */\n",
       "                border: none;\n",
       "                /* Needs to be in here for Safari polyfill so background images work as expected. */\n",
       "                background-size: auto;\n",
       "            }\n",
       "            .progress-bar-interrupted, .progress-bar-interrupted::-webkit-progress-bar {\n",
       "                background: #F44336;\n",
       "            }\n",
       "        </style>\n",
       "      <progress value='5000' class='' max='5000' style='width:300px; height:20px; vertical-align: middle;'></progress>\n",
       "      100.00% [5000/5000 02:20<00:00 Sampling chain 0, 0 divergences]\n",
       "    </div>\n",
       "    "
      ],
      "text/plain": [
       "<IPython.core.display.HTML object>"
      ]
     },
     "metadata": {},
     "output_type": "display_data"
    },
    {
     "name": "stderr",
     "output_type": "stream",
     "text": [
      "Sampling 1 chain for 1_000 tune and 4_000 draw iterations (1_000 + 4_000 draws total) took 140 seconds.\n",
      "Only one chain was sampled, this makes it impossible to run some convergence checks\n"
     ]
    }
   ],
   "source": [
    "with model:\n",
    "    trace = pm.sample(4000, random_seed = 4816, cores = 1, progressbar = True, chains = 1)\n",
    "    "
   ]
  },
  {
   "cell_type": "code",
   "execution_count": 91,
   "id": "4e10a74c",
   "metadata": {},
   "outputs": [],
   "source": [
    "results = pd.DataFrame({'var': np.arange(300), \n",
    "                        'inclusion_probability':np.apply_along_axis(np.mean, 0, trace['xi']),\n",
    "                       'beta':np.apply_along_axis(np.mean, 0, trace['beta']),\n",
    "                       'beta_given_inclusion': np.apply_along_axis(np.sum, 0, trace['xi']*trace['beta'])\n",
    "                            /np.apply_along_axis(np.sum, 0, trace['xi'])\n",
    "                       })"
   ]
  },
  {
   "cell_type": "code",
   "execution_count": 92,
   "id": "59c1535d",
   "metadata": {},
   "outputs": [
    {
     "data": {
      "text/html": [
       "<div>\n",
       "<style scoped>\n",
       "    .dataframe tbody tr th:only-of-type {\n",
       "        vertical-align: middle;\n",
       "    }\n",
       "\n",
       "    .dataframe tbody tr th {\n",
       "        vertical-align: top;\n",
       "    }\n",
       "\n",
       "    .dataframe thead th {\n",
       "        text-align: right;\n",
       "    }\n",
       "</style>\n",
       "<table border=\"1\" class=\"dataframe\">\n",
       "  <thead>\n",
       "    <tr style=\"text-align: right;\">\n",
       "      <th></th>\n",
       "      <th>var</th>\n",
       "      <th>inclusion_probability</th>\n",
       "      <th>beta</th>\n",
       "      <th>beta_given_inclusion</th>\n",
       "    </tr>\n",
       "  </thead>\n",
       "  <tbody>\n",
       "    <tr>\n",
       "      <th>33</th>\n",
       "      <td>33</td>\n",
       "      <td>1.00000</td>\n",
       "      <td>2.169756</td>\n",
       "      <td>2.169756</td>\n",
       "    </tr>\n",
       "    <tr>\n",
       "      <th>65</th>\n",
       "      <td>65</td>\n",
       "      <td>1.00000</td>\n",
       "      <td>1.871748</td>\n",
       "      <td>1.871748</td>\n",
       "    </tr>\n",
       "    <tr>\n",
       "      <th>217</th>\n",
       "      <td>217</td>\n",
       "      <td>0.99925</td>\n",
       "      <td>-1.330508</td>\n",
       "      <td>-1.331512</td>\n",
       "    </tr>\n",
       "    <tr>\n",
       "      <th>91</th>\n",
       "      <td>91</td>\n",
       "      <td>0.99725</td>\n",
       "      <td>-1.377645</td>\n",
       "      <td>-1.381338</td>\n",
       "    </tr>\n",
       "    <tr>\n",
       "      <th>199</th>\n",
       "      <td>199</td>\n",
       "      <td>0.97350</td>\n",
       "      <td>1.228635</td>\n",
       "      <td>1.256696</td>\n",
       "    </tr>\n",
       "    <tr>\n",
       "      <th>73</th>\n",
       "      <td>73</td>\n",
       "      <td>0.96050</td>\n",
       "      <td>-1.095120</td>\n",
       "      <td>-1.135140</td>\n",
       "    </tr>\n",
       "    <tr>\n",
       "      <th>295</th>\n",
       "      <td>295</td>\n",
       "      <td>0.81550</td>\n",
       "      <td>-0.800856</td>\n",
       "      <td>-0.973650</td>\n",
       "    </tr>\n",
       "    <tr>\n",
       "      <th>108</th>\n",
       "      <td>108</td>\n",
       "      <td>0.78525</td>\n",
       "      <td>-0.736136</td>\n",
       "      <td>-0.944836</td>\n",
       "    </tr>\n",
       "    <tr>\n",
       "      <th>189</th>\n",
       "      <td>189</td>\n",
       "      <td>0.73875</td>\n",
       "      <td>-0.700753</td>\n",
       "      <td>-0.939767</td>\n",
       "    </tr>\n",
       "    <tr>\n",
       "      <th>117</th>\n",
       "      <td>117</td>\n",
       "      <td>0.67875</td>\n",
       "      <td>-0.617163</td>\n",
       "      <td>-0.924473</td>\n",
       "    </tr>\n",
       "  </tbody>\n",
       "</table>\n",
       "</div>"
      ],
      "text/plain": [
       "     var  inclusion_probability      beta  beta_given_inclusion\n",
       "33    33                1.00000  2.169756              2.169756\n",
       "65    65                1.00000  1.871748              1.871748\n",
       "217  217                0.99925 -1.330508             -1.331512\n",
       "91    91                0.99725 -1.377645             -1.381338\n",
       "199  199                0.97350  1.228635              1.256696\n",
       "73    73                0.96050 -1.095120             -1.135140\n",
       "295  295                0.81550 -0.800856             -0.973650\n",
       "108  108                0.78525 -0.736136             -0.944836\n",
       "189  189                0.73875 -0.700753             -0.939767\n",
       "117  117                0.67875 -0.617163             -0.924473"
      ]
     },
     "execution_count": 92,
     "metadata": {},
     "output_type": "execute_result"
    }
   ],
   "source": [
    "results.sort_values('inclusion_probability', ascending = False).head(10)\n"
   ]
  },
  {
   "cell_type": "markdown",
   "id": "c09cbf45",
   "metadata": {},
   "source": [
    "## MAP estimate"
   ]
  },
  {
   "cell_type": "code",
   "execution_count": 93,
   "id": "ef05bd56",
   "metadata": {},
   "outputs": [],
   "source": [
    "from scipy.special import expit"
   ]
  },
  {
   "cell_type": "code",
   "execution_count": 94,
   "id": "d1e2c84a",
   "metadata": {},
   "outputs": [],
   "source": [
    "map_estimate = results[\"inclusion_probability\"] * results[\"beta\"]"
   ]
  },
  {
   "cell_type": "code",
   "execution_count": 99,
   "id": "715356f7",
   "metadata": {},
   "outputs": [],
   "source": [
    "X = test[f_cols].values\n",
    "map_preds = expit(trace[\"alpha\"].mean() + np.dot(X, np.transpose(map_estimate)))"
   ]
  },
  {
   "cell_type": "code",
   "execution_count": 101,
   "id": "ef011adf",
   "metadata": {},
   "outputs": [
    {
     "data": {
      "text/html": [
       "<div>\n",
       "<style scoped>\n",
       "    .dataframe tbody tr th:only-of-type {\n",
       "        vertical-align: middle;\n",
       "    }\n",
       "\n",
       "    .dataframe tbody tr th {\n",
       "        vertical-align: top;\n",
       "    }\n",
       "\n",
       "    .dataframe thead th {\n",
       "        text-align: right;\n",
       "    }\n",
       "</style>\n",
       "<table border=\"1\" class=\"dataframe\">\n",
       "  <thead>\n",
       "    <tr style=\"text-align: right;\">\n",
       "      <th></th>\n",
       "      <th>id</th>\n",
       "      <th>target</th>\n",
       "    </tr>\n",
       "  </thead>\n",
       "  <tbody>\n",
       "    <tr>\n",
       "      <th>0</th>\n",
       "      <td>250</td>\n",
       "      <td>0.974777</td>\n",
       "    </tr>\n",
       "    <tr>\n",
       "      <th>1</th>\n",
       "      <td>251</td>\n",
       "      <td>0.883088</td>\n",
       "    </tr>\n",
       "    <tr>\n",
       "      <th>2</th>\n",
       "      <td>252</td>\n",
       "      <td>0.975570</td>\n",
       "    </tr>\n",
       "    <tr>\n",
       "      <th>3</th>\n",
       "      <td>253</td>\n",
       "      <td>0.997589</td>\n",
       "    </tr>\n",
       "    <tr>\n",
       "      <th>4</th>\n",
       "      <td>254</td>\n",
       "      <td>0.402101</td>\n",
       "    </tr>\n",
       "  </tbody>\n",
       "</table>\n",
       "</div>"
      ],
      "text/plain": [
       "    id    target\n",
       "0  250  0.974777\n",
       "1  251  0.883088\n",
       "2  252  0.975570\n",
       "3  253  0.997589\n",
       "4  254  0.402101"
      ]
     },
     "execution_count": 101,
     "metadata": {},
     "output_type": "execute_result"
    }
   ],
   "source": [
    "# 0.853\n",
    "submission[\"target\"] = map_preds\n",
    "submission.to_csv(\"../submissions/14_sas_MAP_logreg.csv\", index=False)\n",
    "submission.head()"
   ]
  },
  {
   "cell_type": "markdown",
   "id": "65b97b4e",
   "metadata": {},
   "source": [
    "## Bayesian"
   ]
  },
  {
   "cell_type": "code",
   "execution_count": 96,
   "id": "55400807",
   "metadata": {},
   "outputs": [],
   "source": [
    "estimate = trace['beta'] * trace['xi'] \n",
    "X = test[f_cols].values\n",
    "preds = np.apply_along_axis(np.mean, 1, expit(trace['alpha'] + np.dot(X, np.transpose(estimate) )) )\n"
   ]
  },
  {
   "cell_type": "code",
   "execution_count": 108,
   "id": "831a63af",
   "metadata": {},
   "outputs": [
    {
     "data": {
      "text/html": [
       "<div>\n",
       "<style scoped>\n",
       "    .dataframe tbody tr th:only-of-type {\n",
       "        vertical-align: middle;\n",
       "    }\n",
       "\n",
       "    .dataframe tbody tr th {\n",
       "        vertical-align: top;\n",
       "    }\n",
       "\n",
       "    .dataframe thead th {\n",
       "        text-align: right;\n",
       "    }\n",
       "</style>\n",
       "<table border=\"1\" class=\"dataframe\">\n",
       "  <thead>\n",
       "    <tr style=\"text-align: right;\">\n",
       "      <th></th>\n",
       "      <th>id</th>\n",
       "      <th>target</th>\n",
       "    </tr>\n",
       "  </thead>\n",
       "  <tbody>\n",
       "    <tr>\n",
       "      <th>0</th>\n",
       "      <td>250</td>\n",
       "      <td>0.837159</td>\n",
       "    </tr>\n",
       "    <tr>\n",
       "      <th>1</th>\n",
       "      <td>251</td>\n",
       "      <td>0.732443</td>\n",
       "    </tr>\n",
       "    <tr>\n",
       "      <th>2</th>\n",
       "      <td>252</td>\n",
       "      <td>0.840483</td>\n",
       "    </tr>\n",
       "    <tr>\n",
       "      <th>3</th>\n",
       "      <td>253</td>\n",
       "      <td>0.988602</td>\n",
       "    </tr>\n",
       "    <tr>\n",
       "      <th>4</th>\n",
       "      <td>254</td>\n",
       "      <td>0.452466</td>\n",
       "    </tr>\n",
       "  </tbody>\n",
       "</table>\n",
       "</div>"
      ],
      "text/plain": [
       "    id    target\n",
       "0  250  0.837159\n",
       "1  251  0.732443\n",
       "2  252  0.840483\n",
       "3  253  0.988602\n",
       "4  254  0.452466"
      ]
     },
     "execution_count": 108,
     "metadata": {},
     "output_type": "execute_result"
    }
   ],
   "source": [
    "# 0.855\n",
    "submission[\"target\"] = preds\n",
    "submission.to_csv(\"../submissions/15_sas_Bayesian_logreg.csv\", index=False)\n",
    "submission.head()"
   ]
  },
  {
   "cell_type": "code",
   "execution_count": 97,
   "id": "51496128",
   "metadata": {
    "scrolled": true
   },
   "outputs": [
    {
     "data": {
      "text/plain": [
       "array([0.83715891, 0.73244307, 0.84048265, 0.98860241, 0.4524659 ,\n",
       "       0.36026956, 0.40309519, 0.22405392, 0.9329661 , 0.2476552 ])"
      ]
     },
     "execution_count": 97,
     "metadata": {},
     "output_type": "execute_result"
    }
   ],
   "source": [
    "preds[:10]"
   ]
  },
  {
   "cell_type": "code",
   "execution_count": 100,
   "id": "dcd1c0cc",
   "metadata": {},
   "outputs": [
    {
     "data": {
      "text/plain": [
       "array([0.9747766 , 0.88308826, 0.97556966, 0.99758903, 0.40210115,\n",
       "       0.27738468, 0.50479463, 0.04066577, 0.99641289, 0.10191702])"
      ]
     },
     "execution_count": 100,
     "metadata": {},
     "output_type": "execute_result"
    }
   ],
   "source": [
    "map_preds[:10]"
   ]
  },
  {
   "cell_type": "code",
   "execution_count": 106,
   "id": "dc8f16e6",
   "metadata": {},
   "outputs": [
    {
     "data": {
      "text/plain": [
       "(0.9084401431863095, 0.1648489675698241)"
      ]
     },
     "execution_count": 106,
     "metadata": {},
     "output_type": "execute_result"
    }
   ],
   "source": [
    "(map_preds[map_preds > 0.5]).mean(), (map_preds[map_preds <= 0.5]).mean()"
   ]
  },
  {
   "cell_type": "code",
   "execution_count": 107,
   "id": "4148ebab",
   "metadata": {},
   "outputs": [
    {
     "data": {
      "text/plain": [
       "(0.827885764432048, 0.25476991602511495)"
      ]
     },
     "execution_count": 107,
     "metadata": {},
     "output_type": "execute_result"
    }
   ],
   "source": [
    "(preds[preds > 0.5]).mean(), (preds[preds <= 0.5]).mean()"
   ]
  },
  {
   "cell_type": "code",
   "execution_count": null,
   "id": "e122d979",
   "metadata": {},
   "outputs": [],
   "source": []
  }
 ],
 "metadata": {
  "kernelspec": {
   "display_name": "Python 3 (ipykernel)",
   "language": "python",
   "name": "python3"
  },
  "language_info": {
   "codemirror_mode": {
    "name": "ipython",
    "version": 3
   },
   "file_extension": ".py",
   "mimetype": "text/x-python",
   "name": "python",
   "nbconvert_exporter": "python",
   "pygments_lexer": "ipython3",
   "version": "3.9.7"
  },
  "latex_envs": {
   "LaTeX_envs_menu_present": true,
   "autoclose": false,
   "autocomplete": true,
   "bibliofile": "biblio.bib",
   "cite_by": "apalike",
   "current_citInitial": 1,
   "eqLabelWithNumbers": true,
   "eqNumInitial": 1,
   "hotkeys": {
    "equation": "Ctrl-E",
    "itemize": "Ctrl-I"
   },
   "labels_anchors": false,
   "latex_user_defs": false,
   "report_style_numbering": false,
   "user_envs_cfg": false
  }
 },
 "nbformat": 4,
 "nbformat_minor": 5
}
