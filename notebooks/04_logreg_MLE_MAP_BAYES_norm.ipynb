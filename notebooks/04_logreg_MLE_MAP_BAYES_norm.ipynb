{
 "cells": [
  {
   "cell_type": "code",
   "execution_count": 1,
   "id": "c99ae64c",
   "metadata": {},
   "outputs": [],
   "source": [
    "import os\n",
    "import numpy as np\n",
    "import pandas as pd\n",
    "\n",
    "import matplotlib.pyplot as plt\n",
    "import seaborn as sns\n",
    "\n",
    "from sklearn.model_selection import LeaveOneOut\n",
    "from sklearn.linear_model import LogisticRegression\n",
    "from sklearn.metrics import roc_auc_score\n",
    "from sklearn.metrics import classification_report\n",
    "\n",
    "pd.set_option('display.max_columns', None)\n",
    "pd.set_option('display.max_rows', None)"
   ]
  },
  {
   "cell_type": "code",
   "execution_count": 2,
   "id": "9fc5be15",
   "metadata": {},
   "outputs": [],
   "source": [
    "train = pd.read_csv(\"../data/train.csv\").sample(frac=1.0)\n",
    "test = pd.read_csv(\"../data/test.csv\")\n",
    "submission = pd.read_csv(\"../data/sample_submission.csv\")\n",
    "\n",
    "f_cols = [col for col in train.columns if col not in [\"id\", \"target\"]]"
   ]
  },
  {
   "cell_type": "code",
   "execution_count": 3,
   "id": "31dcac9f",
   "metadata": {},
   "outputs": [],
   "source": [
    "def get_predictions(x):\n",
    "    return [1 if xi >= 0.5 else 0 for xi in x]"
   ]
  },
  {
   "cell_type": "code",
   "execution_count": 4,
   "id": "4af50d39",
   "metadata": {},
   "outputs": [],
   "source": [
    "X, y = train[f_cols].values, train[\"target\"].values"
   ]
  },
  {
   "cell_type": "code",
   "execution_count": 5,
   "id": "7c055f7f",
   "metadata": {},
   "outputs": [
    {
     "data": {
      "text/plain": [
       "(250, 300)"
      ]
     },
     "execution_count": 5,
     "metadata": {},
     "output_type": "execute_result"
    }
   ],
   "source": [
    "X.shape"
   ]
  },
  {
   "cell_type": "code",
   "execution_count": 6,
   "id": "7afc1003",
   "metadata": {},
   "outputs": [
    {
     "name": "stdout",
     "output_type": "stream",
     "text": [
      "Models AUC score: 0.7685416666666666\n",
      "              precision    recall  f1-score   support\n",
      "\n",
      "         0.0       0.63      0.52      0.57        90\n",
      "         1.0       0.75      0.82      0.79       160\n",
      "\n",
      "    accuracy                           0.72       250\n",
      "   macro avg       0.69      0.67      0.68       250\n",
      "weighted avg       0.71      0.72      0.71       250\n",
      "\n"
     ]
    }
   ],
   "source": [
    "loo = LeaveOneOut()\n",
    "preds = np.zeros(len(y))\n",
    "for i, (train_index, test_index) in enumerate(loo.split(X)):\n",
    "    X_train, X_test = X[train_index], X[test_index]\n",
    "    y_train = y[train_index]\n",
    "    clf = LogisticRegression(random_state=0, C=1.).fit(X_train, y_train)\n",
    "    preds[test_index] = clf.predict_proba(X_test)[:,1]\n",
    "\n",
    "print(f\"Models AUC score: {roc_auc_score(y, preds)}\")\n",
    "print(classification_report(y, get_predictions(preds)))"
   ]
  },
  {
   "cell_type": "code",
   "execution_count": 7,
   "id": "71699c20",
   "metadata": {},
   "outputs": [],
   "source": [
    "# Logreg MLE\n",
    "log_reg = LogisticRegression(random_state=0, C=1.0).fit(X, y)"
   ]
  },
  {
   "cell_type": "code",
   "execution_count": 8,
   "id": "c2688ea0",
   "metadata": {},
   "outputs": [],
   "source": [
    "X_test = test[f_cols].values\n",
    "y_pred = log_reg.predict_proba(X_test)[:,1]\n",
    "submission[\"target\"] = y_pred"
   ]
  },
  {
   "cell_type": "code",
   "execution_count": 9,
   "id": "484030b8",
   "metadata": {},
   "outputs": [],
   "source": [
    "# LB result 0.74\n",
    "submission.to_csv(\"../submissions/09_logreg_MLE.csv\", index=False)"
   ]
  },
  {
   "cell_type": "code",
   "execution_count": 10,
   "id": "3156e5fa",
   "metadata": {},
   "outputs": [
    {
     "data": {
      "text/html": [
       "<div>\n",
       "<style scoped>\n",
       "    .dataframe tbody tr th:only-of-type {\n",
       "        vertical-align: middle;\n",
       "    }\n",
       "\n",
       "    .dataframe tbody tr th {\n",
       "        vertical-align: top;\n",
       "    }\n",
       "\n",
       "    .dataframe thead th {\n",
       "        text-align: right;\n",
       "    }\n",
       "</style>\n",
       "<table border=\"1\" class=\"dataframe\">\n",
       "  <thead>\n",
       "    <tr style=\"text-align: right;\">\n",
       "      <th></th>\n",
       "      <th>id</th>\n",
       "      <th>target</th>\n",
       "    </tr>\n",
       "  </thead>\n",
       "  <tbody>\n",
       "    <tr>\n",
       "      <th>0</th>\n",
       "      <td>250</td>\n",
       "      <td>0.247957</td>\n",
       "    </tr>\n",
       "    <tr>\n",
       "      <th>1</th>\n",
       "      <td>251</td>\n",
       "      <td>0.065619</td>\n",
       "    </tr>\n",
       "    <tr>\n",
       "      <th>2</th>\n",
       "      <td>252</td>\n",
       "      <td>0.758937</td>\n",
       "    </tr>\n",
       "    <tr>\n",
       "      <th>3</th>\n",
       "      <td>253</td>\n",
       "      <td>0.999923</td>\n",
       "    </tr>\n",
       "    <tr>\n",
       "      <th>4</th>\n",
       "      <td>254</td>\n",
       "      <td>0.278511</td>\n",
       "    </tr>\n",
       "  </tbody>\n",
       "</table>\n",
       "</div>"
      ],
      "text/plain": [
       "    id    target\n",
       "0  250  0.247957\n",
       "1  251  0.065619\n",
       "2  252  0.758937\n",
       "3  253  0.999923\n",
       "4  254  0.278511"
      ]
     },
     "execution_count": 10,
     "metadata": {},
     "output_type": "execute_result"
    }
   ],
   "source": [
    "# Score 0.740\n",
    "submission.head()"
   ]
  },
  {
   "cell_type": "markdown",
   "id": "af771660",
   "metadata": {},
   "source": [
    "## Small logreg"
   ]
  },
  {
   "cell_type": "code",
   "execution_count": 11,
   "id": "dd86e557",
   "metadata": {},
   "outputs": [],
   "source": [
    "sort_idx = np.argsort(np.abs(log_reg.coef_))\n",
    "sort_coef_vals = np.abs(log_reg.coef_)[0][sort_idx[0]]"
   ]
  },
  {
   "cell_type": "code",
   "execution_count": 12,
   "id": "e191f010",
   "metadata": {},
   "outputs": [],
   "source": [
    "feature_idx = sort_idx[0][-20:]"
   ]
  },
  {
   "cell_type": "code",
   "execution_count": 13,
   "id": "df4e95d7",
   "metadata": {},
   "outputs": [
    {
     "name": "stdout",
     "output_type": "stream",
     "text": [
      "Models AUC score: 0.8890972222222222\n",
      "              precision    recall  f1-score   support\n",
      "\n",
      "         0.0       0.71      0.79      0.75        90\n",
      "         1.0       0.87      0.82      0.85       160\n",
      "\n",
      "    accuracy                           0.81       250\n",
      "   macro avg       0.79      0.80      0.80       250\n",
      "weighted avg       0.81      0.81      0.81       250\n",
      "\n"
     ]
    }
   ],
   "source": [
    "loo = LeaveOneOut()\n",
    "preds = np.zeros(len(y))\n",
    "for i, (train_index, test_index) in enumerate(loo.split(X)):\n",
    "    X_train, X_test = X[:,feature_idx][train_index], X[:,feature_idx][test_index]\n",
    "    y_train = y[train_index]\n",
    "    clf = LogisticRegression(random_state=0, class_weight=\"balanced\").fit(X_train, y_train)\n",
    "    preds[test_index] = clf.predict_proba(X_test)[:,1]\n",
    "\n",
    "print(f\"Models AUC score: {roc_auc_score(y, preds)}\")\n",
    "print(classification_report(y, get_predictions(preds)))"
   ]
  },
  {
   "cell_type": "code",
   "execution_count": 14,
   "id": "b37db29f",
   "metadata": {},
   "outputs": [],
   "source": [
    "log_reg = LogisticRegression(random_state=0, class_weight=\"balanced\").fit(X[:,feature_idx], y)"
   ]
  },
  {
   "cell_type": "code",
   "execution_count": 15,
   "id": "9680a5c0",
   "metadata": {},
   "outputs": [
    {
     "data": {
      "text/html": [
       "<div>\n",
       "<style scoped>\n",
       "    .dataframe tbody tr th:only-of-type {\n",
       "        vertical-align: middle;\n",
       "    }\n",
       "\n",
       "    .dataframe tbody tr th {\n",
       "        vertical-align: top;\n",
       "    }\n",
       "\n",
       "    .dataframe thead th {\n",
       "        text-align: right;\n",
       "    }\n",
       "</style>\n",
       "<table border=\"1\" class=\"dataframe\">\n",
       "  <thead>\n",
       "    <tr style=\"text-align: right;\">\n",
       "      <th></th>\n",
       "      <th>id</th>\n",
       "      <th>target</th>\n",
       "    </tr>\n",
       "  </thead>\n",
       "  <tbody>\n",
       "    <tr>\n",
       "      <th>0</th>\n",
       "      <td>250</td>\n",
       "      <td>0.901263</td>\n",
       "    </tr>\n",
       "    <tr>\n",
       "      <th>1</th>\n",
       "      <td>251</td>\n",
       "      <td>0.368110</td>\n",
       "    </tr>\n",
       "    <tr>\n",
       "      <th>2</th>\n",
       "      <td>252</td>\n",
       "      <td>0.875366</td>\n",
       "    </tr>\n",
       "    <tr>\n",
       "      <th>3</th>\n",
       "      <td>253</td>\n",
       "      <td>0.988967</td>\n",
       "    </tr>\n",
       "    <tr>\n",
       "      <th>4</th>\n",
       "      <td>254</td>\n",
       "      <td>0.210552</td>\n",
       "    </tr>\n",
       "  </tbody>\n",
       "</table>\n",
       "</div>"
      ],
      "text/plain": [
       "    id    target\n",
       "0  250  0.901263\n",
       "1  251  0.368110\n",
       "2  252  0.875366\n",
       "3  253  0.988967\n",
       "4  254  0.210552"
      ]
     },
     "execution_count": 15,
     "metadata": {},
     "output_type": "execute_result"
    }
   ],
   "source": [
    "# 0.801\n",
    "X_test = test[f_cols].values[:,feature_idx]\n",
    "y_pred = log_reg.predict_proba(X_test)[:,1]\n",
    "submission[\"target\"] = y_pred\n",
    "submission.to_csv(\"../submissions/02_weigthed_logreg_20features.csv\", index=False)\n",
    "submission.head()"
   ]
  },
  {
   "cell_type": "markdown",
   "id": "bb07809e",
   "metadata": {},
   "source": [
    "# Gaussian logreg"
   ]
  },
  {
   "cell_type": "markdown",
   "id": "e2a1e245",
   "metadata": {},
   "source": [
    "## MAP l2 estimate C=0.3"
   ]
  },
  {
   "cell_type": "code",
   "execution_count": 16,
   "id": "0da8ca34",
   "metadata": {},
   "outputs": [
    {
     "name": "stdout",
     "output_type": "stream",
     "text": [
      "Models AUC score: 0.7697916666666667\n",
      "              precision    recall  f1-score   support\n",
      "\n",
      "         0.0       0.58      0.62      0.60        90\n",
      "         1.0       0.78      0.74      0.76       160\n",
      "\n",
      "    accuracy                           0.70       250\n",
      "   macro avg       0.68      0.68      0.68       250\n",
      "weighted avg       0.71      0.70      0.70       250\n",
      "\n"
     ]
    }
   ],
   "source": [
    "loo = LeaveOneOut()\n",
    "preds = np.zeros(len(y))\n",
    "for i, (train_index, test_index) in enumerate(loo.split(X)):\n",
    "    X_train, X_test = X[train_index], X[test_index]\n",
    "    y_train = y[train_index]\n",
    "    clf = LogisticRegression(random_state=0, C=.3, penalty=\"l2\", solver='liblinear').fit(X_train, y_train)\n",
    "    preds[test_index] = clf.predict_proba(X_test)[:,1]\n",
    "\n",
    "print(f\"Models AUC score: {roc_auc_score(y, preds)}\")\n",
    "print(classification_report(y, get_predictions(preds)))"
   ]
  },
  {
   "cell_type": "code",
   "execution_count": 17,
   "id": "02b80267",
   "metadata": {},
   "outputs": [],
   "source": [
    "log_reg = LogisticRegression(random_state=0, C=.3, penalty=\"l2\").fit(X_train, y_train)"
   ]
  },
  {
   "cell_type": "code",
   "execution_count": 18,
   "id": "442df90d",
   "metadata": {},
   "outputs": [
    {
     "data": {
      "text/html": [
       "<div>\n",
       "<style scoped>\n",
       "    .dataframe tbody tr th:only-of-type {\n",
       "        vertical-align: middle;\n",
       "    }\n",
       "\n",
       "    .dataframe tbody tr th {\n",
       "        vertical-align: top;\n",
       "    }\n",
       "\n",
       "    .dataframe thead th {\n",
       "        text-align: right;\n",
       "    }\n",
       "</style>\n",
       "<table border=\"1\" class=\"dataframe\">\n",
       "  <thead>\n",
       "    <tr style=\"text-align: right;\">\n",
       "      <th></th>\n",
       "      <th>id</th>\n",
       "      <th>target</th>\n",
       "    </tr>\n",
       "  </thead>\n",
       "  <tbody>\n",
       "    <tr>\n",
       "      <th>0</th>\n",
       "      <td>250</td>\n",
       "      <td>0.392841</td>\n",
       "    </tr>\n",
       "    <tr>\n",
       "      <th>1</th>\n",
       "      <td>251</td>\n",
       "      <td>0.151930</td>\n",
       "    </tr>\n",
       "    <tr>\n",
       "      <th>2</th>\n",
       "      <td>252</td>\n",
       "      <td>0.742124</td>\n",
       "    </tr>\n",
       "    <tr>\n",
       "      <th>3</th>\n",
       "      <td>253</td>\n",
       "      <td>0.999659</td>\n",
       "    </tr>\n",
       "    <tr>\n",
       "      <th>4</th>\n",
       "      <td>254</td>\n",
       "      <td>0.388465</td>\n",
       "    </tr>\n",
       "  </tbody>\n",
       "</table>\n",
       "</div>"
      ],
      "text/plain": [
       "    id    target\n",
       "0  250  0.392841\n",
       "1  251  0.151930\n",
       "2  252  0.742124\n",
       "3  253  0.999659\n",
       "4  254  0.388465"
      ]
     },
     "execution_count": 18,
     "metadata": {},
     "output_type": "execute_result"
    }
   ],
   "source": [
    "# 0.741\n",
    "X_test = test[f_cols].values\n",
    "y_pred = log_reg.predict_proba(X_test)[:,1]\n",
    "submission[\"target\"] = y_pred\n",
    "submission.to_csv(\"../submissions/12_logreg_MAP_l2_c_05.csv\", index=False)\n",
    "submission.head()"
   ]
  },
  {
   "cell_type": "markdown",
   "id": "e21cc48c",
   "metadata": {},
   "source": [
    "## Small map"
   ]
  },
  {
   "cell_type": "code",
   "execution_count": 19,
   "id": "8276b727",
   "metadata": {},
   "outputs": [],
   "source": [
    "sort_idx = np.argsort(np.abs(log_reg.coef_))\n",
    "sort_coef_vals = np.abs(log_reg.coef_)[0][sort_idx[0]]"
   ]
  },
  {
   "cell_type": "code",
   "execution_count": 20,
   "id": "94ea79d4",
   "metadata": {},
   "outputs": [],
   "source": [
    "feature_idx = sort_idx[0][-20:]"
   ]
  },
  {
   "cell_type": "code",
   "execution_count": 21,
   "id": "92fe9705",
   "metadata": {},
   "outputs": [
    {
     "name": "stdout",
     "output_type": "stream",
     "text": [
      "Models AUC score: 0.8941666666666666\n",
      "              precision    recall  f1-score   support\n",
      "\n",
      "         0.0       0.70      0.77      0.73        90\n",
      "         1.0       0.86      0.82      0.84       160\n",
      "\n",
      "    accuracy                           0.80       250\n",
      "   macro avg       0.78      0.79      0.79       250\n",
      "weighted avg       0.81      0.80      0.80       250\n",
      "\n"
     ]
    }
   ],
   "source": [
    "loo = LeaveOneOut()\n",
    "preds = np.zeros(len(y))\n",
    "for i, (train_index, test_index) in enumerate(loo.split(X)):\n",
    "    X_train, X_test = X[:,feature_idx][train_index], X[:,feature_idx][test_index]\n",
    "    y_train = y[train_index]\n",
    "    clf = LogisticRegression(random_state=0, C=.3, penalty=\"l2\", class_weight=\"balanced\").fit(X_train, y_train)\n",
    "    preds[test_index] = clf.predict_proba(X_test)[:,1]\n",
    "\n",
    "print(f\"Models AUC score: {roc_auc_score(y, preds)}\")\n",
    "print(classification_report(y, get_predictions(preds)))"
   ]
  },
  {
   "cell_type": "code",
   "execution_count": 22,
   "id": "e0ed7d26",
   "metadata": {},
   "outputs": [],
   "source": [
    "log_reg = LogisticRegression(random_state=0, C=.3, penalty=\"l2\", class_weight=\"balanced\").fit(X[:,feature_idx], y)"
   ]
  },
  {
   "cell_type": "code",
   "execution_count": 23,
   "id": "b472acbe",
   "metadata": {},
   "outputs": [
    {
     "data": {
      "text/html": [
       "<div>\n",
       "<style scoped>\n",
       "    .dataframe tbody tr th:only-of-type {\n",
       "        vertical-align: middle;\n",
       "    }\n",
       "\n",
       "    .dataframe tbody tr th {\n",
       "        vertical-align: top;\n",
       "    }\n",
       "\n",
       "    .dataframe thead th {\n",
       "        text-align: right;\n",
       "    }\n",
       "</style>\n",
       "<table border=\"1\" class=\"dataframe\">\n",
       "  <thead>\n",
       "    <tr style=\"text-align: right;\">\n",
       "      <th></th>\n",
       "      <th>id</th>\n",
       "      <th>target</th>\n",
       "    </tr>\n",
       "  </thead>\n",
       "  <tbody>\n",
       "    <tr>\n",
       "      <th>0</th>\n",
       "      <td>250</td>\n",
       "      <td>0.900207</td>\n",
       "    </tr>\n",
       "    <tr>\n",
       "      <th>1</th>\n",
       "      <td>251</td>\n",
       "      <td>0.426539</td>\n",
       "    </tr>\n",
       "    <tr>\n",
       "      <th>2</th>\n",
       "      <td>252</td>\n",
       "      <td>0.775134</td>\n",
       "    </tr>\n",
       "    <tr>\n",
       "      <th>3</th>\n",
       "      <td>253</td>\n",
       "      <td>0.985436</td>\n",
       "    </tr>\n",
       "    <tr>\n",
       "      <th>4</th>\n",
       "      <td>254</td>\n",
       "      <td>0.242917</td>\n",
       "    </tr>\n",
       "  </tbody>\n",
       "</table>\n",
       "</div>"
      ],
      "text/plain": [
       "    id    target\n",
       "0  250  0.900207\n",
       "1  251  0.426539\n",
       "2  252  0.775134\n",
       "3  253  0.985436\n",
       "4  254  0.242917"
      ]
     },
     "execution_count": 23,
     "metadata": {},
     "output_type": "execute_result"
    }
   ],
   "source": [
    "# 0.801\n",
    "X_test = test[f_cols].values[:,feature_idx]\n",
    "y_pred = log_reg.predict_proba(X_test)[:,1]\n",
    "submission[\"target\"] = y_pred\n",
    "submission.to_csv(\"../submissions/16_weigthed_logreg_20features_MAP.csv\", index=False)\n",
    "submission.head()"
   ]
  },
  {
   "cell_type": "markdown",
   "id": "380662a5",
   "metadata": {},
   "source": [
    "# Slap-and-spike prior"
   ]
  },
  {
   "cell_type": "code",
   "execution_count": 24,
   "id": "ccc224ef",
   "metadata": {},
   "outputs": [],
   "source": [
    "import pymc3 as pm\n",
    "import theano as tt\n",
    "from scipy.special import expit\n",
    "from scipy.stats import norm, bernoulli"
   ]
  },
  {
   "cell_type": "code",
   "execution_count": 25,
   "id": "5df2eada",
   "metadata": {},
   "outputs": [],
   "source": [
    "X, y = train[f_cols].values, train[\"target\"].values"
   ]
  },
  {
   "cell_type": "markdown",
   "id": "249c6e3b",
   "metadata": {},
   "source": [
    "This is our slab and spike model\n",
    "\n",
    "$$a \\sim \\mathcal{N}(0, 3)$$\n",
    "$$\\gamma_i \\sim Bernoulli(p=0.1)$$\n",
    "$$\\alpha_i|\\sigma_\\beta \\sim \\mathcal{N}(0, \\sigma_\\beta)$$\n",
    "$$e \\sim \\mathcal{N}(0, \\sigma^2_eI_n)$$\n",
    "$$y \\sim \\frac{1}{1+exp(-(a + \\sum_{i=1}^N \\gamma_i \\alpha_i x_i + e))}$$\n",
    "\n",
    "The model parameters are $\\theta = \\{\\gamma_i, \\alpha_i\\}_i^N $. The $\\gamma_i$ and $\\alpha_i$ are modelled IID."
   ]
  },
  {
   "cell_type": "code",
   "execution_count": 26,
   "id": "2f57cbe8",
   "metadata": {},
   "outputs": [],
   "source": [
    "# This model is inspired by the following notebook\n",
    "# https://www.kaggle.com/melondonkey/bayesian-spike-and-slab-in-pymc3\n",
    "prob = 0.1\n",
    "a_mu = 0\n",
    "a_var = 3\n",
    "gamma_var = 1\n",
    "with pm.Model() as model:\n",
    "    # priors inclusion probability\n",
    "    gamma_i = pm.Bernoulli(\"gamma_i\", prob, shape=X.shape[1])\n",
    "    # a is the interception\n",
    "    a = pm.Normal(\"a\", mu=a_mu, sd=a_var)\n",
    "    # The prior for the features varibles which are included\n",
    "    alpha = pm.Normal(\"alpha\", mu=0, sd=gamma_var, shape=X.shape[1])\n",
    "    # Deterministic function\n",
    "    p = pm.math.dot(X,gamma_i * alpha) \n",
    "    # Likelihood\n",
    "    y_obs = pm.Bernoulli(\"y_obs\", pm.invlogit(p + a),  observed=y)\n",
    " "
   ]
  },
  {
   "cell_type": "code",
   "execution_count": 27,
   "id": "4502b38d",
   "metadata": {},
   "outputs": [
    {
     "name": "stderr",
     "output_type": "stream",
     "text": [
      "/var/folders/bx/2b_70g054qg3qt5jhnw30xv40000gn/T/ipykernel_30915/4107618077.py:2: FutureWarning: In v4.0, pm.sample will return an `arviz.InferenceData` object instead of a `MultiTrace` by default. You can pass return_inferencedata=True or return_inferencedata=False to be safe and silence this warning.\n",
      "  trace = pm.sample(4000, random_seed = 37, cores = 1, progressbar = True, chains = 1)\n",
      "Sequential sampling (1 chains in 1 job)\n",
      "CompoundStep\n",
      ">BinaryGibbsMetropolis: [gamma_i]\n",
      ">NUTS: [alpha, a]\n"
     ]
    },
    {
     "data": {
      "text/html": [
       "\n",
       "    <div>\n",
       "        <style>\n",
       "            /* Turns off some styling */\n",
       "            progress {\n",
       "                /* gets rid of default border in Firefox and Opera. */\n",
       "                border: none;\n",
       "                /* Needs to be in here for Safari polyfill so background images work as expected. */\n",
       "                background-size: auto;\n",
       "            }\n",
       "            .progress-bar-interrupted, .progress-bar-interrupted::-webkit-progress-bar {\n",
       "                background: #F44336;\n",
       "            }\n",
       "        </style>\n",
       "      <progress value='5000' class='' max='5000' style='width:300px; height:20px; vertical-align: middle;'></progress>\n",
       "      100.00% [5000/5000 02:29<00:00 Sampling chain 0, 0 divergences]\n",
       "    </div>\n",
       "    "
      ],
      "text/plain": [
       "<IPython.core.display.HTML object>"
      ]
     },
     "metadata": {},
     "output_type": "display_data"
    },
    {
     "name": "stderr",
     "output_type": "stream",
     "text": [
      "Sampling 1 chain for 1_000 tune and 4_000 draw iterations (1_000 + 4_000 draws total) took 150 seconds.\n",
      "Only one chain was sampled, this makes it impossible to run some convergence checks\n"
     ]
    }
   ],
   "source": [
    "with model:\n",
    "    trace = pm.sample(4000, random_seed = 37, cores = 1, progressbar = True, chains = 1)"
   ]
  },
  {
   "cell_type": "markdown",
   "id": "cd63abae",
   "metadata": {},
   "source": [
    "# Map estimate"
   ]
  },
  {
   "cell_type": "markdown",
   "id": "cee44642",
   "metadata": {},
   "source": [
    "The log loss for the spike and slap prior\n",
    "$$p(\\theta) = p(\\{\\gamma_i, \\alpha_i\\}_i^N) = \\prod_{i=1}^N p(\\gamma_i) p(\\alpha_i)$$\n",
    "\n",
    "$$\\log p(\\theta) = \\sum_{i=1}^N \\log Bernoulli(\\gamma_i | p=0.1) + \\log \\mathcal{N}(\\alpha_i | \\mu=0, \\sigma_\\beta=3)$$"
   ]
  },
  {
   "cell_type": "code",
   "execution_count": 28,
   "id": "01eae860",
   "metadata": {},
   "outputs": [],
   "source": [
    "def spike_slab_log_prior(gamma: np.array, alpha: np.array, p, gamma_mu=0, sigma_beta=3):\n",
    "    return (bernoulli.logpmf(gamma, p=p) + norm.logpdf(alpha, loc=gamma_mu, scale=sigma_beta)).sum()"
   ]
  },
  {
   "cell_type": "markdown",
   "id": "e8209175",
   "metadata": {},
   "source": [
    "The negative log likelihood function, i.e. cross entropy"
   ]
  },
  {
   "cell_type": "markdown",
   "id": "70f6825f",
   "metadata": {},
   "source": [
    "$$E(\\mathbf{w}) = -log(p(\\pmb{\\mathbf{t}}|\\pmb{\\mathbf{x}},\\mathbf{w})) \\nonumber$$\n",
    "\n",
    "$$= - \\sum_{n=1}^N \\left( t_n \\ln y(\\mathbf{x}_n) + (1-t_n) \\ln (1-y(\\mathbf{x}_n)) \\right)$$\n",
    "  "
   ]
  },
  {
   "cell_type": "code",
   "execution_count": 29,
   "id": "3b197103",
   "metadata": {},
   "outputs": [],
   "source": [
    "def log_likelihood(a, gamma, alpha, X, T):\n",
    "    y_x = expit(a + np.dot(X, np.transpose(gamma*alpha)))\n",
    "    return (T*np.log(y_x) + ((1-T)*np.log(1-y_x))).sum()"
   ]
  },
  {
   "cell_type": "code",
   "execution_count": 30,
   "id": "15c5b143",
   "metadata": {},
   "outputs": [],
   "source": [
    "prob = 0.1\n",
    "gamma_mu = 0\n",
    "sigma_beta = 3\n",
    "\n",
    "def find_spike_slab_MAP(trace, X, y, prob, gamma_mu, sigma_beta):\n",
    "    min_loss = np.inf\n",
    "    cur_min = -1\n",
    "    for i in range(len(trace)):\n",
    "        tmp_trace = trace[i]\n",
    "        tmp_spike_slab_log_prior = spike_slab_log_prior(tmp_trace[\"gamma_i\"], tmp_trace[\"alpha\"], p=prob, gamma_mu=gamma_mu, sigma_beta=sigma_beta)\n",
    "        tmp_log_likelihood = log_likelihood(tmp_trace[\"a\"], tmp_trace[\"gamma_i\"], tmp_trace[\"alpha\"], X, y)\n",
    "        neq_loss = -(tmp_log_likelihood + tmp_spike_slab_log_prior)\n",
    "        if neq_loss <= min_loss:\n",
    "            min_loss = neq_loss\n",
    "            cur_min = i\n",
    "    return trace[cur_min]\n",
    "    "
   ]
  },
  {
   "cell_type": "code",
   "execution_count": 31,
   "id": "17bedd40",
   "metadata": {},
   "outputs": [],
   "source": [
    "map_trace = find_spike_slab_MAP(trace, X, y, prob, gamma_mu, sigma_beta)"
   ]
  },
  {
   "cell_type": "code",
   "execution_count": 32,
   "id": "3985c96d",
   "metadata": {},
   "outputs": [],
   "source": [
    "map_estimate = map_trace[\"gamma_i\"] * map_trace[\"alpha\"]\n",
    "\n",
    "X_test = test[f_cols].values\n",
    "map_preds = expit(map_trace[\"a\"] + np.dot(X_test, np.transpose(map_estimate)))"
   ]
  },
  {
   "cell_type": "code",
   "execution_count": 33,
   "id": "b1ecc415",
   "metadata": {},
   "outputs": [
    {
     "data": {
      "text/plain": [
       "array([0.99921077, 0.35600056, 0.99270859, ..., 0.02179709, 0.9978996 ,\n",
       "       0.98971878])"
      ]
     },
     "execution_count": 33,
     "metadata": {},
     "output_type": "execute_result"
    }
   ],
   "source": [
    "map_preds"
   ]
  },
  {
   "cell_type": "code",
   "execution_count": 34,
   "id": "14b24245",
   "metadata": {},
   "outputs": [
    {
     "data": {
      "text/html": [
       "<div>\n",
       "<style scoped>\n",
       "    .dataframe tbody tr th:only-of-type {\n",
       "        vertical-align: middle;\n",
       "    }\n",
       "\n",
       "    .dataframe tbody tr th {\n",
       "        vertical-align: top;\n",
       "    }\n",
       "\n",
       "    .dataframe thead th {\n",
       "        text-align: right;\n",
       "    }\n",
       "</style>\n",
       "<table border=\"1\" class=\"dataframe\">\n",
       "  <thead>\n",
       "    <tr style=\"text-align: right;\">\n",
       "      <th></th>\n",
       "      <th>id</th>\n",
       "      <th>target</th>\n",
       "    </tr>\n",
       "  </thead>\n",
       "  <tbody>\n",
       "    <tr>\n",
       "      <th>0</th>\n",
       "      <td>250</td>\n",
       "      <td>0.999211</td>\n",
       "    </tr>\n",
       "    <tr>\n",
       "      <th>1</th>\n",
       "      <td>251</td>\n",
       "      <td>0.356001</td>\n",
       "    </tr>\n",
       "    <tr>\n",
       "      <th>2</th>\n",
       "      <td>252</td>\n",
       "      <td>0.992709</td>\n",
       "    </tr>\n",
       "    <tr>\n",
       "      <th>3</th>\n",
       "      <td>253</td>\n",
       "      <td>0.999916</td>\n",
       "    </tr>\n",
       "    <tr>\n",
       "      <th>4</th>\n",
       "      <td>254</td>\n",
       "      <td>0.100452</td>\n",
       "    </tr>\n",
       "  </tbody>\n",
       "</table>\n",
       "</div>"
      ],
      "text/plain": [
       "    id    target\n",
       "0  250  0.999211\n",
       "1  251  0.356001\n",
       "2  252  0.992709\n",
       "3  253  0.999916\n",
       "4  254  0.100452"
      ]
     },
     "execution_count": 34,
     "metadata": {},
     "output_type": "execute_result"
    }
   ],
   "source": [
    "# 0.803\n",
    "submission[\"target\"] = map_preds\n",
    "submission.to_csv(\"../submissions/14_sas_MAP_logreg.csv\", index=False)\n",
    "submission.head()"
   ]
  },
  {
   "cell_type": "markdown",
   "id": "8485eb27",
   "metadata": {},
   "source": [
    "# Full Bayesian\n",
    "\n"
   ]
  },
  {
   "cell_type": "markdown",
   "id": "65b97b4e",
   "metadata": {},
   "source": [
    "## Bayesian inference"
   ]
  },
  {
   "cell_type": "code",
   "execution_count": 35,
   "id": "55400807",
   "metadata": {},
   "outputs": [],
   "source": [
    "estimate = trace['alpha'] * trace['gamma_i'] \n",
    "X_test = test[f_cols].values\n",
    "preds = np.apply_along_axis(np.mean, 1, expit(trace['a'] + np.dot(X_test, np.transpose(estimate))))"
   ]
  },
  {
   "cell_type": "code",
   "execution_count": 36,
   "id": "831a63af",
   "metadata": {},
   "outputs": [
    {
     "data": {
      "text/html": [
       "<div>\n",
       "<style scoped>\n",
       "    .dataframe tbody tr th:only-of-type {\n",
       "        vertical-align: middle;\n",
       "    }\n",
       "\n",
       "    .dataframe tbody tr th {\n",
       "        vertical-align: top;\n",
       "    }\n",
       "\n",
       "    .dataframe thead th {\n",
       "        text-align: right;\n",
       "    }\n",
       "</style>\n",
       "<table border=\"1\" class=\"dataframe\">\n",
       "  <thead>\n",
       "    <tr style=\"text-align: right;\">\n",
       "      <th></th>\n",
       "      <th>id</th>\n",
       "      <th>target</th>\n",
       "    </tr>\n",
       "  </thead>\n",
       "  <tbody>\n",
       "    <tr>\n",
       "      <th>0</th>\n",
       "      <td>250</td>\n",
       "      <td>0.828190</td>\n",
       "    </tr>\n",
       "    <tr>\n",
       "      <th>1</th>\n",
       "      <td>251</td>\n",
       "      <td>0.728332</td>\n",
       "    </tr>\n",
       "    <tr>\n",
       "      <th>2</th>\n",
       "      <td>252</td>\n",
       "      <td>0.858717</td>\n",
       "    </tr>\n",
       "    <tr>\n",
       "      <th>3</th>\n",
       "      <td>253</td>\n",
       "      <td>0.989215</td>\n",
       "    </tr>\n",
       "    <tr>\n",
       "      <th>4</th>\n",
       "      <td>254</td>\n",
       "      <td>0.489214</td>\n",
       "    </tr>\n",
       "  </tbody>\n",
       "</table>\n",
       "</div>"
      ],
      "text/plain": [
       "    id    target\n",
       "0  250  0.828190\n",
       "1  251  0.728332\n",
       "2  252  0.858717\n",
       "3  253  0.989215\n",
       "4  254  0.489214"
      ]
     },
     "execution_count": 36,
     "metadata": {},
     "output_type": "execute_result"
    }
   ],
   "source": [
    "# 0.854\n",
    "submission[\"target\"] = preds\n",
    "submission.to_csv(\"../submissions/15_sas_Bayesian_logreg.csv\", index=False)\n",
    "submission.head()"
   ]
  },
  {
   "cell_type": "code",
   "execution_count": 37,
   "id": "51496128",
   "metadata": {
    "scrolled": true
   },
   "outputs": [
    {
     "data": {
      "text/plain": [
       "array([0.82818959, 0.72833158, 0.85871703, 0.98921512, 0.48921393,\n",
       "       0.3627952 , 0.40381304, 0.2214204 , 0.94148975, 0.22909256])"
      ]
     },
     "execution_count": 37,
     "metadata": {},
     "output_type": "execute_result"
    }
   ],
   "source": [
    "preds[:10]"
   ]
  },
  {
   "cell_type": "code",
   "execution_count": 38,
   "id": "dcd1c0cc",
   "metadata": {},
   "outputs": [
    {
     "data": {
      "text/plain": [
       "array([0.99921077, 0.35600056, 0.99270859, 0.99991579, 0.10045174,\n",
       "       0.60309571, 0.03386489, 0.23655551, 0.96052939, 0.0131992 ])"
      ]
     },
     "execution_count": 38,
     "metadata": {},
     "output_type": "execute_result"
    }
   ],
   "source": [
    "map_preds[:10]"
   ]
  },
  {
   "cell_type": "code",
   "execution_count": 39,
   "id": "dc8f16e6",
   "metadata": {},
   "outputs": [
    {
     "data": {
      "text/plain": [
       "(0.9256356485014586, 0.12008208417522423)"
      ]
     },
     "execution_count": 39,
     "metadata": {},
     "output_type": "execute_result"
    }
   ],
   "source": [
    "(map_preds[map_preds > 0.5]).mean(), (map_preds[map_preds <= 0.5]).mean()"
   ]
  },
  {
   "cell_type": "code",
   "execution_count": 40,
   "id": "4148ebab",
   "metadata": {},
   "outputs": [
    {
     "data": {
      "text/plain": [
       "(0.8283539638076304, 0.254201777761141)"
      ]
     },
     "execution_count": 40,
     "metadata": {},
     "output_type": "execute_result"
    }
   ],
   "source": [
    "(preds[preds > 0.5]).mean(), (preds[preds <= 0.5]).mean()"
   ]
  },
  {
   "cell_type": "code",
   "execution_count": 41,
   "id": "e122d979",
   "metadata": {},
   "outputs": [
    {
     "data": {
      "image/png": "[encoded data removed]",
      "text/plain": [
       "<Figure size 432x288 with 1 Axes>"
      ]
     },
     "metadata": {
      "needs_background": "light"
     },
     "output_type": "display_data"
    }
   ],
   "source": [
    "plt.hist(map_preds, bins=50, color=\"blue\", alpha=0.5, label=\"MAP_SAS_logreg estimate\")\n",
    "plt.hist(preds, bins=50, color=\"green\", alpha=0.5, label=\"SAS_logreg Bayesian estimate\")\n",
    "plt.xlabel(\"Sigmoid values\")\n",
    "plt.ylabel(\"Frequency\")\n",
    "plt.legend()\n",
    "plt.tight_layout()\n",
    "plt.savefig(\"softmax_values.png\")\n",
    "plt.show()\n"
   ]
  },
  {
   "cell_type": "code",
   "execution_count": null,
   "id": "f9d72398",
   "metadata": {},
   "outputs": [],
   "source": []
  }
 ],
 "metadata": {
  "kernelspec": {
   "display_name": "Python 3 (ipykernel)",
   "language": "python",
   "name": "python3"
  },
  "language_info": {
   "codemirror_mode": {
    "name": "ipython",
    "version": 3
   },
   "file_extension": ".py",
   "mimetype": "text/x-python",
   "name": "python",
   "nbconvert_exporter": "python",
   "pygments_lexer": "ipython3",
   "version": "3.9.7"
  },
  "latex_envs": {
   "LaTeX_envs_menu_present": true,
   "autoclose": false,
   "autocomplete": true,
   "bibliofile": "biblio.bib",
   "cite_by": "apalike",
   "current_citInitial": 1,
   "eqLabelWithNumbers": true,
   "eqNumInitial": 1,
   "hotkeys": {
    "equation": "Ctrl-E",
    "itemize": "Ctrl-I"
   },
   "labels_anchors": false,
   "latex_user_defs": false,
   "report_style_numbering": false,
   "user_envs_cfg": false
  }
 },
 "nbformat": 4,
 "nbformat_minor": 5
}
