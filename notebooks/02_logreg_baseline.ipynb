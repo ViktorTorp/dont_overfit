{
 "cells": [
  {
   "cell_type": "code",
   "execution_count": 1,
   "id": "1306df48",
   "metadata": {},
   "outputs": [],
   "source": [
    "import os\n",
    "import numpy as np\n",
    "import pandas as pd\n",
    "\n",
    "import matplotlib.pyplot as plt\n",
    "import seaborn as sns\n",
    "\n",
    "from sklearn.model_selection import LeaveOneOut\n",
    "from sklearn.linear_model import LogisticRegression\n",
    "from sklearn.metrics import roc_auc_score\n",
    "from sklearn.metrics import classification_report\n",
    "\n",
    "pd.set_option('display.max_columns', None)\n",
    "pd.set_option('display.max_rows', None)"
   ]
  },
  {
   "cell_type": "code",
   "execution_count": 2,
   "id": "35a6c959",
   "metadata": {},
   "outputs": [],
   "source": [
    "train = pd.read_csv(\"../data/train.csv\").sample(frac=1.0)\n",
    "test = pd.read_csv(\"../data/test.csv\")\n",
    "submission = pd.read_csv(\"../data/sample_submission.csv\")\n",
    "\n",
    "f_cols = [col for col in train.columns if col not in [\"id\", \"target\"]]"
   ]
  },
  {
   "cell_type": "code",
   "execution_count": 3,
   "id": "0b44c683",
   "metadata": {},
   "outputs": [],
   "source": [
    "def get_predictions(x):\n",
    "    return [1 if xi >= 0.5 else 0 for xi in x]"
   ]
  },
  {
   "cell_type": "code",
   "execution_count": 4,
   "id": "e14c83e6",
   "metadata": {},
   "outputs": [],
   "source": [
    "X, y = train[f_cols].values, train[\"target\"].values"
   ]
  },
  {
   "cell_type": "code",
   "execution_count": 5,
   "id": "eae02f1b",
   "metadata": {},
   "outputs": [
    {
     "name": "stdout",
     "output_type": "stream",
     "text": [
      "Models AUC score: 0.7685416666666666\n",
      "              precision    recall  f1-score   support\n",
      "\n",
      "         0.0       0.63      0.52      0.57        90\n",
      "         1.0       0.75      0.82      0.79       160\n",
      "\n",
      "    accuracy                           0.72       250\n",
      "   macro avg       0.69      0.67      0.68       250\n",
      "weighted avg       0.71      0.72      0.71       250\n",
      "\n"
     ]
    }
   ],
   "source": [
    "loo = LeaveOneOut()\n",
    "preds = np.zeros(len(y))\n",
    "for i, (train_index, test_index) in enumerate(loo.split(X)):\n",
    "    X_train, X_test = X[train_index], X[test_index]\n",
    "    y_train = y[train_index]\n",
    "    clf = LogisticRegression(random_state=0).fit(X_train, y_train)\n",
    "    preds[test_index] = clf.predict_proba(X_test)[:,1]\n",
    "\n",
    "print(f\"Models AUC score: {roc_auc_score(y, preds)}\")\n",
    "print(classification_report(y, get_predictions(preds)))"
   ]
  },
  {
   "cell_type": "code",
   "execution_count": 6,
   "id": "65f3601b",
   "metadata": {},
   "outputs": [
    {
     "name": "stdout",
     "output_type": "stream",
     "text": [
      "Models AUC score: 0.7690277777777778\n",
      "              precision    recall  f1-score   support\n",
      "\n",
      "         0.0       0.60      0.56      0.58        90\n",
      "         1.0       0.76      0.79      0.78       160\n",
      "\n",
      "    accuracy                           0.71       250\n",
      "   macro avg       0.68      0.67      0.68       250\n",
      "weighted avg       0.70      0.71      0.71       250\n",
      "\n"
     ]
    }
   ],
   "source": [
    "loo = LeaveOneOut()\n",
    "preds = np.zeros(len(y))\n",
    "for i, (train_index, test_index) in enumerate(loo.split(X)):\n",
    "    X_train, X_test = X[train_index], X[test_index]\n",
    "    y_train = y[train_index]\n",
    "    clf = LogisticRegression(random_state=0, class_weight=\"balanced\").fit(X_train, y_train)\n",
    "    preds[test_index] = clf.predict_proba(X_test)[:,1]\n",
    "\n",
    "print(f\"Models AUC score: {roc_auc_score(y, preds)}\")\n",
    "print(classification_report(y, get_predictions(preds)))"
   ]
  },
  {
   "cell_type": "code",
   "execution_count": 7,
   "id": "7013b996",
   "metadata": {},
   "outputs": [],
   "source": [
    "log_reg = LogisticRegression(random_state=0, class_weight=\"balanced\").fit(X, y)"
   ]
  },
  {
   "cell_type": "code",
   "execution_count": 8,
   "id": "37c27753",
   "metadata": {},
   "outputs": [],
   "source": [
    "X_test = test[f_cols].values"
   ]
  },
  {
   "cell_type": "code",
   "execution_count": 9,
   "id": "d9aa92c5",
   "metadata": {},
   "outputs": [],
   "source": [
    "y_pred = log_reg.predict_proba(X_test)[:,1]"
   ]
  },
  {
   "cell_type": "code",
   "execution_count": 10,
   "id": "ee838297",
   "metadata": {},
   "outputs": [],
   "source": [
    "submission[\"target\"] = y_pred"
   ]
  },
  {
   "cell_type": "code",
   "execution_count": 11,
   "id": "31188875",
   "metadata": {},
   "outputs": [],
   "source": [
    "submission.to_csv(\"../submissions/01_weigthed_logreg.csv\", index=False)"
   ]
  },
  {
   "cell_type": "code",
   "execution_count": 12,
   "id": "1fd58e95",
   "metadata": {},
   "outputs": [
    {
     "data": {
      "text/html": [
       "<div>\n",
       "<style scoped>\n",
       "    .dataframe tbody tr th:only-of-type {\n",
       "        vertical-align: middle;\n",
       "    }\n",
       "\n",
       "    .dataframe tbody tr th {\n",
       "        vertical-align: top;\n",
       "    }\n",
       "\n",
       "    .dataframe thead th {\n",
       "        text-align: right;\n",
       "    }\n",
       "</style>\n",
       "<table border=\"1\" class=\"dataframe\">\n",
       "  <thead>\n",
       "    <tr style=\"text-align: right;\">\n",
       "      <th></th>\n",
       "      <th>id</th>\n",
       "      <th>target</th>\n",
       "    </tr>\n",
       "  </thead>\n",
       "  <tbody>\n",
       "    <tr>\n",
       "      <th>0</th>\n",
       "      <td>250</td>\n",
       "      <td>0.193090</td>\n",
       "    </tr>\n",
       "    <tr>\n",
       "      <th>1</th>\n",
       "      <td>251</td>\n",
       "      <td>0.048199</td>\n",
       "    </tr>\n",
       "    <tr>\n",
       "      <th>2</th>\n",
       "      <td>252</td>\n",
       "      <td>0.703955</td>\n",
       "    </tr>\n",
       "    <tr>\n",
       "      <th>3</th>\n",
       "      <td>253</td>\n",
       "      <td>0.999904</td>\n",
       "    </tr>\n",
       "    <tr>\n",
       "      <th>4</th>\n",
       "      <td>254</td>\n",
       "      <td>0.220861</td>\n",
       "    </tr>\n",
       "  </tbody>\n",
       "</table>\n",
       "</div>"
      ],
      "text/plain": [
       "    id    target\n",
       "0  250  0.193090\n",
       "1  251  0.048199\n",
       "2  252  0.703955\n",
       "3  253  0.999904\n",
       "4  254  0.220861"
      ]
     },
     "execution_count": 12,
     "metadata": {},
     "output_type": "execute_result"
    }
   ],
   "source": [
    "# Score 0.740\n",
    "submission.head()"
   ]
  },
  {
   "cell_type": "code",
   "execution_count": 13,
   "id": "7ae233c8",
   "metadata": {},
   "outputs": [],
   "source": [
    "sort_idx = np.argsort(np.abs(log_reg.coef_))\n",
    "sort_coef_vals = np.abs(log_reg.coef_)[0][sort_idx[0]]"
   ]
  },
  {
   "cell_type": "code",
   "execution_count": 14,
   "id": "de6e4e8c",
   "metadata": {},
   "outputs": [
    {
     "data": {
      "text/plain": [
       "array([0.30505514, 0.30626714, 0.31393156, 0.31494067, 0.31710385,\n",
       "       0.31729446, 0.31954889, 0.32098995, 0.3224138 , 0.326504  ,\n",
       "       0.32794461, 0.3336388 , 0.3347309 , 0.33614598, 0.33668442,\n",
       "       0.34154986, 0.34219336, 0.34337978, 0.3456093 , 0.34593102,\n",
       "       0.35350673, 0.35435691, 0.35672601, 0.35806973, 0.35862476,\n",
       "       0.36249289, 0.36580139, 0.36622405, 0.36806515, 0.37181101,\n",
       "       0.37477274, 0.3815167 , 0.39074524, 0.40714677, 0.41621236,\n",
       "       0.43716457, 0.45825316, 0.46220986, 0.46545007, 0.46797557,\n",
       "       0.49355177, 0.49886881, 0.56463455, 0.56491636, 0.56590056,\n",
       "       0.58287906, 0.59937679, 0.64393797, 0.89200031, 1.08009901])"
      ]
     },
     "execution_count": 14,
     "metadata": {},
     "output_type": "execute_result"
    }
   ],
   "source": [
    "sort_coef_vals[-50:]"
   ]
  },
  {
   "cell_type": "code",
   "execution_count": 15,
   "id": "368b7df5",
   "metadata": {},
   "outputs": [],
   "source": [
    "feature_idx = sort_idx[0][-20:]"
   ]
  },
  {
   "cell_type": "code",
   "execution_count": 16,
   "id": "77ca161c",
   "metadata": {},
   "outputs": [
    {
     "data": {
      "text/plain": [
       "array([244, 258, 201, 183,   1, 194, 299, 199,  17, 101,  43,  24, 117,\n",
       "        82, 295, 217,  73,  91,  65,  33])"
      ]
     },
     "execution_count": 16,
     "metadata": {},
     "output_type": "execute_result"
    }
   ],
   "source": [
    "feature_idx"
   ]
  },
  {
   "cell_type": "code",
   "execution_count": 17,
   "id": "69fe58a4",
   "metadata": {},
   "outputs": [
    {
     "name": "stdout",
     "output_type": "stream",
     "text": [
      "Models AUC score: 0.8890972222222222\n",
      "              precision    recall  f1-score   support\n",
      "\n",
      "         0.0       0.71      0.79      0.75        90\n",
      "         1.0       0.87      0.82      0.85       160\n",
      "\n",
      "    accuracy                           0.81       250\n",
      "   macro avg       0.79      0.80      0.80       250\n",
      "weighted avg       0.81      0.81      0.81       250\n",
      "\n"
     ]
    }
   ],
   "source": [
    "loo = LeaveOneOut()\n",
    "preds = np.zeros(len(y))\n",
    "for i, (train_index, test_index) in enumerate(loo.split(X)):\n",
    "    X_train, X_test = X[:,feature_idx][train_index], X[:,feature_idx][test_index]\n",
    "    y_train = y[train_index]\n",
    "    clf = LogisticRegression(random_state=0, class_weight=\"balanced\").fit(X_train, y_train)\n",
    "    preds[test_index] = clf.predict_proba(X_test)[:,1]\n",
    "\n",
    "print(f\"Models AUC score: {roc_auc_score(y, preds)}\")\n",
    "print(classification_report(y, get_predictions(preds)))"
   ]
  },
  {
   "cell_type": "code",
   "execution_count": 18,
   "id": "f97d1d75",
   "metadata": {},
   "outputs": [],
   "source": [
    "log_reg = LogisticRegression(random_state=0, class_weight=\"balanced\").fit(X[:,feature_idx], y)"
   ]
  },
  {
   "cell_type": "code",
   "execution_count": 19,
   "id": "5b43a96f",
   "metadata": {},
   "outputs": [
    {
     "data": {
      "text/html": [
       "<div>\n",
       "<style scoped>\n",
       "    .dataframe tbody tr th:only-of-type {\n",
       "        vertical-align: middle;\n",
       "    }\n",
       "\n",
       "    .dataframe tbody tr th {\n",
       "        vertical-align: top;\n",
       "    }\n",
       "\n",
       "    .dataframe thead th {\n",
       "        text-align: right;\n",
       "    }\n",
       "</style>\n",
       "<table border=\"1\" class=\"dataframe\">\n",
       "  <thead>\n",
       "    <tr style=\"text-align: right;\">\n",
       "      <th></th>\n",
       "      <th>id</th>\n",
       "      <th>target</th>\n",
       "    </tr>\n",
       "  </thead>\n",
       "  <tbody>\n",
       "    <tr>\n",
       "      <th>0</th>\n",
       "      <td>250</td>\n",
       "      <td>0.901263</td>\n",
       "    </tr>\n",
       "    <tr>\n",
       "      <th>1</th>\n",
       "      <td>251</td>\n",
       "      <td>0.368110</td>\n",
       "    </tr>\n",
       "    <tr>\n",
       "      <th>2</th>\n",
       "      <td>252</td>\n",
       "      <td>0.875366</td>\n",
       "    </tr>\n",
       "    <tr>\n",
       "      <th>3</th>\n",
       "      <td>253</td>\n",
       "      <td>0.988967</td>\n",
       "    </tr>\n",
       "    <tr>\n",
       "      <th>4</th>\n",
       "      <td>254</td>\n",
       "      <td>0.210552</td>\n",
       "    </tr>\n",
       "  </tbody>\n",
       "</table>\n",
       "</div>"
      ],
      "text/plain": [
       "    id    target\n",
       "0  250  0.901263\n",
       "1  251  0.368110\n",
       "2  252  0.875366\n",
       "3  253  0.988967\n",
       "4  254  0.210552"
      ]
     },
     "execution_count": 19,
     "metadata": {},
     "output_type": "execute_result"
    }
   ],
   "source": [
    "# 0.801\n",
    "X_test = test[f_cols].values[:,feature_idx]\n",
    "y_pred = log_reg.predict_proba(X_test)[:,1]\n",
    "submission[\"target\"] = y_pred\n",
    "submission.to_csv(\"../submissions/02_weigthed_logreg_20features.csv\", index=False)\n",
    "submission.head()"
   ]
  },
  {
   "cell_type": "markdown",
   "id": "57967490",
   "metadata": {},
   "source": [
    "## Scaled"
   ]
  },
  {
   "cell_type": "code",
   "execution_count": 20,
   "id": "f47f5948",
   "metadata": {},
   "outputs": [],
   "source": [
    "from sklearn import preprocessing"
   ]
  },
  {
   "cell_type": "code",
   "execution_count": 21,
   "id": "9a459cfa",
   "metadata": {},
   "outputs": [],
   "source": [
    "scaler = preprocessing.StandardScaler().fit(X)"
   ]
  },
  {
   "cell_type": "code",
   "execution_count": 22,
   "id": "cbe79afa",
   "metadata": {},
   "outputs": [],
   "source": [
    "X_scaled = scaler.transform(X)"
   ]
  },
  {
   "cell_type": "code",
   "execution_count": 23,
   "id": "5c9b5af8",
   "metadata": {},
   "outputs": [
    {
     "name": "stdout",
     "output_type": "stream",
     "text": [
      "Models AUC score: 0.767638888888889\n",
      "              precision    recall  f1-score   support\n",
      "\n",
      "         0.0       0.62      0.57      0.59        90\n",
      "         1.0       0.77      0.81      0.79       160\n",
      "\n",
      "    accuracy                           0.72       250\n",
      "   macro avg       0.69      0.69      0.69       250\n",
      "weighted avg       0.72      0.72      0.72       250\n",
      "\n"
     ]
    }
   ],
   "source": [
    "loo = LeaveOneOut()\n",
    "preds = np.zeros(len(y))\n",
    "for i, (train_index, test_index) in enumerate(loo.split(X)):\n",
    "    X_train, X_test = X_scaled[train_index], X_scaled[test_index]\n",
    "    y_train = y[train_index]\n",
    "    clf = LogisticRegression(random_state=0, class_weight=\"balanced\").fit(X_train, y_train)\n",
    "    preds[test_index] = clf.predict_proba(X_test)[:,1]\n",
    "\n",
    "print(f\"Models AUC score: {roc_auc_score(y, preds)}\")\n",
    "print(classification_report(y, get_predictions(preds)))"
   ]
  },
  {
   "cell_type": "code",
   "execution_count": 24,
   "id": "2666b6d0",
   "metadata": {},
   "outputs": [],
   "source": [
    "log_reg = LogisticRegression(random_state=0, class_weight=\"balanced\").fit(X_scaled, y)"
   ]
  },
  {
   "cell_type": "code",
   "execution_count": 25,
   "id": "9031e133",
   "metadata": {},
   "outputs": [],
   "source": [
    "X_test_scaled = scaler.transform(X_test)"
   ]
  },
  {
   "cell_type": "code",
   "execution_count": 26,
   "id": "f4bfa9b1",
   "metadata": {},
   "outputs": [
    {
     "data": {
      "text/html": [
       "<div>\n",
       "<style scoped>\n",
       "    .dataframe tbody tr th:only-of-type {\n",
       "        vertical-align: middle;\n",
       "    }\n",
       "\n",
       "    .dataframe tbody tr th {\n",
       "        vertical-align: top;\n",
       "    }\n",
       "\n",
       "    .dataframe thead th {\n",
       "        text-align: right;\n",
       "    }\n",
       "</style>\n",
       "<table border=\"1\" class=\"dataframe\">\n",
       "  <thead>\n",
       "    <tr style=\"text-align: right;\">\n",
       "      <th></th>\n",
       "      <th>id</th>\n",
       "      <th>target</th>\n",
       "    </tr>\n",
       "  </thead>\n",
       "  <tbody>\n",
       "    <tr>\n",
       "      <th>0</th>\n",
       "      <td>250</td>\n",
       "      <td>0.228902</td>\n",
       "    </tr>\n",
       "    <tr>\n",
       "      <th>1</th>\n",
       "      <td>251</td>\n",
       "      <td>0.036039</td>\n",
       "    </tr>\n",
       "    <tr>\n",
       "      <th>2</th>\n",
       "      <td>252</td>\n",
       "      <td>0.677954</td>\n",
       "    </tr>\n",
       "    <tr>\n",
       "      <th>3</th>\n",
       "      <td>253</td>\n",
       "      <td>0.999898</td>\n",
       "    </tr>\n",
       "    <tr>\n",
       "      <th>4</th>\n",
       "      <td>254</td>\n",
       "      <td>0.249494</td>\n",
       "    </tr>\n",
       "  </tbody>\n",
       "</table>\n",
       "</div>"
      ],
      "text/plain": [
       "    id    target\n",
       "0  250  0.228902\n",
       "1  251  0.036039\n",
       "2  252  0.677954\n",
       "3  253  0.999898\n",
       "4  254  0.249494"
      ]
     },
     "execution_count": 26,
     "metadata": {},
     "output_type": "execute_result"
    }
   ],
   "source": [
    "# 0.737\n",
    "X_test = test[f_cols].values\n",
    "X_test_scaled = scaler.transform(X_test)\n",
    "y_pred = log_reg.predict_proba(X_test_scaled)[:,1]\n",
    "submission[\"target\"] = y_pred\n",
    "submission.to_csv(\"../submissions/03_weigthed_logreg_stdscaled.csv\", index=False)\n",
    "submission.head()"
   ]
  },
  {
   "cell_type": "code",
   "execution_count": 27,
   "id": "425a8a3d",
   "metadata": {},
   "outputs": [],
   "source": [
    "sort_idx = np.argsort(np.abs(log_reg.coef_))\n",
    "sort_coef_vals = np.abs(log_reg.coef_)[0][sort_idx[0]]"
   ]
  },
  {
   "cell_type": "code",
   "execution_count": 28,
   "id": "e815a1e4",
   "metadata": {},
   "outputs": [],
   "source": [
    "feature_idx = sort_idx[0][-20:]"
   ]
  },
  {
   "cell_type": "code",
   "execution_count": 29,
   "id": "e642f9c0",
   "metadata": {},
   "outputs": [
    {
     "name": "stdout",
     "output_type": "stream",
     "text": [
      "Models AUC score: 0.8888888888888888\n",
      "              precision    recall  f1-score   support\n",
      "\n",
      "         0.0       0.71      0.79      0.75        90\n",
      "         1.0       0.87      0.82      0.85       160\n",
      "\n",
      "    accuracy                           0.81       250\n",
      "   macro avg       0.79      0.80      0.80       250\n",
      "weighted avg       0.81      0.81      0.81       250\n",
      "\n"
     ]
    }
   ],
   "source": [
    "loo = LeaveOneOut()\n",
    "preds = np.zeros(len(y))\n",
    "for i, (train_index, test_index) in enumerate(loo.split(X)):\n",
    "    X_train, X_test = X_scaled[:,feature_idx][train_index], X_scaled[:,feature_idx][test_index]\n",
    "    y_train = y[train_index]\n",
    "    clf = LogisticRegression(random_state=0, class_weight=\"balanced\").fit(X_train, y_train)\n",
    "    preds[test_index] = clf.predict_proba(X_test)[:,1]\n",
    "\n",
    "print(f\"Models AUC score: {roc_auc_score(y, preds)}\")\n",
    "print(classification_report(y, get_predictions(preds)))"
   ]
  },
  {
   "cell_type": "code",
   "execution_count": 30,
   "id": "79236651",
   "metadata": {},
   "outputs": [],
   "source": [
    "log_reg = LogisticRegression(random_state=0, class_weight=\"balanced\").fit(X_scaled[:,feature_idx], y)"
   ]
  },
  {
   "cell_type": "code",
   "execution_count": 31,
   "id": "495ebbc1",
   "metadata": {},
   "outputs": [
    {
     "data": {
      "text/html": [
       "<div>\n",
       "<style scoped>\n",
       "    .dataframe tbody tr th:only-of-type {\n",
       "        vertical-align: middle;\n",
       "    }\n",
       "\n",
       "    .dataframe tbody tr th {\n",
       "        vertical-align: top;\n",
       "    }\n",
       "\n",
       "    .dataframe thead th {\n",
       "        text-align: right;\n",
       "    }\n",
       "</style>\n",
       "<table border=\"1\" class=\"dataframe\">\n",
       "  <thead>\n",
       "    <tr style=\"text-align: right;\">\n",
       "      <th></th>\n",
       "      <th>id</th>\n",
       "      <th>target</th>\n",
       "    </tr>\n",
       "  </thead>\n",
       "  <tbody>\n",
       "    <tr>\n",
       "      <th>0</th>\n",
       "      <td>250</td>\n",
       "      <td>0.900693</td>\n",
       "    </tr>\n",
       "    <tr>\n",
       "      <th>1</th>\n",
       "      <td>251</td>\n",
       "      <td>0.366339</td>\n",
       "    </tr>\n",
       "    <tr>\n",
       "      <th>2</th>\n",
       "      <td>252</td>\n",
       "      <td>0.874833</td>\n",
       "    </tr>\n",
       "    <tr>\n",
       "      <th>3</th>\n",
       "      <td>253</td>\n",
       "      <td>0.989062</td>\n",
       "    </tr>\n",
       "    <tr>\n",
       "      <th>4</th>\n",
       "      <td>254</td>\n",
       "      <td>0.212043</td>\n",
       "    </tr>\n",
       "  </tbody>\n",
       "</table>\n",
       "</div>"
      ],
      "text/plain": [
       "    id    target\n",
       "0  250  0.900693\n",
       "1  251  0.366339\n",
       "2  252  0.874833\n",
       "3  253  0.989062\n",
       "4  254  0.212043"
      ]
     },
     "execution_count": 31,
     "metadata": {},
     "output_type": "execute_result"
    }
   ],
   "source": [
    "# 0.801\n",
    "X_test = test[f_cols].values\n",
    "X_test_scaled = scaler.transform(X_test)[:,feature_idx]\n",
    "y_pred = log_reg.predict_proba(X_test_scaled)[:,1]\n",
    "submission[\"target\"] = y_pred\n",
    "submission.to_csv(\"../submissions/04_weigthed_logreg_stdscaled_20features.csv\", index=False)\n",
    "submission.head()"
   ]
  },
  {
   "cell_type": "markdown",
   "id": "685f9bb6",
   "metadata": {},
   "source": [
    "## Robost scaled"
   ]
  },
  {
   "cell_type": "code",
   "execution_count": 32,
   "id": "f5efe711",
   "metadata": {},
   "outputs": [],
   "source": [
    "from sklearn import preprocessing"
   ]
  },
  {
   "cell_type": "code",
   "execution_count": 33,
   "id": "1a3440cb",
   "metadata": {},
   "outputs": [],
   "source": [
    "scaler = preprocessing.RobustScaler().fit(X)"
   ]
  },
  {
   "cell_type": "code",
   "execution_count": 34,
   "id": "463eb613",
   "metadata": {},
   "outputs": [],
   "source": [
    "X_scaled = scaler.transform(X)"
   ]
  },
  {
   "cell_type": "code",
   "execution_count": 35,
   "id": "c9af0ab8",
   "metadata": {},
   "outputs": [
    {
     "name": "stdout",
     "output_type": "stream",
     "text": [
      "Models AUC score: 0.7657638888888889\n",
      "              precision    recall  f1-score   support\n",
      "\n",
      "         0.0       0.60      0.54      0.57        90\n",
      "         1.0       0.76      0.80      0.78       160\n",
      "\n",
      "    accuracy                           0.71       250\n",
      "   macro avg       0.68      0.67      0.68       250\n",
      "weighted avg       0.70      0.71      0.70       250\n",
      "\n"
     ]
    }
   ],
   "source": [
    "loo = LeaveOneOut()\n",
    "preds = np.zeros(len(y))\n",
    "for i, (train_index, test_index) in enumerate(loo.split(X)):\n",
    "    X_train, X_test = X_scaled[train_index], X_scaled[test_index]\n",
    "    y_train = y[train_index]\n",
    "    clf = LogisticRegression(random_state=0, class_weight=\"balanced\").fit(X_train, y_train)\n",
    "    preds[test_index] = clf.predict_proba(X_test)[:,1]\n",
    "\n",
    "print(f\"Models AUC score: {roc_auc_score(y, preds)}\")\n",
    "print(classification_report(y, get_predictions(preds)))"
   ]
  },
  {
   "cell_type": "code",
   "execution_count": 36,
   "id": "39c7441e",
   "metadata": {},
   "outputs": [],
   "source": [
    "log_reg = LogisticRegression(random_state=0, class_weight=\"balanced\").fit(X_scaled, y)"
   ]
  },
  {
   "cell_type": "code",
   "execution_count": 37,
   "id": "abe3661e",
   "metadata": {},
   "outputs": [],
   "source": [
    "X_test_scaled = scaler.transform(X_test)"
   ]
  },
  {
   "cell_type": "code",
   "execution_count": 38,
   "id": "62ebf041",
   "metadata": {},
   "outputs": [],
   "source": [
    "sort_idx = np.argsort(np.abs(log_reg.coef_))\n",
    "sort_coef_vals = np.abs(log_reg.coef_)[0][sort_idx[0]]"
   ]
  },
  {
   "cell_type": "code",
   "execution_count": 39,
   "id": "2b569e55",
   "metadata": {},
   "outputs": [],
   "source": [
    "feature_idx = sort_idx[0][-20:]"
   ]
  },
  {
   "cell_type": "code",
   "execution_count": 40,
   "id": "d06cf2d3",
   "metadata": {},
   "outputs": [
    {
     "name": "stdout",
     "output_type": "stream",
     "text": [
      "Models AUC score: 0.8895833333333333\n",
      "              precision    recall  f1-score   support\n",
      "\n",
      "         0.0       0.72      0.79      0.75        90\n",
      "         1.0       0.87      0.82      0.85       160\n",
      "\n",
      "    accuracy                           0.81       250\n",
      "   macro avg       0.80      0.81      0.80       250\n",
      "weighted avg       0.82      0.81      0.81       250\n",
      "\n"
     ]
    }
   ],
   "source": [
    "loo = LeaveOneOut()\n",
    "preds = np.zeros(len(y))\n",
    "for i, (train_index, test_index) in enumerate(loo.split(X)):\n",
    "    X_train, X_test = X_scaled[:,feature_idx][train_index], X_scaled[:,feature_idx][test_index]\n",
    "    y_train = y[train_index]\n",
    "    clf = LogisticRegression(random_state=0, class_weight=\"balanced\").fit(X_train, y_train)\n",
    "    preds[test_index] = clf.predict_proba(X_test)[:,1]\n",
    "\n",
    "print(f\"Models AUC score: {roc_auc_score(y, preds)}\")\n",
    "print(classification_report(y, get_predictions(preds)))"
   ]
  },
  {
   "cell_type": "code",
   "execution_count": 41,
   "id": "059333a3",
   "metadata": {},
   "outputs": [],
   "source": [
    "log_reg = LogisticRegression(random_state=0, class_weight=\"balanced\").fit(X_scaled[:,feature_idx], y)"
   ]
  },
  {
   "cell_type": "code",
   "execution_count": 42,
   "id": "dce1616f",
   "metadata": {},
   "outputs": [
    {
     "data": {
      "text/html": [
       "<div>\n",
       "<style scoped>\n",
       "    .dataframe tbody tr th:only-of-type {\n",
       "        vertical-align: middle;\n",
       "    }\n",
       "\n",
       "    .dataframe tbody tr th {\n",
       "        vertical-align: top;\n",
       "    }\n",
       "\n",
       "    .dataframe thead th {\n",
       "        text-align: right;\n",
       "    }\n",
       "</style>\n",
       "<table border=\"1\" class=\"dataframe\">\n",
       "  <thead>\n",
       "    <tr style=\"text-align: right;\">\n",
       "      <th></th>\n",
       "      <th>id</th>\n",
       "      <th>target</th>\n",
       "    </tr>\n",
       "  </thead>\n",
       "  <tbody>\n",
       "    <tr>\n",
       "      <th>0</th>\n",
       "      <td>250</td>\n",
       "      <td>0.882927</td>\n",
       "    </tr>\n",
       "    <tr>\n",
       "      <th>1</th>\n",
       "      <td>251</td>\n",
       "      <td>0.367765</td>\n",
       "    </tr>\n",
       "    <tr>\n",
       "      <th>2</th>\n",
       "      <td>252</td>\n",
       "      <td>0.854990</td>\n",
       "    </tr>\n",
       "    <tr>\n",
       "      <th>3</th>\n",
       "      <td>253</td>\n",
       "      <td>0.983947</td>\n",
       "    </tr>\n",
       "    <tr>\n",
       "      <th>4</th>\n",
       "      <td>254</td>\n",
       "      <td>0.245938</td>\n",
       "    </tr>\n",
       "  </tbody>\n",
       "</table>\n",
       "</div>"
      ],
      "text/plain": [
       "    id    target\n",
       "0  250  0.882927\n",
       "1  251  0.367765\n",
       "2  252  0.854990\n",
       "3  253  0.983947\n",
       "4  254  0.245938"
      ]
     },
     "execution_count": 42,
     "metadata": {},
     "output_type": "execute_result"
    }
   ],
   "source": [
    "# 0.802\n",
    "X_test = test[f_cols].values\n",
    "X_test_scaled = scaler.transform(X_test)[:,feature_idx]\n",
    "y_pred = log_reg.predict_proba(X_test_scaled)[:,1]\n",
    "submission[\"target\"] = y_pred\n",
    "submission.to_csv(\"../submissions/05_weigthed_logreg_robostscaled_20features.csv\", index=False)\n",
    "submission.head()"
   ]
  },
  {
   "cell_type": "markdown",
   "id": "3770d28c",
   "metadata": {},
   "source": [
    "## Standard scaled with regularisation on C"
   ]
  },
  {
   "cell_type": "code",
   "execution_count": 43,
   "id": "c671c733",
   "metadata": {},
   "outputs": [],
   "source": [
    "from sklearn import preprocessing"
   ]
  },
  {
   "cell_type": "code",
   "execution_count": 44,
   "id": "1a9fb023",
   "metadata": {},
   "outputs": [],
   "source": [
    "scaler = preprocessing.StandardScaler().fit(X)"
   ]
  },
  {
   "cell_type": "code",
   "execution_count": 45,
   "id": "43488d35",
   "metadata": {},
   "outputs": [],
   "source": [
    "X_scaled = scaler.transform(X)"
   ]
  },
  {
   "cell_type": "code",
   "execution_count": 46,
   "id": "5c9b5af8",
   "metadata": {},
   "outputs": [
    {
     "name": "stdout",
     "output_type": "stream",
     "text": [
      "Models AUC score: 0.7690277777777778\n",
      "              precision    recall  f1-score   support\n",
      "\n",
      "         0.0       0.60      0.53      0.56        90\n",
      "         1.0       0.75      0.80      0.78       160\n",
      "\n",
      "    accuracy                           0.70       250\n",
      "   macro avg       0.68      0.67      0.67       250\n",
      "weighted avg       0.70      0.70      0.70       250\n",
      "\n"
     ]
    }
   ],
   "source": [
    "loo = LeaveOneOut()\n",
    "preds = np.zeros(len(y))\n",
    "for i, (train_index, test_index) in enumerate(loo.split(X)):\n",
    "    X_train, X_test = X_scaled[train_index], X_scaled[test_index]\n",
    "    y_train = y[train_index]\n",
    "    clf = LogisticRegression(random_state=0, class_weight=\"balanced\", C=0.1).fit(X_train, y_train)\n",
    "    preds[test_index] = clf.predict_proba(X_test)[:,1]\n",
    "\n",
    "print(f\"Models AUC score: {roc_auc_score(y, preds)}\")\n",
    "print(classification_report(y, get_predictions(preds)))"
   ]
  },
  {
   "cell_type": "code",
   "execution_count": 47,
   "id": "2666b6d0",
   "metadata": {},
   "outputs": [],
   "source": [
    "log_reg = LogisticRegression(random_state=0, class_weight=\"balanced\").fit(X_scaled, y)"
   ]
  },
  {
   "cell_type": "code",
   "execution_count": 48,
   "id": "9031e133",
   "metadata": {},
   "outputs": [],
   "source": [
    "X_test_scaled = scaler.transform(X_test)"
   ]
  },
  {
   "cell_type": "code",
   "execution_count": 49,
   "id": "f4bfa9b1",
   "metadata": {},
   "outputs": [
    {
     "data": {
      "text/html": [
       "<div>\n",
       "<style scoped>\n",
       "    .dataframe tbody tr th:only-of-type {\n",
       "        vertical-align: middle;\n",
       "    }\n",
       "\n",
       "    .dataframe tbody tr th {\n",
       "        vertical-align: top;\n",
       "    }\n",
       "\n",
       "    .dataframe thead th {\n",
       "        text-align: right;\n",
       "    }\n",
       "</style>\n",
       "<table border=\"1\" class=\"dataframe\">\n",
       "  <thead>\n",
       "    <tr style=\"text-align: right;\">\n",
       "      <th></th>\n",
       "      <th>id</th>\n",
       "      <th>target</th>\n",
       "    </tr>\n",
       "  </thead>\n",
       "  <tbody>\n",
       "    <tr>\n",
       "      <th>0</th>\n",
       "      <td>250</td>\n",
       "      <td>0.228902</td>\n",
       "    </tr>\n",
       "    <tr>\n",
       "      <th>1</th>\n",
       "      <td>251</td>\n",
       "      <td>0.036039</td>\n",
       "    </tr>\n",
       "    <tr>\n",
       "      <th>2</th>\n",
       "      <td>252</td>\n",
       "      <td>0.677954</td>\n",
       "    </tr>\n",
       "    <tr>\n",
       "      <th>3</th>\n",
       "      <td>253</td>\n",
       "      <td>0.999898</td>\n",
       "    </tr>\n",
       "    <tr>\n",
       "      <th>4</th>\n",
       "      <td>254</td>\n",
       "      <td>0.249494</td>\n",
       "    </tr>\n",
       "  </tbody>\n",
       "</table>\n",
       "</div>"
      ],
      "text/plain": [
       "    id    target\n",
       "0  250  0.228902\n",
       "1  251  0.036039\n",
       "2  252  0.677954\n",
       "3  253  0.999898\n",
       "4  254  0.249494"
      ]
     },
     "execution_count": 49,
     "metadata": {},
     "output_type": "execute_result"
    }
   ],
   "source": [
    "# 0.737\n",
    "X_test = test[f_cols].values\n",
    "X_test_scaled = scaler.transform(X_test)\n",
    "y_pred = log_reg.predict_proba(X_test_scaled)[:,1]\n",
    "submission[\"target\"] = y_pred\n",
    "submission.to_csv(\"../submissions/06_weigthed_logreg_stdscaled_c_01.csv\", index=False)\n",
    "submission.head()"
   ]
  },
  {
   "cell_type": "code",
   "execution_count": 50,
   "id": "425a8a3d",
   "metadata": {},
   "outputs": [],
   "source": [
    "sort_idx = np.argsort(np.abs(log_reg.coef_))\n",
    "sort_coef_vals = np.abs(log_reg.coef_)[0][sort_idx[0]]"
   ]
  },
  {
   "cell_type": "code",
   "execution_count": 51,
   "id": "e815a1e4",
   "metadata": {},
   "outputs": [],
   "source": [
    "feature_idx = sort_idx[0][-20:]"
   ]
  },
  {
   "cell_type": "code",
   "execution_count": 52,
   "id": "e642f9c0",
   "metadata": {},
   "outputs": [
    {
     "name": "stdout",
     "output_type": "stream",
     "text": [
      "Models AUC score: 0.8888888888888888\n",
      "              precision    recall  f1-score   support\n",
      "\n",
      "         0.0       0.71      0.79      0.75        90\n",
      "         1.0       0.87      0.82      0.85       160\n",
      "\n",
      "    accuracy                           0.81       250\n",
      "   macro avg       0.79      0.80      0.80       250\n",
      "weighted avg       0.81      0.81      0.81       250\n",
      "\n"
     ]
    }
   ],
   "source": [
    "loo = LeaveOneOut()\n",
    "preds = np.zeros(len(y))\n",
    "for i, (train_index, test_index) in enumerate(loo.split(X)):\n",
    "    X_train, X_test = X_scaled[:,feature_idx][train_index], X_scaled[:,feature_idx][test_index]\n",
    "    y_train = y[train_index]\n",
    "    clf = LogisticRegression(random_state=0, class_weight=\"balanced\").fit(X_train, y_train)\n",
    "    preds[test_index] = clf.predict_proba(X_test)[:,1]\n",
    "\n",
    "print(f\"Models AUC score: {roc_auc_score(y, preds)}\")\n",
    "print(classification_report(y, get_predictions(preds)))"
   ]
  },
  {
   "cell_type": "code",
   "execution_count": 53,
   "id": "79236651",
   "metadata": {},
   "outputs": [],
   "source": [
    "log_reg = LogisticRegression(random_state=0, class_weight=\"balanced\").fit(X_scaled[:,feature_idx], y)"
   ]
  },
  {
   "cell_type": "code",
   "execution_count": 54,
   "id": "495ebbc1",
   "metadata": {},
   "outputs": [
    {
     "data": {
      "text/html": [
       "<div>\n",
       "<style scoped>\n",
       "    .dataframe tbody tr th:only-of-type {\n",
       "        vertical-align: middle;\n",
       "    }\n",
       "\n",
       "    .dataframe tbody tr th {\n",
       "        vertical-align: top;\n",
       "    }\n",
       "\n",
       "    .dataframe thead th {\n",
       "        text-align: right;\n",
       "    }\n",
       "</style>\n",
       "<table border=\"1\" class=\"dataframe\">\n",
       "  <thead>\n",
       "    <tr style=\"text-align: right;\">\n",
       "      <th></th>\n",
       "      <th>id</th>\n",
       "      <th>target</th>\n",
       "    </tr>\n",
       "  </thead>\n",
       "  <tbody>\n",
       "    <tr>\n",
       "      <th>0</th>\n",
       "      <td>250</td>\n",
       "      <td>0.900693</td>\n",
       "    </tr>\n",
       "    <tr>\n",
       "      <th>1</th>\n",
       "      <td>251</td>\n",
       "      <td>0.366339</td>\n",
       "    </tr>\n",
       "    <tr>\n",
       "      <th>2</th>\n",
       "      <td>252</td>\n",
       "      <td>0.874833</td>\n",
       "    </tr>\n",
       "    <tr>\n",
       "      <th>3</th>\n",
       "      <td>253</td>\n",
       "      <td>0.989062</td>\n",
       "    </tr>\n",
       "    <tr>\n",
       "      <th>4</th>\n",
       "      <td>254</td>\n",
       "      <td>0.212043</td>\n",
       "    </tr>\n",
       "  </tbody>\n",
       "</table>\n",
       "</div>"
      ],
      "text/plain": [
       "    id    target\n",
       "0  250  0.900693\n",
       "1  251  0.366339\n",
       "2  252  0.874833\n",
       "3  253  0.989062\n",
       "4  254  0.212043"
      ]
     },
     "execution_count": 54,
     "metadata": {},
     "output_type": "execute_result"
    }
   ],
   "source": [
    "# 0.801\n",
    "X_test = test[f_cols].values\n",
    "X_test_scaled = scaler.transform(X_test)[:,feature_idx]\n",
    "y_pred = log_reg.predict_proba(X_test_scaled)[:,1]\n",
    "submission[\"target\"] = y_pred\n",
    "submission.to_csv(\"../submissions/07_weigthed_logreg_stdscaled_c_01_20features.csv\", index=False)\n",
    "submission.head()"
   ]
  },
  {
   "cell_type": "code",
   "execution_count": null,
   "id": "e2fe8f2c",
   "metadata": {},
   "outputs": [],
   "source": []
  },
  {
   "cell_type": "code",
   "execution_count": null,
   "id": "9bfe8ec4",
   "metadata": {},
   "outputs": [],
   "source": []
  }
 ],
 "metadata": {
  "kernelspec": {
   "display_name": "Python 3 (ipykernel)",
   "language": "python",
   "name": "python3"
  },
  "language_info": {
   "codemirror_mode": {
    "name": "ipython",
    "version": 3
   },
   "file_extension": ".py",
   "mimetype": "text/x-python",
   "name": "python",
   "nbconvert_exporter": "python",
   "pygments_lexer": "ipython3",
   "version": "3.9.7"
  },
  "latex_envs": {
   "LaTeX_envs_menu_present": true,
   "autoclose": false,
   "autocomplete": true,
   "bibliofile": "biblio.bib",
   "cite_by": "apalike",
   "current_citInitial": 1,
   "eqLabelWithNumbers": true,
   "eqNumInitial": 1,
   "hotkeys": {
    "equation": "Ctrl-E",
    "itemize": "Ctrl-I"
   },
   "labels_anchors": false,
   "latex_user_defs": false,
   "report_style_numbering": false,
   "user_envs_cfg": false
  }
 },
 "nbformat": 4,
 "nbformat_minor": 5
}
