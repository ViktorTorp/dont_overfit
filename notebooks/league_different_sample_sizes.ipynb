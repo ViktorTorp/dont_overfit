{
 "cells": [
  {
   "cell_type": "code",
   "execution_count": 7,
   "metadata": {},
   "outputs": [],
   "source": [
    "import numpy as np\n",
    "import pandas as pd\n",
    "\n",
    "from sklearn.linear_model import LogisticRegression\n",
    "from sklearn.metrics import classification_report\n",
    "from sklearn.preprocessing import MinMaxScaler\n",
    "from sklearn.metrics import roc_auc_score\n",
    "from sklearn.naive_bayes import GaussianNB\n",
    "from sklearn.tree import DecisionTreeClassifier\n",
    "from sklearn.ensemble import RandomForestClassifier\n",
    "from sklearn.model_selection import GridSearchCV\n",
    "from sklearn.model_selection import StratifiedKFold\n",
    "\n",
    "\n",
    "import pymc3 as pm\n",
    "from scipy.special import expit\n",
    "\n",
    "import matplotlib.pyplot as plt"
   ]
  },
  {
   "cell_type": "code",
   "execution_count": 2,
   "metadata": {},
   "outputs": [
    {
     "name": "stdout",
     "output_type": "stream",
     "text": [
      "ML logreg AUC score: 0.774102782954496\n",
      "L2 logreg AUC score: 0.7787664563120565\n"
     ]
    },
    {
     "name": "stderr",
     "output_type": "stream",
     "text": [
      "<ipython-input-2-99b719ce7225>:83: FutureWarning: In v4.0, pm.sample will return an `arviz.InferenceData` object instead of a `MultiTrace` by default. You can pass return_inferencedata=True or return_inferencedata=False to be safe and silence this warning.\n",
      "  trace = pm.sample(tune=2000, draws = 2000, random_seed = 0, cores = 1, progressbar = True, chains = 1)\n",
      "Auto-assigning NUTS sampler...\n",
      "Initializing NUTS using jitter+adapt_diag...\n",
      "Sequential sampling (1 chains in 1 job)\n",
      "NUTS: [beta_r_heralds, beta_r_towers, beta_r_kills, beta_r_level, beta_r_camps, beta_r_minion, beta_r_gold, beta_b_heralds, beta_b_towers, beta_b_kills, beta_b_level, beta_b_camps, beta_b_minion, beta_b_gold, alpha]\n"
     ]
    },
    {
     "data": {
      "text/html": [
       "\n",
       "    <div>\n",
       "        <style>\n",
       "            /* Turns off some styling */\n",
       "            progress {\n",
       "                /* gets rid of default border in Firefox and Opera. */\n",
       "                border: none;\n",
       "                /* Needs to be in here for Safari polyfill so background images work as expected. */\n",
       "                background-size: auto;\n",
       "            }\n",
       "            .progress-bar-interrupted, .progress-bar-interrupted::-webkit-progress-bar {\n",
       "                background: #F44336;\n",
       "            }\n",
       "        </style>\n",
       "      <progress value='4000' class='' max='4000' style='width:300px; height:20px; vertical-align: middle;'></progress>\n",
       "      100.00% [4000/4000 00:10<00:00 Sampling chain 0, 0 divergences]\n",
       "    </div>\n",
       "    "
      ],
      "text/plain": [
       "<IPython.core.display.HTML object>"
      ]
     },
     "metadata": {},
     "output_type": "display_data"
    },
    {
     "name": "stderr",
     "output_type": "stream",
     "text": [
      "Sampling 1 chain for 2_000 tune and 2_000 draw iterations (2_000 + 2_000 draws total) took 11 seconds.\n",
      "Only one chain was sampled, this makes it impossible to run some convergence checks\n"
     ]
    },
    {
     "name": "stdout",
     "output_type": "stream",
     "text": [
      "Bayesian logreg AUC score: 0.8149395516466748\n",
      "NB AUC score: 0.7672811850064212\n",
      "DT AUC score: 0.7006352284867349\n",
      "RF AUC score: 0.8368456883598487\n",
      "ML logreg AUC score: 0.771626393562527\n",
      "L2 logreg AUC score: 0.7771938296985689\n"
     ]
    },
    {
     "name": "stderr",
     "output_type": "stream",
     "text": [
      "<ipython-input-2-99b719ce7225>:83: FutureWarning: In v4.0, pm.sample will return an `arviz.InferenceData` object instead of a `MultiTrace` by default. You can pass return_inferencedata=True or return_inferencedata=False to be safe and silence this warning.\n",
      "  trace = pm.sample(tune=2000, draws = 2000, random_seed = 0, cores = 1, progressbar = True, chains = 1)\n",
      "Auto-assigning NUTS sampler...\n",
      "Initializing NUTS using jitter+adapt_diag...\n",
      "Sequential sampling (1 chains in 1 job)\n",
      "NUTS: [beta_r_heralds, beta_r_towers, beta_r_kills, beta_r_level, beta_r_camps, beta_r_minion, beta_r_gold, beta_b_heralds, beta_b_towers, beta_b_kills, beta_b_level, beta_b_camps, beta_b_minion, beta_b_gold, alpha]\n"
     ]
    },
    {
     "data": {
      "text/html": [
       "\n",
       "    <div>\n",
       "        <style>\n",
       "            /* Turns off some styling */\n",
       "            progress {\n",
       "                /* gets rid of default border in Firefox and Opera. */\n",
       "                border: none;\n",
       "                /* Needs to be in here for Safari polyfill so background images work as expected. */\n",
       "                background-size: auto;\n",
       "            }\n",
       "            .progress-bar-interrupted, .progress-bar-interrupted::-webkit-progress-bar {\n",
       "                background: #F44336;\n",
       "            }\n",
       "        </style>\n",
       "      <progress value='4000' class='' max='4000' style='width:300px; height:20px; vertical-align: middle;'></progress>\n",
       "      100.00% [4000/4000 00:16<00:00 Sampling chain 0, 0 divergences]\n",
       "    </div>\n",
       "    "
      ],
      "text/plain": [
       "<IPython.core.display.HTML object>"
      ]
     },
     "metadata": {},
     "output_type": "display_data"
    },
    {
     "name": "stderr",
     "output_type": "stream",
     "text": [
      "Sampling 1 chain for 2_000 tune and 2_000 draw iterations (2_000 + 2_000 draws total) took 16 seconds.\n",
      "Only one chain was sampled, this makes it impossible to run some convergence checks\n"
     ]
    },
    {
     "name": "stdout",
     "output_type": "stream",
     "text": [
      "Bayesian logreg AUC score: 0.7914762920915352\n",
      "NB AUC score: 0.7686986232015416\n",
      "DT AUC score: 0.7681290922315307\n",
      "RF AUC score: 0.8322220847887316\n",
      "ML logreg AUC score: 0.7723455298771629\n",
      "L2 logreg AUC score: 0.7803258575230128\n"
     ]
    },
    {
     "name": "stderr",
     "output_type": "stream",
     "text": [
      "<ipython-input-2-99b719ce7225>:83: FutureWarning: In v4.0, pm.sample will return an `arviz.InferenceData` object instead of a `MultiTrace` by default. You can pass return_inferencedata=True or return_inferencedata=False to be safe and silence this warning.\n",
      "  trace = pm.sample(tune=2000, draws = 2000, random_seed = 0, cores = 1, progressbar = True, chains = 1)\n",
      "Auto-assigning NUTS sampler...\n",
      "Initializing NUTS using jitter+adapt_diag...\n",
      "Sequential sampling (1 chains in 1 job)\n",
      "NUTS: [beta_r_heralds, beta_r_towers, beta_r_kills, beta_r_level, beta_r_camps, beta_r_minion, beta_r_gold, beta_b_heralds, beta_b_towers, beta_b_kills, beta_b_level, beta_b_camps, beta_b_minion, beta_b_gold, alpha]\n"
     ]
    },
    {
     "data": {
      "text/html": [
       "\n",
       "    <div>\n",
       "        <style>\n",
       "            /* Turns off some styling */\n",
       "            progress {\n",
       "                /* gets rid of default border in Firefox and Opera. */\n",
       "                border: none;\n",
       "                /* Needs to be in here for Safari polyfill so background images work as expected. */\n",
       "                background-size: auto;\n",
       "            }\n",
       "            .progress-bar-interrupted, .progress-bar-interrupted::-webkit-progress-bar {\n",
       "                background: #F44336;\n",
       "            }\n",
       "        </style>\n",
       "      <progress value='4000' class='' max='4000' style='width:300px; height:20px; vertical-align: middle;'></progress>\n",
       "      100.00% [4000/4000 00:24<00:00 Sampling chain 0, 0 divergences]\n",
       "    </div>\n",
       "    "
      ],
      "text/plain": [
       "<IPython.core.display.HTML object>"
      ]
     },
     "metadata": {},
     "output_type": "display_data"
    },
    {
     "name": "stderr",
     "output_type": "stream",
     "text": [
      "Sampling 1 chain for 2_000 tune and 2_000 draw iterations (2_000 + 2_000 draws total) took 25 seconds.\n",
      "Only one chain was sampled, this makes it impossible to run some convergence checks\n"
     ]
    },
    {
     "name": "stdout",
     "output_type": "stream",
     "text": [
      "Bayesian logreg AUC score: 0.7966185376972781\n",
      "NB AUC score: 0.7784777457525112\n",
      "DT AUC score: 0.786082176221488\n",
      "RF AUC score: 0.8407439491296586\n",
      "ML logreg AUC score: 0.7817701537829975\n",
      "L2 logreg AUC score: 0.7828541927459606\n"
     ]
    },
    {
     "name": "stderr",
     "output_type": "stream",
     "text": [
      "<ipython-input-2-99b719ce7225>:83: FutureWarning: In v4.0, pm.sample will return an `arviz.InferenceData` object instead of a `MultiTrace` by default. You can pass return_inferencedata=True or return_inferencedata=False to be safe and silence this warning.\n",
      "  trace = pm.sample(tune=2000, draws = 2000, random_seed = 0, cores = 1, progressbar = True, chains = 1)\n",
      "Auto-assigning NUTS sampler...\n",
      "Initializing NUTS using jitter+adapt_diag...\n",
      "Sequential sampling (1 chains in 1 job)\n",
      "NUTS: [beta_r_heralds, beta_r_towers, beta_r_kills, beta_r_level, beta_r_camps, beta_r_minion, beta_r_gold, beta_b_heralds, beta_b_towers, beta_b_kills, beta_b_level, beta_b_camps, beta_b_minion, beta_b_gold, alpha]\n"
     ]
    },
    {
     "data": {
      "text/html": [
       "\n",
       "    <div>\n",
       "        <style>\n",
       "            /* Turns off some styling */\n",
       "            progress {\n",
       "                /* gets rid of default border in Firefox and Opera. */\n",
       "                border: none;\n",
       "                /* Needs to be in here for Safari polyfill so background images work as expected. */\n",
       "                background-size: auto;\n",
       "            }\n",
       "            .progress-bar-interrupted, .progress-bar-interrupted::-webkit-progress-bar {\n",
       "                background: #F44336;\n",
       "            }\n",
       "        </style>\n",
       "      <progress value='4000' class='' max='4000' style='width:300px; height:20px; vertical-align: middle;'></progress>\n",
       "      100.00% [4000/4000 00:35<00:00 Sampling chain 0, 0 divergences]\n",
       "    </div>\n",
       "    "
      ],
      "text/plain": [
       "<IPython.core.display.HTML object>"
      ]
     },
     "metadata": {},
     "output_type": "display_data"
    },
    {
     "name": "stderr",
     "output_type": "stream",
     "text": [
      "Sampling 1 chain for 2_000 tune and 2_000 draw iterations (2_000 + 2_000 draws total) took 35 seconds.\n",
      "Only one chain was sampled, this makes it impossible to run some convergence checks\n"
     ]
    },
    {
     "name": "stdout",
     "output_type": "stream",
     "text": [
      "Bayesian logreg AUC score: 0.8060160260613154\n",
      "NB AUC score: 0.7815720826848079\n",
      "DT AUC score: 0.8059863759237288\n",
      "RF AUC score: 0.8595538020205354\n",
      "ML logreg AUC score: 0.7827625875917511\n",
      "L2 logreg AUC score: 0.7841553872906288\n"
     ]
    },
    {
     "name": "stderr",
     "output_type": "stream",
     "text": [
      "<ipython-input-2-99b719ce7225>:83: FutureWarning: In v4.0, pm.sample will return an `arviz.InferenceData` object instead of a `MultiTrace` by default. You can pass return_inferencedata=True or return_inferencedata=False to be safe and silence this warning.\n",
      "  trace = pm.sample(tune=2000, draws = 2000, random_seed = 0, cores = 1, progressbar = True, chains = 1)\n",
      "Auto-assigning NUTS sampler...\n",
      "Initializing NUTS using jitter+adapt_diag...\n",
      "Sequential sampling (1 chains in 1 job)\n",
      "NUTS: [beta_r_heralds, beta_r_towers, beta_r_kills, beta_r_level, beta_r_camps, beta_r_minion, beta_r_gold, beta_b_heralds, beta_b_towers, beta_b_kills, beta_b_level, beta_b_camps, beta_b_minion, beta_b_gold, alpha]\n"
     ]
    },
    {
     "data": {
      "text/html": [
       "\n",
       "    <div>\n",
       "        <style>\n",
       "            /* Turns off some styling */\n",
       "            progress {\n",
       "                /* gets rid of default border in Firefox and Opera. */\n",
       "                border: none;\n",
       "                /* Needs to be in here for Safari polyfill so background images work as expected. */\n",
       "                background-size: auto;\n",
       "            }\n",
       "            .progress-bar-interrupted, .progress-bar-interrupted::-webkit-progress-bar {\n",
       "                background: #F44336;\n",
       "            }\n",
       "        </style>\n",
       "      <progress value='4000' class='' max='4000' style='width:300px; height:20px; vertical-align: middle;'></progress>\n",
       "      100.00% [4000/4000 01:17<00:00 Sampling chain 0, 0 divergences]\n",
       "    </div>\n",
       "    "
      ],
      "text/plain": [
       "<IPython.core.display.HTML object>"
      ]
     },
     "metadata": {},
     "output_type": "display_data"
    },
    {
     "name": "stderr",
     "output_type": "stream",
     "text": [
      "Sampling 1 chain for 2_000 tune and 2_000 draw iterations (2_000 + 2_000 draws total) took 77 seconds.\n",
      "Only one chain was sampled, this makes it impossible to run some convergence checks\n"
     ]
    },
    {
     "name": "stdout",
     "output_type": "stream",
     "text": [
      "Bayesian logreg AUC score: 0.8017903581465122\n",
      "NB AUC score: 0.7822949449458321\n",
      "DT AUC score: 0.8188111763230855\n",
      "RF AUC score: 0.8628659098850768\n",
      "ML logreg AUC score: 0.7855432361545278\n",
      "L2 logreg AUC score: 0.7858866685099579\n"
     ]
    },
    {
     "name": "stderr",
     "output_type": "stream",
     "text": [
      "<ipython-input-2-99b719ce7225>:83: FutureWarning: In v4.0, pm.sample will return an `arviz.InferenceData` object instead of a `MultiTrace` by default. You can pass return_inferencedata=True or return_inferencedata=False to be safe and silence this warning.\n",
      "  trace = pm.sample(tune=2000, draws = 2000, random_seed = 0, cores = 1, progressbar = True, chains = 1)\n",
      "Auto-assigning NUTS sampler...\n",
      "Initializing NUTS using jitter+adapt_diag...\n",
      "Sequential sampling (1 chains in 1 job)\n",
      "NUTS: [beta_r_heralds, beta_r_towers, beta_r_kills, beta_r_level, beta_r_camps, beta_r_minion, beta_r_gold, beta_b_heralds, beta_b_towers, beta_b_kills, beta_b_level, beta_b_camps, beta_b_minion, beta_b_gold, alpha]\n"
     ]
    },
    {
     "data": {
      "text/html": [
       "\n",
       "    <div>\n",
       "        <style>\n",
       "            /* Turns off some styling */\n",
       "            progress {\n",
       "                /* gets rid of default border in Firefox and Opera. */\n",
       "                border: none;\n",
       "                /* Needs to be in here for Safari polyfill so background images work as expected. */\n",
       "                background-size: auto;\n",
       "            }\n",
       "            .progress-bar-interrupted, .progress-bar-interrupted::-webkit-progress-bar {\n",
       "                background: #F44336;\n",
       "            }\n",
       "        </style>\n",
       "      <progress value='4000' class='' max='4000' style='width:300px; height:20px; vertical-align: middle;'></progress>\n",
       "      100.00% [4000/4000 02:18<00:00 Sampling chain 0, 0 divergences]\n",
       "    </div>\n",
       "    "
      ],
      "text/plain": [
       "<IPython.core.display.HTML object>"
      ]
     },
     "metadata": {},
     "output_type": "display_data"
    },
    {
     "name": "stderr",
     "output_type": "stream",
     "text": [
      "Sampling 1 chain for 2_000 tune and 2_000 draw iterations (2_000 + 2_000 draws total) took 138 seconds.\n",
      "Only one chain was sampled, this makes it impossible to run some convergence checks\n"
     ]
    },
    {
     "name": "stdout",
     "output_type": "stream",
     "text": [
      "Bayesian logreg AUC score: 0.8391971857559115\n",
      "NB AUC score: 0.7832759945856925\n",
      "DT AUC score: 0.826341957657364\n",
      "RF AUC score: 0.8655056165249627\n",
      "ML logreg AUC score: 0.7858463008575559\n",
      "L2 logreg AUC score: 0.7862940853093073\n"
     ]
    },
    {
     "name": "stderr",
     "output_type": "stream",
     "text": [
      "<ipython-input-2-99b719ce7225>:83: FutureWarning: In v4.0, pm.sample will return an `arviz.InferenceData` object instead of a `MultiTrace` by default. You can pass return_inferencedata=True or return_inferencedata=False to be safe and silence this warning.\n",
      "  trace = pm.sample(tune=2000, draws = 2000, random_seed = 0, cores = 1, progressbar = True, chains = 1)\n",
      "Auto-assigning NUTS sampler...\n",
      "Initializing NUTS using jitter+adapt_diag...\n",
      "Sequential sampling (1 chains in 1 job)\n",
      "NUTS: [beta_r_heralds, beta_r_towers, beta_r_kills, beta_r_level, beta_r_camps, beta_r_minion, beta_r_gold, beta_b_heralds, beta_b_towers, beta_b_kills, beta_b_level, beta_b_camps, beta_b_minion, beta_b_gold, alpha]\n"
     ]
    },
    {
     "data": {
      "text/html": [
       "\n",
       "    <div>\n",
       "        <style>\n",
       "            /* Turns off some styling */\n",
       "            progress {\n",
       "                /* gets rid of default border in Firefox and Opera. */\n",
       "                border: none;\n",
       "                /* Needs to be in here for Safari polyfill so background images work as expected. */\n",
       "                background-size: auto;\n",
       "            }\n",
       "            .progress-bar-interrupted, .progress-bar-interrupted::-webkit-progress-bar {\n",
       "                background: #F44336;\n",
       "            }\n",
       "        </style>\n",
       "      <progress value='4000' class='' max='4000' style='width:300px; height:20px; vertical-align: middle;'></progress>\n",
       "      100.00% [4000/4000 03:42<00:00 Sampling chain 0, 0 divergences]\n",
       "    </div>\n",
       "    "
      ],
      "text/plain": [
       "<IPython.core.display.HTML object>"
      ]
     },
     "metadata": {},
     "output_type": "display_data"
    },
    {
     "name": "stderr",
     "output_type": "stream",
     "text": [
      "Sampling 1 chain for 2_000 tune and 2_000 draw iterations (2_000 + 2_000 draws total) took 223 seconds.\n",
      "Only one chain was sampled, this makes it impossible to run some convergence checks\n"
     ]
    },
    {
     "name": "stdout",
     "output_type": "stream",
     "text": [
      "Bayesian logreg AUC score: 0.8476255268980749\n",
      "NB AUC score: 0.7832314844470877\n",
      "DT AUC score: 0.8459175667214511\n",
      "RF AUC score: 0.8667092204546593\n"
     ]
    }
   ],
   "source": [
    "sizes = [50, 100, 200, 400, 800, 1600, 2700]\n",
    "models = [\"ML_logreg\", \"L2_logreg\", \"Bayesian_logreg\",\n",
    "          \"naive_bayes\", \"decision_tree\", \"random_forest\"]\n",
    "scores = pd.DataFrame(columns=models, index=sizes)\n",
    "for i in sizes:\n",
    "    train = pd.read_csv(f\"../data/league_train_{i}.csv\")\n",
    "    test = pd.read_csv(f\"../data/league_test_{i}.csv\")\n",
    "    f_cols = [col for col in train.columns if col not in [\"matchId\", \"blue_win\"]]\n",
    "    mms = MinMaxScaler(feature_range=(0.001, 0.999))\n",
    "    X_train = mms.fit_transform(train[f_cols])\n",
    "    y_train = train[\"blue_win\"].values\n",
    "    X_test = mms.transform(test[f_cols])\n",
    "    y_test = test[\"blue_win\"].values\n",
    "    \n",
    "    clf = LogisticRegression(random_state=0, C=1.).fit(X_train, y_train)\n",
    "    preds_test = clf.predict_proba(X_test)\n",
    "    print(f\"ML logreg AUC score: {roc_auc_score(y_test, np.argmax(preds_test, axis=1))}\")\n",
    "    scores.loc[i, \"ML_logreg\"] = roc_auc_score(y_test, np.argmax(preds_test, axis=1))\n",
    "    clf = LogisticRegression(random_state=0, C=0.3).fit(X_train, y_train)\n",
    "    preds_test = clf.predict_proba(X_test)\n",
    "    print(f\"L2 logreg AUC score: {roc_auc_score(y_test, np.argmax(preds_test, axis=1))}\")\n",
    "    scores.loc[i, \"L2_logreg\"] = roc_auc_score(y_test, np.argmax(preds_test, axis=1))\n",
    "\n",
    "    \n",
    "    with pm.Model() as model:\n",
    "        # Alpha is the interception\n",
    "        alpha = pm.Normal(\"alpha\", mu=0, sd=10)\n",
    "        # The prior for the features varibles which are included\n",
    "        #beta = pm.Normal(\"beta\", mu=0, sd=3, shape=X.shape[1])\n",
    "        b_gold = pm.Beta(\"b_gold\", alpha=3, beta=3, observed=X_train[:,f_cols.index(\"blueGold\")])\n",
    "        b_minion = pm.Beta(\"b_minion\", alpha=3, beta=3, observed=X_train[:,f_cols.index(\"blueMinionsKilled\")])\n",
    "        b_jungle_camps = pm.Beta(\"b_camps\", alpha=3, beta=3, observed=X_train[:,f_cols.index(\"blueJungleMinionsKilled\")])\n",
    "        b_avg_level = pm.Beta(\"b_level\", alpha=3, beta=3, observed=X_train[:,f_cols.index(\"blueAvgLevel\")])\n",
    "        b_champ_kills = pm.Beta(\"b_kills\", alpha=3, beta=3, observed=X_train[:,f_cols.index(\"blueChampKills\")])\n",
    "        b_towers_destroyed = pm.Beta(\"b_towers\", alpha=3, beta=5, observed=X_train[:,f_cols.index(\"blueTowersDestroyed\")])\n",
    "        b_herald_kills = pm.Beta(\"b_heralds\", alpha=3, beta=5, observed=X_train[:,f_cols.index(\"blueHeraldKills\")])\n",
    "\n",
    "        r_gold = pm.Beta(\"r_gold\", alpha=3, beta=3, observed=X_train[:,f_cols.index(\"redGold\")])\n",
    "        r_minion = pm.Beta(\"r_minion\", alpha=3, beta=3, observed=X_train[:,f_cols.index(\"redMinionsKilled\")])\n",
    "        r_jungle_camps = pm.Beta(\"r_camps\", alpha=3, beta=3, observed=X_train[:,f_cols.index(\"redJungleMinionsKilled\")])\n",
    "        r_avg_level = pm.Beta(\"r_level\", alpha=3, beta=3, observed=X_train[:,f_cols.index(\"redAvgLevel\")])\n",
    "        r_champ_kills = pm.Beta(\"r_kills\", alpha=3, beta=3, observed=X_train[:,f_cols.index(\"redChampKills\")])\n",
    "        r_towers_destroyed = pm.Beta(\"r_towers\", alpha=3, beta=5, observed=X_train[:,f_cols.index(\"redTowersDestroyed\")])\n",
    "        r_herald_kills = pm.Beta(\"r_heralds\", alpha=3, beta=5, observed=X_train[:,f_cols.index(\"redHeraldKills\")])\n",
    "\n",
    "        #beta = pm.Normal(\"beta\", mu=0, sd=10, shape=X_train.shape[1])\n",
    "        beta_b_gold = pm.Normal(\"beta_b_gold\", mu=6, sd=3)\n",
    "        beta_b_minion = pm.Normal(\"beta_b_minion\", mu=2, sd=1)\n",
    "        beta_b_jungle_camps = pm.Normal(\"beta_b_camps\", mu=2, sd=1)\n",
    "        beta_b_avg_level = pm.Normal(\"beta_b_level\", mu=2, sd=1)\n",
    "        beta_b_champ_kills = pm.Normal(\"beta_b_kills\", mu=2, sd=1)\n",
    "        beta_b_towers_destroyed = pm.Normal(\"beta_b_towers\", mu=2, sd=1)\n",
    "        beta_b_herald_kills = pm.Normal(\"beta_b_heralds\", mu=2, sd=1)\n",
    "\n",
    "\n",
    "        beta_r_gold = pm.Normal(\"beta_r_gold\", mu=-6, sd=3)\n",
    "        beta_r_minion = pm.Normal(\"beta_r_minion\", mu=-2, sd=1)\n",
    "        beta_r_jungle_camps = pm.Normal(\"beta_r_camps\", mu=-2, sd=1)\n",
    "        beta_r_avg_level = pm.Normal(\"beta_r_level\", mu=-2, sd=1)\n",
    "        beta_r_champ_kills = pm.Normal(\"beta_r_kills\", mu=-2, sd=1)\n",
    "        beta_r_towers_destroyed = pm.Normal(\"beta_r_towers\", mu=-2, sd=1)\n",
    "        beta_r_herald_kills = pm.Normal(\"beta_r_heralds\", mu=-2, sd=1)\n",
    "\n",
    "        # Deterministic function\n",
    "        #p = pm.math.dot(X,beta)\n",
    "        p = (b_gold * beta_b_gold +\n",
    "             b_minion * beta_b_minion +\n",
    "             b_jungle_camps * beta_b_jungle_camps +\n",
    "             b_avg_level * beta_b_avg_level +\n",
    "             b_champ_kills * beta_b_champ_kills +\n",
    "             b_towers_destroyed * beta_b_towers_destroyed +\n",
    "             b_herald_kills * beta_b_herald_kills +\n",
    "             r_gold * beta_r_gold +\n",
    "             r_minion * beta_r_minion +\n",
    "             r_jungle_camps * beta_r_jungle_camps +\n",
    "             r_avg_level * beta_r_avg_level +\n",
    "             r_champ_kills * beta_r_champ_kills +\n",
    "             r_towers_destroyed * beta_r_towers_destroyed +\n",
    "             r_herald_kills * beta_r_herald_kills\n",
    "            )\n",
    "\n",
    "        y_obs = pm.Bernoulli(\"y_obs\", pm.invlogit(p + alpha), observed=y_train)\n",
    "        trace = pm.sample(tune=2000, draws = 2000, random_seed = 0, cores = 1, progressbar = True, chains = 1)\n",
    "        results = pd.DataFrame({'beta_b_gold':np.apply_along_axis(np.mean, 0, trace['beta_b_gold']),\n",
    "                        'beta_b_minion':np.apply_along_axis(np.mean, 0, trace['beta_b_minion']),\n",
    "                        'beta_b_camps':np.apply_along_axis(np.mean, 0, trace['beta_b_camps']),\n",
    "                        'beta_b_level':np.apply_along_axis(np.mean, 0, trace['beta_b_level']),\n",
    "                        'beta_b_kills':np.apply_along_axis(np.mean, 0, trace['beta_b_kills']),\n",
    "                        'beta_b_towers':np.apply_along_axis(np.mean, 0, trace['beta_b_towers']),\n",
    "                        'beta_b_heralds': np.apply_along_axis(np.mean, 0, trace['beta_b_heralds']),\n",
    "                        'beta_r_gold':np.apply_along_axis(np.mean, 0, trace['beta_r_gold']),\n",
    "                        'beta_r_minion':np.apply_along_axis(np.mean, 0, trace['beta_r_minion']),\n",
    "                        'beta_r_camps':np.apply_along_axis(np.mean, 0, trace['beta_r_camps']),\n",
    "                        'beta_r_level':np.apply_along_axis(np.mean, 0, trace['beta_r_level']),\n",
    "                        'beta_r_kills':np.apply_along_axis(np.mean, 0, trace['beta_r_kills']),\n",
    "                        'beta_r_towers':np.apply_along_axis(np.mean, 0, trace['beta_r_towers']),\n",
    "                        'beta_r_heralds': np.apply_along_axis(np.mean, 0, trace['beta_r_heralds']),\n",
    "                        'alpha':np.apply_along_axis(np.mean, 0, trace['alpha'])\n",
    "                       }, index=[0])\n",
    "        preds_test = np.apply_along_axis(np.mean, 1, expit(trace['alpha'] + np.dot(X_test, np.transpose(results.drop(\"alpha\", axis=1)) )) )\n",
    "        print(f\"Bayesian logreg AUC score: {roc_auc_score(y_test, preds_test)}\")\n",
    "        scores.loc[i, \"Bayesian_logreg\"] = roc_auc_score(y_test, preds_test)\n",
    "    \n",
    "    gnb = GaussianNB()\n",
    "    gnb.fit(X_train, y_train)\n",
    "    preds_test = gnb.predict(X_test)\n",
    "    print(f\"NB AUC score: {roc_auc_score(y_test, preds_test)}\")\n",
    "    scores.loc[i, \"naive_bayes\"] = roc_auc_score(y_test, preds_test)\n",
    "    \n",
    "    folds = StratifiedKFold(n_splits=5, shuffle=True)\n",
    "    dtc = DecisionTreeClassifier()\n",
    "    parameter_grid = {'max_features': [5,6,7,8,9,10,11,12,13,14],\n",
    "                      'max_depth': [2,3, 4, 5, 6, 7, 8, 9, 10]\n",
    "                     }\n",
    "    grid_search = GridSearchCV(dtc, param_grid=parameter_grid, cv=folds, scoring='roc_auc', n_jobs=-1)\n",
    "    grid_search.fit(X_train, y_train)\n",
    "    dtc = DecisionTreeClassifier(**grid_search.best_params_).fit(X_train,y_train)\n",
    "    preds_test = dtc.predict_proba(X_test)[:,1]\n",
    "    print(f\"DT AUC score: {roc_auc_score(y_test, preds_test)}\")\n",
    "    scores.loc[i, \"decision_tree\"] = roc_auc_score(y_test, preds_test)\n",
    "    \n",
    "    rfc = RandomForestClassifier()\n",
    "    parameter_grid = {'max_features': [5,6,7,8,9,10,11,12,13,14],\n",
    "                      'max_depth': [2,3, 4, 5, 6, 7, 8, 9, 10]\n",
    "                     }\n",
    "    grid_search = GridSearchCV(rfc, param_grid=parameter_grid, cv=folds, scoring='roc_auc', n_jobs=-1)\n",
    "    grid_search.fit(X_train, y_train)\n",
    "    rfc = RandomForestClassifier(**grid_search.best_params_).fit(X_train,y_train)\n",
    "    preds_test = rfc.predict_proba(X_test)[:,1]\n",
    "    print(f\"RF AUC score: {roc_auc_score(y_test, preds_test)}\")\n",
    "    scores.loc[i, \"random_forest\"] = roc_auc_score(y_test, preds_test)"
   ]
  },
  {
   "cell_type": "code",
   "execution_count": null,
   "metadata": {},
   "outputs": [],
   "source": []
  },
  {
   "cell_type": "code",
   "execution_count": 3,
   "metadata": {},
   "outputs": [
    {
     "data": {
      "text/html": [
       "<div>\n",
       "<style scoped>\n",
       "    .dataframe tbody tr th:only-of-type {\n",
       "        vertical-align: middle;\n",
       "    }\n",
       "\n",
       "    .dataframe tbody tr th {\n",
       "        vertical-align: top;\n",
       "    }\n",
       "\n",
       "    .dataframe thead th {\n",
       "        text-align: right;\n",
       "    }\n",
       "</style>\n",
       "<table border=\"1\" class=\"dataframe\">\n",
       "  <thead>\n",
       "    <tr style=\"text-align: right;\">\n",
       "      <th></th>\n",
       "      <th>ML_logreg</th>\n",
       "      <th>L2_logreg</th>\n",
       "      <th>Bayesian_logreg</th>\n",
       "      <th>naive_bayes</th>\n",
       "      <th>decision_tree</th>\n",
       "      <th>random_forest</th>\n",
       "    </tr>\n",
       "  </thead>\n",
       "  <tbody>\n",
       "    <tr>\n",
       "      <th>50</th>\n",
       "      <td>0.774103</td>\n",
       "      <td>0.778766</td>\n",
       "      <td>0.81494</td>\n",
       "      <td>0.767281</td>\n",
       "      <td>0.700635</td>\n",
       "      <td>0.836846</td>\n",
       "    </tr>\n",
       "    <tr>\n",
       "      <th>100</th>\n",
       "      <td>0.771626</td>\n",
       "      <td>0.777194</td>\n",
       "      <td>0.791476</td>\n",
       "      <td>0.768699</td>\n",
       "      <td>0.768129</td>\n",
       "      <td>0.832222</td>\n",
       "    </tr>\n",
       "    <tr>\n",
       "      <th>200</th>\n",
       "      <td>0.772346</td>\n",
       "      <td>0.780326</td>\n",
       "      <td>0.796619</td>\n",
       "      <td>0.778478</td>\n",
       "      <td>0.786082</td>\n",
       "      <td>0.840744</td>\n",
       "    </tr>\n",
       "    <tr>\n",
       "      <th>400</th>\n",
       "      <td>0.78177</td>\n",
       "      <td>0.782854</td>\n",
       "      <td>0.806016</td>\n",
       "      <td>0.781572</td>\n",
       "      <td>0.805986</td>\n",
       "      <td>0.859554</td>\n",
       "    </tr>\n",
       "    <tr>\n",
       "      <th>800</th>\n",
       "      <td>0.782763</td>\n",
       "      <td>0.784155</td>\n",
       "      <td>0.80179</td>\n",
       "      <td>0.782295</td>\n",
       "      <td>0.818811</td>\n",
       "      <td>0.862866</td>\n",
       "    </tr>\n",
       "    <tr>\n",
       "      <th>1600</th>\n",
       "      <td>0.785543</td>\n",
       "      <td>0.785887</td>\n",
       "      <td>0.839197</td>\n",
       "      <td>0.783276</td>\n",
       "      <td>0.826342</td>\n",
       "      <td>0.865506</td>\n",
       "    </tr>\n",
       "    <tr>\n",
       "      <th>2700</th>\n",
       "      <td>0.785846</td>\n",
       "      <td>0.786294</td>\n",
       "      <td>0.847626</td>\n",
       "      <td>0.783231</td>\n",
       "      <td>0.845918</td>\n",
       "      <td>0.866709</td>\n",
       "    </tr>\n",
       "  </tbody>\n",
       "</table>\n",
       "</div>"
      ],
      "text/plain": [
       "     ML_logreg L2_logreg Bayesian_logreg naive_bayes decision_tree  \\\n",
       "50    0.774103  0.778766         0.81494    0.767281      0.700635   \n",
       "100   0.771626  0.777194        0.791476    0.768699      0.768129   \n",
       "200   0.772346  0.780326        0.796619    0.778478      0.786082   \n",
       "400    0.78177  0.782854        0.806016    0.781572      0.805986   \n",
       "800   0.782763  0.784155         0.80179    0.782295      0.818811   \n",
       "1600  0.785543  0.785887        0.839197    0.783276      0.826342   \n",
       "2700  0.785846  0.786294        0.847626    0.783231      0.845918   \n",
       "\n",
       "     random_forest  \n",
       "50        0.836846  \n",
       "100       0.832222  \n",
       "200       0.840744  \n",
       "400       0.859554  \n",
       "800       0.862866  \n",
       "1600      0.865506  \n",
       "2700      0.866709  "
      ]
     },
     "execution_count": 3,
     "metadata": {},
     "output_type": "execute_result"
    }
   ],
   "source": [
    "scores"
   ]
  },
  {
   "cell_type": "code",
   "execution_count": 10,
   "metadata": {},
   "outputs": [
    {
     "data": {
      "text/plain": [
       "<Figure size 432x288 with 0 Axes>"
      ]
     },
     "metadata": {},
     "output_type": "display_data"
    },
    {
     "data": {
      "image/png": "[encoded data removed]",
      "text/plain": [
       "<Figure size 432x288 with 1 Axes>"
      ]
     },
     "metadata": {
      "needs_background": "light"
     },
     "output_type": "display_data"
    }
   ],
   "source": [
    "plt.tight_layout()\n",
    "scores.plot(xlabel=\"Number of samples\", ylabel=\"ROC AUC\")\n",
    "plt.savefig(\"league_sample_sizes.png\")"
   ]
  },
  {
   "cell_type": "code",
   "execution_count": null,
   "metadata": {},
   "outputs": [],
   "source": []
  }
 ],
 "metadata": {
  "kernelspec": {
   "display_name": "stats",
   "language": "python",
   "name": "stats"
  },
  "language_info": {
   "codemirror_mode": {
    "name": "ipython",
    "version": 3
   },
   "file_extension": ".py",
   "mimetype": "text/x-python",
   "name": "python",
   "nbconvert_exporter": "python",
   "pygments_lexer": "ipython3",
   "version": "3.8.10"
  }
 },
 "nbformat": 4,
 "nbformat_minor": 4
}
