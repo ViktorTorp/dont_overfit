{
 "cells": [
  {
   "cell_type": "code",
   "execution_count": 1,
   "metadata": {},
   "outputs": [],
   "source": [
    "import pandas as pd"
   ]
  },
  {
   "cell_type": "code",
   "execution_count": null,
   "metadata": {},
   "outputs": [],
   "source": []
  },
  {
   "cell_type": "code",
   "execution_count": 5,
   "metadata": {},
   "outputs": [],
   "source": [
    "for i in [50, 100, 200, 400, 800, 1600, 2700]:\n",
    "    df = pd.read_csv(\"../data/MatchTimelinesFirst15.csv\").drop(\n",
    "    [\"Unnamed: 0\", \"redDragonKills\", \"blueDragonKills\"], axis=1)\n",
    "    blue = df[df[\"blue_win\"] == 1].sample(n=int(i/2), random_state=0, axis=0, ignore_index=False)\n",
    "    red = df[df[\"blue_win\"] == 0].sample(n=int(i/2), random_state=0, axis=0, ignore_index=False)\n",
    "    train = pd.concat([blue, red], ignore_index=True)\n",
    "    df = df.drop(labels=blue.index, axis=0)\n",
    "    df = df.drop(labels=red.index, axis=0)\n",
    "    train.to_csv(f\"../data/league_train_{i}.csv\", index=False)\n",
    "    df.to_csv(f\"../data/league_test_{i}.csv\", index=False)"
   ]
  },
  {
   "cell_type": "code",
   "execution_count": null,
   "metadata": {},
   "outputs": [],
   "source": []
  },
  {
   "cell_type": "code",
   "execution_count": null,
   "metadata": {},
   "outputs": [],
   "source": []
  }
 ],
 "metadata": {
  "kernelspec": {
   "display_name": "stats",
   "language": "python",
   "name": "stats"
  },
  "language_info": {
   "codemirror_mode": {
    "name": "ipython",
    "version": 3
   },
   "file_extension": ".py",
   "mimetype": "text/x-python",
   "name": "python",
   "nbconvert_exporter": "python",
   "pygments_lexer": "ipython3",
   "version": "3.8.10"
  }
 },
 "nbformat": 4,
 "nbformat_minor": 4
}
