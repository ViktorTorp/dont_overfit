{
 "cells": [
  {
   "cell_type": "code",
   "execution_count": 1,
   "id": "stable-dealing",
   "metadata": {},
   "outputs": [
    {
     "name": "stderr",
     "output_type": "stream",
     "text": [
      "WARNING (theano.tensor.blas): Using NumPy C-API based implementation for BLAS functions.\n"
     ]
    }
   ],
   "source": [
    "import numpy as np\n",
    "import pandas as pd\n",
    "\n",
    "from sklearn.linear_model import LogisticRegression\n",
    "from sklearn.metrics import classification_report\n",
    "from sklearn.preprocessing import MinMaxScaler\n",
    "from sklearn.metrics import roc_auc_score\n",
    "\n",
    "import pymc3 as pm\n",
    "from scipy.special import expit"
   ]
  },
  {
   "cell_type": "code",
   "execution_count": 2,
   "id": "armed-visibility",
   "metadata": {},
   "outputs": [],
   "source": [
    "train = pd.read_csv(\"../data/league_train.csv\").sample(frac=1.0)\n",
    "test = pd.read_csv(\"../data/league_test.csv\")\n",
    "\n",
    "f_cols = [col for col in train.columns if col not in [\"matchId\", \"blue_win\"]]"
   ]
  },
  {
   "cell_type": "code",
   "execution_count": 3,
   "id": "electronic-lease",
   "metadata": {},
   "outputs": [],
   "source": [
    "def get_predictions(x):\n",
    "    return [1 if xi >= 0.5 else 0 for xi in x]"
   ]
  },
  {
   "cell_type": "code",
   "execution_count": 4,
   "id": "missing-oriental",
   "metadata": {},
   "outputs": [],
   "source": [
    "mms = MinMaxScaler(feature_range=(0.001, 0.999))\n",
    "X_train = mms.fit_transform(train[f_cols])\n",
    "y_train = train[\"blue_win\"].values\n",
    "X_test = mms.transform(test[f_cols])\n",
    "y_test = test[\"blue_win\"].values"
   ]
  },
  {
   "cell_type": "code",
   "execution_count": 5,
   "id": "moving-singapore",
   "metadata": {},
   "outputs": [
    {
     "data": {
      "text/plain": [
       "['blueGold',\n",
       " 'blueMinionsKilled',\n",
       " 'blueJungleMinionsKilled',\n",
       " 'blueAvgLevel',\n",
       " 'redGold',\n",
       " 'redMinionsKilled',\n",
       " 'redJungleMinionsKilled',\n",
       " 'redAvgLevel',\n",
       " 'blueChampKills',\n",
       " 'blueHeraldKills',\n",
       " 'blueTowersDestroyed',\n",
       " 'redChampKills',\n",
       " 'redHeraldKills',\n",
       " 'redTowersDestroyed']"
      ]
     },
     "execution_count": 5,
     "metadata": {},
     "output_type": "execute_result"
    }
   ],
   "source": [
    "f_cols"
   ]
  },
  {
   "cell_type": "markdown",
   "id": "center-product",
   "metadata": {},
   "source": [
    "### Logistic regression MLE"
   ]
  },
  {
   "cell_type": "code",
   "execution_count": 6,
   "id": "political-shannon",
   "metadata": {},
   "outputs": [],
   "source": [
    "preds_train = np.zeros(len(y_test))\n",
    "preds_test = np.zeros(len(y_train))"
   ]
  },
  {
   "cell_type": "code",
   "execution_count": 7,
   "id": "nuclear-glucose",
   "metadata": {},
   "outputs": [],
   "source": [
    "clf = LogisticRegression(random_state=0, C=1.).fit(X_train, y_train)\n",
    "preds_test = clf.predict_proba(X_test)\n",
    "preds_train = clf.predict_proba(X_train)"
   ]
  },
  {
   "cell_type": "code",
   "execution_count": null,
   "id": "random-hydrogen",
   "metadata": {},
   "outputs": [],
   "source": []
  },
  {
   "cell_type": "code",
   "execution_count": 8,
   "id": "korean-consumer",
   "metadata": {},
   "outputs": [
    {
     "name": "stdout",
     "output_type": "stream",
     "text": [
      "Models AUC score: 0.792\n",
      "              precision    recall  f1-score   support\n",
      "\n",
      "           0       0.80      0.78      0.79       125\n",
      "           1       0.79      0.80      0.79       125\n",
      "\n",
      "    accuracy                           0.79       250\n",
      "   macro avg       0.79      0.79      0.79       250\n",
      "weighted avg       0.79      0.79      0.79       250\n",
      "\n"
     ]
    }
   ],
   "source": [
    "print(f\"Models AUC score: {roc_auc_score(y_train, np.argmax(preds_train, axis=1))}\")\n",
    "print(classification_report(y_train, np.argmax(preds_train, axis=1)))"
   ]
  },
  {
   "cell_type": "code",
   "execution_count": 9,
   "id": "motivated-script",
   "metadata": {},
   "outputs": [
    {
     "name": "stdout",
     "output_type": "stream",
     "text": [
      "Models AUC score: 0.7773934679348092\n",
      "              precision    recall  f1-score   support\n",
      "\n",
      "           0       0.78      0.77      0.77     23937\n",
      "           1       0.78      0.78      0.78     24464\n",
      "\n",
      "    accuracy                           0.78     48401\n",
      "   macro avg       0.78      0.78      0.78     48401\n",
      "weighted avg       0.78      0.78      0.78     48401\n",
      "\n"
     ]
    }
   ],
   "source": [
    "print(f\"Models AUC score: {roc_auc_score(y_test, np.argmax(preds_test, axis=1))}\")\n",
    "print(classification_report(y_test, np.argmax(preds_test, axis=1)))"
   ]
  },
  {
   "cell_type": "markdown",
   "id": "polish-damage",
   "metadata": {},
   "source": [
    "### L2 Logistic regression C=0.3"
   ]
  },
  {
   "cell_type": "code",
   "execution_count": 10,
   "id": "annoying-bracelet",
   "metadata": {},
   "outputs": [],
   "source": [
    "clf = LogisticRegression(random_state=0, C=0.3).fit(X_train, y_train)\n",
    "preds_test = clf.predict_proba(X_test)\n",
    "preds_train = clf.predict_proba(X_train)"
   ]
  },
  {
   "cell_type": "code",
   "execution_count": 11,
   "id": "handmade-johnston",
   "metadata": {},
   "outputs": [
    {
     "name": "stdout",
     "output_type": "stream",
     "text": [
      "Models AUC score: 0.78\n",
      "              precision    recall  f1-score   support\n",
      "\n",
      "           0       0.79      0.76      0.78       125\n",
      "           1       0.77      0.80      0.78       125\n",
      "\n",
      "    accuracy                           0.78       250\n",
      "   macro avg       0.78      0.78      0.78       250\n",
      "weighted avg       0.78      0.78      0.78       250\n",
      "\n"
     ]
    }
   ],
   "source": [
    "print(f\"Models AUC score: {roc_auc_score(y_train, np.argmax(preds_train, axis=1))}\")\n",
    "print(classification_report(y_train, np.argmax(preds_train, axis=1)))"
   ]
  },
  {
   "cell_type": "code",
   "execution_count": 12,
   "id": "thorough-latitude",
   "metadata": {},
   "outputs": [
    {
     "name": "stdout",
     "output_type": "stream",
     "text": [
      "Models AUC score: 0.7817045293341828\n",
      "              precision    recall  f1-score   support\n",
      "\n",
      "           0       0.78      0.78      0.78     23937\n",
      "           1       0.78      0.78      0.78     24464\n",
      "\n",
      "    accuracy                           0.78     48401\n",
      "   macro avg       0.78      0.78      0.78     48401\n",
      "weighted avg       0.78      0.78      0.78     48401\n",
      "\n"
     ]
    }
   ],
   "source": [
    "print(f\"Models AUC score: {roc_auc_score(y_test, np.argmax(preds_test, axis=1))}\")\n",
    "print(classification_report(y_test, np.argmax(preds_test, axis=1)))"
   ]
  },
  {
   "cell_type": "markdown",
   "id": "direct-perception",
   "metadata": {},
   "source": [
    "### Bayesian Logistic regression"
   ]
  },
  {
   "cell_type": "code",
   "execution_count": 13,
   "id": "medieval-melissa",
   "metadata": {},
   "outputs": [],
   "source": [
    "with pm.Model() as model:\n",
    "    # Alpha is the interception\n",
    "    alpha = pm.Normal(\"alpha\", mu=0, sd=10)\n",
    "    # The prior for the features varibles which are included\n",
    "    #beta = pm.Normal(\"beta\", mu=0, sd=3, shape=X.shape[1])\n",
    "    b_gold = pm.Beta(\"b_gold\", alpha=3, beta=3, observed=X_train[:,f_cols.index(\"blueGold\")])\n",
    "    b_minion = pm.Beta(\"b_minion\", alpha=3, beta=3, observed=X_train[:,f_cols.index(\"blueMinionsKilled\")])\n",
    "    b_jungle_camps = pm.Beta(\"b_camps\", alpha=3, beta=3, observed=X_train[:,f_cols.index(\"blueJungleMinionsKilled\")])\n",
    "    b_avg_level = pm.Beta(\"b_level\", alpha=3, beta=3, observed=X_train[:,f_cols.index(\"blueAvgLevel\")])\n",
    "    b_champ_kills = pm.Beta(\"b_kills\", alpha=3, beta=3, observed=X_train[:,f_cols.index(\"blueChampKills\")])\n",
    "    b_towers_destroyed = pm.Beta(\"b_towers\", alpha=3, beta=5, observed=X_train[:,f_cols.index(\"blueTowersDestroyed\")])\n",
    "    b_herald_kills = pm.Beta(\"b_heralds\", alpha=3, beta=5, observed=X_train[:,f_cols.index(\"blueHeraldKills\")])\n",
    "    \n",
    "    r_gold = pm.Beta(\"r_gold\", alpha=3, beta=3, observed=X_train[:,f_cols.index(\"redGold\")])\n",
    "    r_minion = pm.Beta(\"r_minion\", alpha=3, beta=3, observed=X_train[:,f_cols.index(\"redMinionsKilled\")])\n",
    "    r_jungle_camps = pm.Beta(\"r_camps\", alpha=3, beta=3, observed=X_train[:,f_cols.index(\"redJungleMinionsKilled\")])\n",
    "    r_avg_level = pm.Beta(\"r_level\", alpha=3, beta=3, observed=X_train[:,f_cols.index(\"redAvgLevel\")])\n",
    "    r_champ_kills = pm.Beta(\"r_kills\", alpha=3, beta=3, observed=X_train[:,f_cols.index(\"redChampKills\")])\n",
    "    r_towers_destroyed = pm.Beta(\"r_towers\", alpha=3, beta=5, observed=X_train[:,f_cols.index(\"redTowersDestroyed\")])\n",
    "    r_herald_kills = pm.Beta(\"r_heralds\", alpha=3, beta=5, observed=X_train[:,f_cols.index(\"redHeraldKills\")])\n",
    "    \n",
    "    #beta = pm.Normal(\"beta\", mu=0, sd=10, shape=X_train.shape[1])\n",
    "    beta_b_gold = pm.Normal(\"beta_b_gold\", mu=6, sd=3)\n",
    "    beta_b_minion = pm.Normal(\"beta_b_minion\", mu=2, sd=1)\n",
    "    beta_b_jungle_camps = pm.Normal(\"beta_b_camps\", mu=2, sd=1)\n",
    "    beta_b_avg_level = pm.Normal(\"beta_b_level\", mu=2, sd=1)\n",
    "    beta_b_champ_kills = pm.Normal(\"beta_b_kills\", mu=2, sd=1)\n",
    "    beta_b_towers_destroyed = pm.Normal(\"beta_b_towers\", mu=2, sd=1)\n",
    "    beta_b_herald_kills = pm.Normal(\"beta_b_heralds\", mu=2, sd=1)\n",
    "\n",
    "\n",
    "    beta_r_gold = pm.Normal(\"beta_r_gold\", mu=-6, sd=3)\n",
    "    beta_r_minion = pm.Normal(\"beta_r_minion\", mu=-2, sd=1)\n",
    "    beta_r_jungle_camps = pm.Normal(\"beta_r_camps\", mu=-2, sd=1)\n",
    "    beta_r_avg_level = pm.Normal(\"beta_r_level\", mu=-2, sd=1)\n",
    "    beta_r_champ_kills = pm.Normal(\"beta_r_kills\", mu=-2, sd=1)\n",
    "    beta_r_towers_destroyed = pm.Normal(\"beta_r_towers\", mu=-2, sd=1)\n",
    "    beta_r_herald_kills = pm.Normal(\"beta_r_heralds\", mu=-2, sd=1)\n",
    "\n",
    "    # Deterministic function\n",
    "    #p = pm.math.dot(X,beta)\n",
    "    p = (b_gold * beta_b_gold +\n",
    "         b_minion * beta_b_minion +\n",
    "         b_jungle_camps * beta_b_jungle_camps +\n",
    "         b_avg_level * beta_b_avg_level +\n",
    "         b_champ_kills * beta_b_champ_kills +\n",
    "         b_towers_destroyed * beta_b_towers_destroyed +\n",
    "         b_herald_kills * beta_b_herald_kills +\n",
    "         r_gold * beta_r_gold +\n",
    "         r_minion * beta_r_minion +\n",
    "         r_jungle_camps * beta_r_jungle_camps +\n",
    "         r_avg_level * beta_r_avg_level +\n",
    "         r_champ_kills * beta_r_champ_kills +\n",
    "         r_towers_destroyed * beta_r_towers_destroyed +\n",
    "         r_herald_kills * beta_r_herald_kills\n",
    "        )\n",
    "\n",
    "    y_obs = pm.Bernoulli(\"y_obs\", pm.invlogit(p + alpha), observed=y_train)\n",
    "    "
   ]
  },
  {
   "cell_type": "code",
   "execution_count": 14,
   "id": "quality-intention",
   "metadata": {},
   "outputs": [
    {
     "name": "stderr",
     "output_type": "stream",
     "text": [
      "<ipython-input-14-3b2e2b36db61>:2: FutureWarning: In v4.0, pm.sample will return an `arviz.InferenceData` object instead of a `MultiTrace` by default. You can pass return_inferencedata=True or return_inferencedata=False to be safe and silence this warning.\n",
      "  trace = pm.sample(tune=2000, draws = 2000, random_seed = 0, cores = 1, progressbar = True, chains = 1)\n",
      "Auto-assigning NUTS sampler...\n",
      "Initializing NUTS using jitter+adapt_diag...\n",
      "Sequential sampling (1 chains in 1 job)\n",
      "NUTS: [beta_r_heralds, beta_r_towers, beta_r_kills, beta_r_level, beta_r_camps, beta_r_minion, beta_r_gold, beta_b_heralds, beta_b_towers, beta_b_kills, beta_b_level, beta_b_camps, beta_b_minion, beta_b_gold, alpha]\n"
     ]
    },
    {
     "data": {
      "text/html": [
       "\n",
       "    <div>\n",
       "        <style>\n",
       "            /* Turns off some styling */\n",
       "            progress {\n",
       "                /* gets rid of default border in Firefox and Opera. */\n",
       "                border: none;\n",
       "                /* Needs to be in here for Safari polyfill so background images work as expected. */\n",
       "                background-size: auto;\n",
       "            }\n",
       "            .progress-bar-interrupted, .progress-bar-interrupted::-webkit-progress-bar {\n",
       "                background: #F44336;\n",
       "            }\n",
       "        </style>\n",
       "      <progress value='4000' class='' max='4000' style='width:300px; height:20px; vertical-align: middle;'></progress>\n",
       "      100.00% [4000/4000 00:16<00:00 Sampling chain 0, 0 divergences]\n",
       "    </div>\n",
       "    "
      ],
      "text/plain": [
       "<IPython.core.display.HTML object>"
      ]
     },
     "metadata": {},
     "output_type": "display_data"
    },
    {
     "name": "stderr",
     "output_type": "stream",
     "text": [
      "Sampling 1 chain for 2_000 tune and 2_000 draw iterations (2_000 + 2_000 draws total) took 16 seconds.\n",
      "Only one chain was sampled, this makes it impossible to run some convergence checks\n"
     ]
    }
   ],
   "source": [
    "with model:\n",
    "    trace = pm.sample(tune=2000, draws = 2000, random_seed = 0, cores = 1, progressbar = True, chains = 1)"
   ]
  },
  {
   "cell_type": "code",
   "execution_count": 15,
   "id": "surprising-organic",
   "metadata": {},
   "outputs": [
    {
     "data": {
      "text/html": [
       "<div>\n",
       "<style scoped>\n",
       "    .dataframe tbody tr th:only-of-type {\n",
       "        vertical-align: middle;\n",
       "    }\n",
       "\n",
       "    .dataframe tbody tr th {\n",
       "        vertical-align: top;\n",
       "    }\n",
       "\n",
       "    .dataframe thead th {\n",
       "        text-align: right;\n",
       "    }\n",
       "</style>\n",
       "<table border=\"1\" class=\"dataframe\">\n",
       "  <thead>\n",
       "    <tr style=\"text-align: right;\">\n",
       "      <th></th>\n",
       "      <th>0</th>\n",
       "    </tr>\n",
       "  </thead>\n",
       "  <tbody>\n",
       "    <tr>\n",
       "      <th>beta_b_gold</th>\n",
       "      <td>3.722213</td>\n",
       "    </tr>\n",
       "    <tr>\n",
       "      <th>beta_b_minion</th>\n",
       "      <td>1.510552</td>\n",
       "    </tr>\n",
       "    <tr>\n",
       "      <th>beta_b_camps</th>\n",
       "      <td>1.317596</td>\n",
       "    </tr>\n",
       "    <tr>\n",
       "      <th>beta_b_level</th>\n",
       "      <td>0.515810</td>\n",
       "    </tr>\n",
       "    <tr>\n",
       "      <th>beta_b_kills</th>\n",
       "      <td>1.735135</td>\n",
       "    </tr>\n",
       "    <tr>\n",
       "      <th>beta_b_towers</th>\n",
       "      <td>0.940893</td>\n",
       "    </tr>\n",
       "    <tr>\n",
       "      <th>beta_b_heralds</th>\n",
       "      <td>0.215242</td>\n",
       "    </tr>\n",
       "    <tr>\n",
       "      <th>beta_r_gold</th>\n",
       "      <td>-7.967846</td>\n",
       "    </tr>\n",
       "    <tr>\n",
       "      <th>beta_r_minion</th>\n",
       "      <td>-2.024957</td>\n",
       "    </tr>\n",
       "    <tr>\n",
       "      <th>beta_r_camps</th>\n",
       "      <td>-1.723050</td>\n",
       "    </tr>\n",
       "    <tr>\n",
       "      <th>beta_r_level</th>\n",
       "      <td>-1.471305</td>\n",
       "    </tr>\n",
       "    <tr>\n",
       "      <th>beta_r_kills</th>\n",
       "      <td>-1.614199</td>\n",
       "    </tr>\n",
       "    <tr>\n",
       "      <th>beta_r_towers</th>\n",
       "      <td>-1.576615</td>\n",
       "    </tr>\n",
       "    <tr>\n",
       "      <th>beta_r_heralds</th>\n",
       "      <td>0.083314</td>\n",
       "    </tr>\n",
       "    <tr>\n",
       "      <th>alpha</th>\n",
       "      <td>3.481483</td>\n",
       "    </tr>\n",
       "  </tbody>\n",
       "</table>\n",
       "</div>"
      ],
      "text/plain": [
       "                       0\n",
       "beta_b_gold     3.722213\n",
       "beta_b_minion   1.510552\n",
       "beta_b_camps    1.317596\n",
       "beta_b_level    0.515810\n",
       "beta_b_kills    1.735135\n",
       "beta_b_towers   0.940893\n",
       "beta_b_heralds  0.215242\n",
       "beta_r_gold    -7.967846\n",
       "beta_r_minion  -2.024957\n",
       "beta_r_camps   -1.723050\n",
       "beta_r_level   -1.471305\n",
       "beta_r_kills   -1.614199\n",
       "beta_r_towers  -1.576615\n",
       "beta_r_heralds  0.083314\n",
       "alpha           3.481483"
      ]
     },
     "execution_count": 15,
     "metadata": {},
     "output_type": "execute_result"
    }
   ],
   "source": [
    "results = pd.DataFrame({'beta_b_gold':np.apply_along_axis(np.mean, 0, trace['beta_b_gold']),\n",
    "                        'beta_b_minion':np.apply_along_axis(np.mean, 0, trace['beta_b_minion']),\n",
    "                        'beta_b_camps':np.apply_along_axis(np.mean, 0, trace['beta_b_camps']),\n",
    "                        'beta_b_level':np.apply_along_axis(np.mean, 0, trace['beta_b_level']),\n",
    "                        'beta_b_kills':np.apply_along_axis(np.mean, 0, trace['beta_b_kills']),\n",
    "                        'beta_b_towers':np.apply_along_axis(np.mean, 0, trace['beta_b_towers']),\n",
    "                        'beta_b_heralds': np.apply_along_axis(np.mean, 0, trace['beta_b_heralds']),\n",
    "                        'beta_r_gold':np.apply_along_axis(np.mean, 0, trace['beta_r_gold']),\n",
    "                        'beta_r_minion':np.apply_along_axis(np.mean, 0, trace['beta_r_minion']),\n",
    "                        'beta_r_camps':np.apply_along_axis(np.mean, 0, trace['beta_r_camps']),\n",
    "                        'beta_r_level':np.apply_along_axis(np.mean, 0, trace['beta_r_level']),\n",
    "                        'beta_r_kills':np.apply_along_axis(np.mean, 0, trace['beta_r_kills']),\n",
    "                        'beta_r_towers':np.apply_along_axis(np.mean, 0, trace['beta_r_towers']),\n",
    "                        'beta_r_heralds': np.apply_along_axis(np.mean, 0, trace['beta_r_heralds']),\n",
    "                        'alpha':np.apply_along_axis(np.mean, 0, trace['alpha'])\n",
    "                       }, index=[0])\n",
    "results.T"
   ]
  },
  {
   "cell_type": "code",
   "execution_count": null,
   "id": "quantitative-planning",
   "metadata": {},
   "outputs": [],
   "source": []
  },
  {
   "cell_type": "code",
   "execution_count": 17,
   "id": "bibliographic-agent",
   "metadata": {},
   "outputs": [
    {
     "name": "stdout",
     "output_type": "stream",
     "text": [
      "Models AUC score: 0.814208\n",
      "              precision    recall  f1-score   support\n",
      "\n",
      "           0       0.64      0.91      0.75       125\n",
      "           1       0.85      0.48      0.61       125\n",
      "\n",
      "    accuracy                           0.70       250\n",
      "   macro avg       0.74      0.70      0.68       250\n",
      "weighted avg       0.74      0.70      0.68       250\n",
      "\n"
     ]
    }
   ],
   "source": [
    "preds_train = np.apply_along_axis(np.mean, 1, expit(trace['alpha'] + np.dot(X_train, np.transpose(results.drop(\"alpha\", axis=1)) )) )\n",
    "print(f\"Models AUC score: {roc_auc_score(y_train, preds_train)}\")\n",
    "print(classification_report(y_train, get_predictions(preds_train)))"
   ]
  },
  {
   "cell_type": "code",
   "execution_count": 18,
   "id": "fuzzy-laugh",
   "metadata": {},
   "outputs": [
    {
     "name": "stdout",
     "output_type": "stream",
     "text": [
      "Models AUC score: 0.8141042202754106\n",
      "              precision    recall  f1-score   support\n",
      "\n",
      "           0       0.62      0.91      0.74     23937\n",
      "           1       0.84      0.46      0.59     24464\n",
      "\n",
      "    accuracy                           0.68     48401\n",
      "   macro avg       0.73      0.68      0.67     48401\n",
      "weighted avg       0.73      0.68      0.67     48401\n",
      "\n"
     ]
    }
   ],
   "source": [
    "preds_test = np.apply_along_axis(np.mean, 1, expit(trace['alpha'] + np.dot(X_test, np.transpose(results.drop(\"alpha\", axis=1)) )) )\n",
    "print(f\"Models AUC score: {roc_auc_score(y_test, preds_test)}\")\n",
    "print(classification_report(y_test, get_predictions(preds_test)))"
   ]
  },
  {
   "cell_type": "code",
   "execution_count": 19,
   "id": "decreased-morgan",
   "metadata": {},
   "outputs": [
    {
     "data": {
      "text/html": [
       "\n",
       "    <div>\n",
       "        <style>\n",
       "            /* Turns off some styling */\n",
       "            progress {\n",
       "                /* gets rid of default border in Firefox and Opera. */\n",
       "                border: none;\n",
       "                /* Needs to be in here for Safari polyfill so background images work as expected. */\n",
       "                background-size: auto;\n",
       "            }\n",
       "            .progress-bar-interrupted, .progress-bar-interrupted::-webkit-progress-bar {\n",
       "                background: #F44336;\n",
       "            }\n",
       "        </style>\n",
       "      <progress value='29' class='' max='29' style='width:300px; height:20px; vertical-align: middle;'></progress>\n",
       "      100.00% [29/29 00:00<00:00 logp = -4,616.7, ||grad|| = 0.093909]\n",
       "    </div>\n",
       "    "
      ],
      "text/plain": [
       "<IPython.core.display.HTML object>"
      ]
     },
     "metadata": {},
     "output_type": "display_data"
    },
    {
     "name": "stdout",
     "output_type": "stream",
     "text": [
      "\n"
     ]
    }
   ],
   "source": [
    "map_estimate = pm.find_MAP(model=model)"
   ]
  },
  {
   "cell_type": "code",
   "execution_count": 20,
   "id": "possible-huntington",
   "metadata": {},
   "outputs": [
    {
     "name": "stdout",
     "output_type": "stream",
     "text": [
      "Models AUC score: 0.813952\n",
      "              precision    recall  f1-score   support\n",
      "\n",
      "           0       0.65      0.88      0.75       125\n",
      "           1       0.82      0.54      0.65       125\n",
      "\n",
      "    accuracy                           0.71       250\n",
      "   macro avg       0.74      0.71      0.70       250\n",
      "weighted avg       0.74      0.71      0.70       250\n",
      "\n"
     ]
    }
   ],
   "source": [
    "preds_train = np.apply_along_axis(np.mean, 1, expit(trace['alpha'] + np.dot(X_train, np.transpose(pd.DataFrame(map_estimate, index=[0]).drop(\"alpha\", axis=1)) )) )\n",
    "print(f\"Models AUC score: {roc_auc_score(y_train, preds_train)}\")\n",
    "print(classification_report(y_train, get_predictions(preds_train)))"
   ]
  },
  {
   "cell_type": "code",
   "execution_count": 21,
   "id": "nasty-argument",
   "metadata": {},
   "outputs": [
    {
     "name": "stdout",
     "output_type": "stream",
     "text": [
      "Models AUC score: 0.8133059395776568\n",
      "              precision    recall  f1-score   support\n",
      "\n",
      "           0       0.64      0.89      0.74     23937\n",
      "           1       0.82      0.50      0.62     24464\n",
      "\n",
      "    accuracy                           0.69     48401\n",
      "   macro avg       0.73      0.70      0.68     48401\n",
      "weighted avg       0.73      0.69      0.68     48401\n",
      "\n"
     ]
    }
   ],
   "source": [
    "preds_test = np.apply_along_axis(np.mean, 1, expit(trace['alpha'] + np.dot(X_test, np.transpose(pd.DataFrame(map_estimate, index=[0]).drop(\"alpha\", axis=1)) )) )\n",
    "print(f\"Models AUC score: {roc_auc_score(y_test, preds_test)}\")\n",
    "print(classification_report(y_test, get_predictions(preds_test)))"
   ]
  },
  {
   "cell_type": "code",
   "execution_count": null,
   "id": "weighted-burner",
   "metadata": {},
   "outputs": [],
   "source": []
  },
  {
   "cell_type": "markdown",
   "id": "broke-header",
   "metadata": {},
   "source": [
    "### random forest"
   ]
  },
  {
   "cell_type": "code",
   "execution_count": null,
   "id": "timely-alfred",
   "metadata": {},
   "outputs": [],
   "source": []
  },
  {
   "cell_type": "markdown",
   "id": "sharing-brook",
   "metadata": {},
   "source": [
    "### decision tree"
   ]
  },
  {
   "cell_type": "code",
   "execution_count": null,
   "id": "human-throat",
   "metadata": {},
   "outputs": [],
   "source": []
  },
  {
   "cell_type": "markdown",
   "id": "latest-cancer",
   "metadata": {},
   "source": [
    "### naive bayes"
   ]
  },
  {
   "cell_type": "code",
   "execution_count": null,
   "id": "cordless-chair",
   "metadata": {},
   "outputs": [],
   "source": []
  }
 ],
 "metadata": {
  "kernelspec": {
   "display_name": "Python 3",
   "language": "python",
   "name": "python3"
  },
  "language_info": {
   "codemirror_mode": {
    "name": "ipython",
    "version": 3
   },
   "file_extension": ".py",
   "mimetype": "text/x-python",
   "name": "python",
   "nbconvert_exporter": "python",
   "pygments_lexer": "ipython3",
   "version": "3.9.5"
  }
 },
 "nbformat": 4,
 "nbformat_minor": 5
}
