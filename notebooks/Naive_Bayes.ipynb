{
 "cells": [
  {
   "cell_type": "code",
   "execution_count": 1,
   "metadata": {},
   "outputs": [],
   "source": [
    "import numpy as np\n",
    "#import arviz as az\n",
    "#import pymc3 as pm\n",
    "import matplotlib.pyplot as plt\n",
    "import pandas as pd\n",
    "\n",
    "\n",
    "from sklearn.model_selection import LeaveOneOut\n",
    "from sklearn.metrics import roc_auc_score\n",
    "from sklearn.metrics import classification_report\n",
    "\n",
    "import numpy as np\n",
    "from sklearn.naive_bayes import GaussianNB"
   ]
  },
  {
   "cell_type": "code",
   "execution_count": 2,
   "metadata": {},
   "outputs": [],
   "source": [
    "#train = pd.read_csv('train.csv')\n",
    "\n",
    "train = pd.read_csv(r\"C:\\Users\\Lina\\Desktop\\ITU\\Statistics\\A_dont_overfit\\original data - dont overfit\\train.csv\") #.sample(frac=1.0)\n",
    "test = pd.read_csv(r\"C:\\Users\\Lina\\Desktop\\ITU\\Statistics\\A_dont_overfit\\original data - dont overfit\\test.csv\")\n",
    "submission = pd.read_csv(r\"C:\\Users\\Lina\\Desktop\\ITU\\Statistics\\A_dont_overfit\\original data - dont overfit\\sample_submission.csv\")"
   ]
  },
  {
   "cell_type": "code",
   "execution_count": 3,
   "metadata": {},
   "outputs": [],
   "source": [
    "f_cols = [col for col in train.columns if col not in [\"id\", \"target\"]]\n",
    "X, y = train[f_cols].values, train[\"target\"].values"
   ]
  },
  {
   "cell_type": "code",
   "execution_count": 4,
   "metadata": {},
   "outputs": [
    {
     "name": "stdout",
     "output_type": "stream",
     "text": [
      "0.9893048128342246\n",
      "0.7142857142857143\n"
     ]
    }
   ],
   "source": [
    "from sklearn.model_selection import train_test_split  \n",
    "x_train, x_test, y_train, y_test = train_test_split(train.iloc[:,2:], train['target'], test_size = 0.25, random_state = 5)\n",
    "\n",
    "clf = GaussianNB()\n",
    "clf.fit(x_train, y_train)\n",
    "\n",
    "# #GaussianNB()\n",
    "predict_train = clf.predict(x_train)\n",
    "test_predict = clf.predict(x_test)\n",
    "\n",
    "print(clf.score(x_train, y_train))\n",
    "print(clf.score(x_test, y_test))"
   ]
  },
  {
   "cell_type": "code",
   "execution_count": 5,
   "metadata": {},
   "outputs": [],
   "source": [
    "def get_predictions(x):\n",
    "    return [1 if xi >= 0.5 else 0 for xi in x]\n",
    "\n",
    "def classification_report_print_predictions(X):\n",
    "  loo = LeaveOneOut()\n",
    "  preds = np.zeros(len(y))\n",
    "  for i, (train_index, test_index) in enumerate(loo.split(X)):\n",
    "      X_train, X_test = X[train_index], X[test_index]\n",
    "      y_train = y[train_index]\n",
    "      #clf = LogisticRegression(random_state=0).fit(X_train, y_train)\n",
    "      clf = GaussianNB().fit(X_train, y_train)\n",
    "      preds[test_index] = clf.predict_proba(X_test)[:,1]\n",
    "\n",
    "  print(f\"Models AUC score: {roc_auc_score(y, preds)}\")\n",
    "  print(classification_report(y, get_predictions(preds)))"
   ]
  },
  {
   "cell_type": "code",
   "execution_count": 6,
   "metadata": {},
   "outputs": [
    {
     "name": "stdout",
     "output_type": "stream",
     "text": [
      "Models AUC score: 0.7394444444444443\n",
      "              precision    recall  f1-score   support\n",
      "\n",
      "         0.0       0.73      0.46      0.56        90\n",
      "         1.0       0.75      0.91      0.82       160\n",
      "\n",
      "    accuracy                           0.74       250\n",
      "   macro avg       0.74      0.68      0.69       250\n",
      "weighted avg       0.74      0.74      0.73       250\n",
      "\n"
     ]
    }
   ],
   "source": [
    "classification_report_print_predictions(X)"
   ]
  },
  {
   "cell_type": "code",
   "execution_count": 8,
   "metadata": {},
   "outputs": [],
   "source": [
    "#X, y = train[f_cols].values, train[\"target\"].values\n",
    "clf = GaussianNB().fit(X, y)\n",
    "\n",
    "X_test = test[f_cols].values\n",
    "y_pred = clf.predict_proba(X_test)[:,1]\n",
    "submission[\"target\"] = y_pred"
   ]
  },
  {
   "cell_type": "code",
   "execution_count": 11,
   "metadata": {},
   "outputs": [],
   "source": [
    "submission.to_csv(r\"C:\\Users\\Lina\\Desktop\\ITU\\Statistics\\A_dont_overfit\\original data - dont overfit\\16_naive_bayes.csv\", index=False)"
   ]
  },
  {
   "cell_type": "code",
   "execution_count": 10,
   "metadata": {},
   "outputs": [
    {
     "data": {
      "text/html": [
       "<div>\n",
       "<style scoped>\n",
       "    .dataframe tbody tr th:only-of-type {\n",
       "        vertical-align: middle;\n",
       "    }\n",
       "\n",
       "    .dataframe tbody tr th {\n",
       "        vertical-align: top;\n",
       "    }\n",
       "\n",
       "    .dataframe thead th {\n",
       "        text-align: right;\n",
       "    }\n",
       "</style>\n",
       "<table border=\"1\" class=\"dataframe\">\n",
       "  <thead>\n",
       "    <tr style=\"text-align: right;\">\n",
       "      <th></th>\n",
       "      <th>id</th>\n",
       "      <th>target</th>\n",
       "    </tr>\n",
       "  </thead>\n",
       "  <tbody>\n",
       "    <tr>\n",
       "      <th>0</th>\n",
       "      <td>250</td>\n",
       "      <td>0.751490</td>\n",
       "    </tr>\n",
       "    <tr>\n",
       "      <th>1</th>\n",
       "      <td>251</td>\n",
       "      <td>0.680556</td>\n",
       "    </tr>\n",
       "    <tr>\n",
       "      <th>2</th>\n",
       "      <td>252</td>\n",
       "      <td>0.814800</td>\n",
       "    </tr>\n",
       "    <tr>\n",
       "      <th>3</th>\n",
       "      <td>253</td>\n",
       "      <td>0.996082</td>\n",
       "    </tr>\n",
       "    <tr>\n",
       "      <th>4</th>\n",
       "      <td>254</td>\n",
       "      <td>0.706672</td>\n",
       "    </tr>\n",
       "  </tbody>\n",
       "</table>\n",
       "</div>"
      ],
      "text/plain": [
       "    id    target\n",
       "0  250  0.751490\n",
       "1  251  0.680556\n",
       "2  252  0.814800\n",
       "3  253  0.996082\n",
       "4  254  0.706672"
      ]
     },
     "execution_count": 10,
     "metadata": {},
     "output_type": "execute_result"
    }
   ],
   "source": [
    "submission.head()"
   ]
  },
  {
   "cell_type": "code",
   "execution_count": null,
   "metadata": {},
   "outputs": [],
   "source": [
    "# 0.675"
   ]
  },
  {
   "cell_type": "markdown",
   "metadata": {},
   "source": [
    "On Kaggle: name:'16_naive_bayes.csv', score: 0.675"
   ]
  },
  {
   "cell_type": "markdown",
   "metadata": {},
   "source": [
    "### Naive Bayes (Standard Scaled)"
   ]
  },
  {
   "cell_type": "code",
   "execution_count": 12,
   "metadata": {},
   "outputs": [
    {
     "name": "stdout",
     "output_type": "stream",
     "text": [
      "Models AUC score: 0.7394444444444443\n",
      "              precision    recall  f1-score   support\n",
      "\n",
      "         0.0       0.73      0.46      0.56        90\n",
      "         1.0       0.75      0.91      0.82       160\n",
      "\n",
      "    accuracy                           0.74       250\n",
      "   macro avg       0.74      0.68      0.69       250\n",
      "weighted avg       0.74      0.74      0.73       250\n",
      "\n"
     ]
    }
   ],
   "source": [
    "from sklearn.preprocessing import StandardScaler   \n",
    "\n",
    "sc = StandardScaler()  \n",
    "X_transf = sc.fit_transform(X)\n",
    "\n",
    "classification_report_print_predictions(X_transf)"
   ]
  }
 ],
 "metadata": {
  "interpreter": {
   "hash": "b3ba2566441a7c06988d0923437866b63cedc61552a5af99d1f4fb67d367b25f"
  },
  "kernelspec": {
   "display_name": "Python 3.8.8 64-bit ('base': conda)",
   "name": "python3"
  },
  "language_info": {
   "codemirror_mode": {
    "name": "ipython",
    "version": 3
   },
   "file_extension": ".py",
   "mimetype": "text/x-python",
   "name": "python",
   "nbconvert_exporter": "python",
   "pygments_lexer": "ipython3",
   "version": "3.8.8"
  },
  "orig_nbformat": 4
 },
 "nbformat": 4,
 "nbformat_minor": 2
}
